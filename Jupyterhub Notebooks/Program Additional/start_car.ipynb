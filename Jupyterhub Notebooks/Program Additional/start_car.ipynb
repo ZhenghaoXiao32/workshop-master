{
 "cells": [
  {
   "cell_type": "code",
   "execution_count": null,
   "metadata": {},
   "outputs": [],
   "source": [
    "comment = ''\n",
    "started = False\n",
    "while comment != 'exit':\n",
    "    comment = input('> ').lower()\n",
    "    if comment == 'start':\n",
    "        if started:\n",
    "            print('Car already started')\n",
    "        else:\n",
    "            started = True\n",
    "            print('Car Started')\n",
    "    elif comment == 'stop':\n",
    "        if not started:\n",
    "            print('Car already stopped')\n",
    "        else:\n",
    "            started = False\n",
    "            print('Car Stopped')\n",
    "    elif comment == 'help':\n",
    "        print(\"\"\"\n",
    "        start for Car Starting\n",
    "        stop for Car Stopping\n",
    "        exit for EXIT\n",
    "        \"\"\")\n",
    "    elif comment == 'exit':\n",
    "        print('Exiting a program')\n",
    "        break"
   ]
  }
 ],
 "metadata": {
  "kernelspec": {
   "display_name": "Python 3",
   "language": "python",
   "name": "python3"
  },
  "language_info": {
   "codemirror_mode": {
    "name": "ipython",
    "version": 3
   },
   "file_extension": ".py",
   "mimetype": "text/x-python",
   "name": "python",
   "nbconvert_exporter": "python",
   "pygments_lexer": "ipython3",
   "version": "3.8.2"
  }
 },
 "nbformat": 4,
 "nbformat_minor": 4
}
