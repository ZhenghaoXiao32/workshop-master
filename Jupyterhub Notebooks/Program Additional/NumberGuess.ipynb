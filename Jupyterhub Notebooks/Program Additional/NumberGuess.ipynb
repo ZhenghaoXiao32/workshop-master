{
 "cells": [
  {
   "cell_type": "code",
   "execution_count": null,
   "metadata": {},
   "outputs": [],
   "source": [
    "from random import randint\n",
    "number=randint(1,10)\n",
    "player_name=input(\"Hello, what's your name? \")\n",
    "number_of_guess=0\n",
    "print(\"Okay! \"+player_name+ ' I am Guessing number between 1 and 10:')\n",
    "while number_of_guess<5:\n",
    "    guess=int(input())\n",
    "    number_of_guess+=1\n",
    "    if guess<number:\n",
    "        print(\"Your guess is too low\")\n",
    "    if guess>number:\n",
    "        print(\"Your guess is too high\")\n",
    "    if guess==number:\n",
    "        break\n",
    "if guess==number:\n",
    "    print(\"You guess the number in \"+str(number_of_guess)+\" tries!\")\n",
    "else:\n",
    "    print(\"You did not guess the number,The number was \"+str(number))"
   ]
  }
 ],
 "metadata": {
  "kernelspec": {
   "display_name": "Python 3",
   "language": "python",
   "name": "python3"
  },
  "language_info": {
   "codemirror_mode": {
    "name": "ipython",
    "version": 3
   },
   "file_extension": ".py",
   "mimetype": "text/x-python",
   "name": "python",
   "nbconvert_exporter": "python",
   "pygments_lexer": "ipython3",
   "version": "3.8.2"
  }
 },
 "nbformat": 4,
 "nbformat_minor": 4
}
