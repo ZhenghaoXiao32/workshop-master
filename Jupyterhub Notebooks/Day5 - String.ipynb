{
 "cells": [
  {
   "cell_type": "markdown",
   "metadata": {},
   "source": [
    "# String"
   ]
  },
  {
   "cell_type": "markdown",
   "metadata": {},
   "source": [
    "Python uses C-style string formatting to create new, formatted strings. The \"%\" operator is used to format a set of variables enclosed in a \"tuple\" (a fixed size list), together with a format string, which contains normal text together with \"argument specifiers\", special symbols like \"%s\" and \"%d\".\n",
    "\n",
    "Let's say you have a variable called \"name\" with your user name in it, and you would then like to print(out a greeting to that user.)"
   ]
  },
  {
   "cell_type": "code",
   "execution_count": 1,
   "metadata": {},
   "outputs": [
    {
     "name": "stdout",
     "output_type": "stream",
     "text": [
      "Hello, John!\n"
     ]
    }
   ],
   "source": [
    "# This prints out \"Hello, John!\"\n",
    "name = \"John\"\n",
    "print(\"Hello, %s!\" % name)"
   ]
  },
  {
   "cell_type": "markdown",
   "metadata": {},
   "source": [
    "To use two or more argument specifiers, use a tuple (parentheses):"
   ]
  },
  {
   "cell_type": "code",
   "execution_count": 3,
   "metadata": {},
   "outputs": [
    {
     "name": "stdout",
     "output_type": "stream",
     "text": [
      "John is 23 years old.\n"
     ]
    }
   ],
   "source": [
    "# This prints out \"John is 23 years old.\"\n",
    "name = \"John\"\n",
    "age = 23\n",
    "print(\"%s is %d years old.\" % (name, age))"
   ]
  },
  {
   "cell_type": "markdown",
   "metadata": {},
   "source": [
    "Any object which is not a string can be formatted using the %s operator as well. The string which returns from the \"repr\" method of that object is formatted as the string. For example:"
   ]
  },
  {
   "cell_type": "code",
   "execution_count": 5,
   "metadata": {},
   "outputs": [
    {
     "name": "stdout",
     "output_type": "stream",
     "text": [
      "A list: [1, 2, 3]\n"
     ]
    }
   ],
   "source": [
    "# This prints out: A list: [1, 2, 3]\n",
    "mylist = [1,2,3]\n",
    "print(\"A list: %s\" % mylist)"
   ]
  },
  {
   "cell_type": "markdown",
   "metadata": {},
   "source": [
    "Here are some basic argument specifiers you should know:\n",
    "\n",
    "%s - String (or any object with a string representation, like numbers)\n",
    "\n",
    "%d - Integers\n",
    "\n",
    "%f - Floating point numbers\n",
    "\n",
    "%.<number of digits>f - Floating point numbers with a fixed amount of digits to the right of the dot.\n",
    "\n",
    "%x/%X - Integers in hex representation (lowercase/uppercase)\n",
    "\n",
    "# Exercise\n",
    "    \n",
    "You will need to write a format string which prints out the data using the following syntax: Hello John Doe. Your current balance is $53.44."
   ]
  },
  {
   "cell_type": "code",
   "execution_count": null,
   "metadata": {},
   "outputs": [],
   "source": [
    "data = (\"John\", \"Doe\", 53.44)\n",
    "format_string = \"Hello\"\n",
    "\n",
    "print(format_string % data)"
   ]
  },
  {
   "cell_type": "code",
   "execution_count": 7,
   "metadata": {},
   "outputs": [
    {
     "name": "stdout",
     "output_type": "stream",
     "text": [
      "Hello John Doe. Your current balance is $53.44.\n"
     ]
    }
   ],
   "source": [
    "data = (\"John\", \"Doe\", 53.44)\n",
    "format_string = \"Hello %s %s. Your current balance is $%s.\"\n",
    "\n",
    "print(format_string % data)"
   ]
  },
  {
   "cell_type": "markdown",
   "metadata": {},
   "source": [
    "Strings are bits of text. They can be defined as anything between quotes:"
   ]
  },
  {
   "cell_type": "code",
   "execution_count": 8,
   "metadata": {},
   "outputs": [],
   "source": [
    "astring = \"Hello world!\"\n",
    "astring2 = 'Hello world!'"
   ]
  },
  {
   "cell_type": "markdown",
   "metadata": {},
   "source": [
    "As you can see, the first thing you learned was printing a simple sentence. This sentence was stored by Python as a string. However, instead of immediately printing strings out, we will explore the various things you can do to them. You can also use single quotes to assign a string. However, you will face problems if the value to be assigned itself contains single quotes.For example to assign the string in these bracket(single quotes are ' ') you need to use double quotes only like this"
   ]
  },
  {
   "cell_type": "code",
   "execution_count": 1,
   "metadata": {},
   "outputs": [
    {
     "name": "stdout",
     "output_type": "stream",
     "text": [
      "single quotes are ' '\n",
      "12\n"
     ]
    }
   ],
   "source": [
    "astring = \"Hello world!\"\n",
    "print(\"single quotes are ' '\")\n",
    "\n",
    "print(len(astring))"
   ]
  },
  {
   "cell_type": "markdown",
   "metadata": {},
   "source": [
    "That prints out 12, because \"Hello world!\" is 12 characters long, including punctuation and spaces."
   ]
  },
  {
   "cell_type": "code",
   "execution_count": 2,
   "metadata": {},
   "outputs": [
    {
     "name": "stdout",
     "output_type": "stream",
     "text": [
      "4\n"
     ]
    }
   ],
   "source": [
    "astring = \"Hello world!\"\n",
    "print(astring.index(\"o\"))"
   ]
  },
  {
   "cell_type": "markdown",
   "metadata": {},
   "source": [
    "That prints out 4, because the location of the first occurrence of the letter \"o\" is 4 characters away from the first character. Notice how there are actually two o's in the phrase - this method only recognizes the first.\n",
    "\n",
    "But why didn't it print out 5? Isn't \"o\" the fifth character in the string? To make things more simple, Python (and most other programming languages) start things at 0 instead of 1. So the index of \"o\" is 4."
   ]
  },
  {
   "cell_type": "code",
   "execution_count": 3,
   "metadata": {},
   "outputs": [
    {
     "name": "stdout",
     "output_type": "stream",
     "text": [
      "3\n"
     ]
    }
   ],
   "source": [
    "astring = \"Hello world!\"\n",
    "print(astring.count(\"l\"))"
   ]
  },
  {
   "cell_type": "markdown",
   "metadata": {},
   "source": [
    "This prints a slice of the string, starting at index 3, and ending at index 6. But why 6 and not 7? Again, most programming languages do this - it makes doing math inside those brackets easier.\n",
    "\n",
    "If you just have one number in the brackets, it will give you the single character at that index. If you leave out the first number but keep the colon, it will give you a slice from the start to the number you left in. If you leave out the second number, it will give you a slice from the first number to the end.\n",
    "\n",
    "You can even put negative numbers inside the brackets. They are an easy way of starting at the end of the string instead of the beginning. This way, -3 means \"3rd character from the end\"."
   ]
  },
  {
   "cell_type": "code",
   "execution_count": 4,
   "metadata": {},
   "outputs": [
    {
     "name": "stdout",
     "output_type": "stream",
     "text": [
      "l \n"
     ]
    }
   ],
   "source": [
    "astring = \"Hello world!\"\n",
    "print(astring[3:7:2])"
   ]
  },
  {
   "cell_type": "markdown",
   "metadata": {},
   "source": [
    "Note that both of them produce same output\n",
    "\n",
    "There is no function like strrev in C to reverse a string. But with the above mentioned type of slice syntax you can easily reverse a string like this"
   ]
  },
  {
   "cell_type": "code",
   "execution_count": 6,
   "metadata": {},
   "outputs": [
    {
     "name": "stdout",
     "output_type": "stream",
     "text": [
      "!dlrow olleH\n"
     ]
    }
   ],
   "source": [
    "astring = \"Hello world!\"\n",
    "print(astring[::-1])"
   ]
  },
  {
   "cell_type": "code",
   "execution_count": 7,
   "metadata": {},
   "outputs": [
    {
     "name": "stdout",
     "output_type": "stream",
     "text": [
      "HELLO WORLD!\n",
      "hello world!\n"
     ]
    }
   ],
   "source": [
    "astring = \"Hello world!\"\n",
    "print(astring.upper())\n",
    "print(astring.lower())"
   ]
  },
  {
   "cell_type": "markdown",
   "metadata": {},
   "source": [
    "This is used to determine whether the string starts with something or ends with something, respectively. The first one will print True, as the string starts with \"Hello\". The second one will print False, as the string certainly does not end with \"asdfasdfasdf\"."
   ]
  },
  {
   "cell_type": "code",
   "execution_count": 8,
   "metadata": {},
   "outputs": [],
   "source": [
    "astring = \"Hello world!\"\n",
    "afewwords = astring.split(\" \")"
   ]
  },
  {
   "cell_type": "markdown",
   "metadata": {},
   "source": [
    "This splits the string into a bunch of strings grouped together in a list. Since this example splits at a space, the first item in the list will be \"Hello\", and the second will be \"world!\"."
   ]
  },
  {
   "cell_type": "markdown",
   "metadata": {},
   "source": [
    "# Exercise\n",
    "Try to fix the code to print out the correct information by changing the string."
   ]
  },
  {
   "cell_type": "code",
   "execution_count": 9,
   "metadata": {},
   "outputs": [
    {
     "name": "stdout",
     "output_type": "stream",
     "text": [
      "Length of s = 38\n",
      "The first occurrence of the letter a = 13\n",
      "a occurs 1 times\n",
      "The first five characters are 'Hey t'\n",
      "The next five characters are 'here!'\n",
      "The thirteenth character is 'h'\n",
      "The characters with odd index are 'e hr!wa hudti tigb?'\n",
      "The last five characters are 'g be?'\n",
      "String in uppercase: HEY THERE! WHAT SHOULD THIS STRING BE?\n",
      "String in lowercase: hey there! what should this string be?\n",
      "Split the words of the string: ['Hey', 'there!', 'what', 'should', 'this', 'string', 'be?']\n"
     ]
    }
   ],
   "source": [
    "s = \"Hey there! what should this string be?\"\n",
    "# Length should be 20\n",
    "print(\"Length of s = %d\" % len(s))\n",
    "\n",
    "# First occurrence of \"a\" should be at index 8\n",
    "print(\"The first occurrence of the letter a = %d\" % s.index(\"a\"))\n",
    "\n",
    "# Number of a's should be 2\n",
    "print(\"a occurs %d times\" % s.count(\"a\"))\n",
    "\n",
    "# Slicing the string into bits\n",
    "print(\"The first five characters are '%s'\" % s[:5]) # Start to 5\n",
    "print(\"The next five characters are '%s'\" % s[5:10]) # 5 to 10\n",
    "print(\"The thirteenth character is '%s'\" % s[12]) # Just number 12\n",
    "print(\"The characters with odd index are '%s'\" %s[1::2]) #(0-based indexing)\n",
    "print(\"The last five characters are '%s'\" % s[-5:]) # 5th-from-last to end\n",
    "\n",
    "# Convert everything to uppercase\n",
    "print(\"String in uppercase: %s\" % s.upper())\n",
    "\n",
    "# Convert everything to lowercase\n",
    "print(\"String in lowercase: %s\" % s.lower())\n",
    "\n",
    "# Check how a string starts\n",
    "if s.startswith(\"Str\"):\n",
    "    print(\"String starts with 'Str'. Good!\")\n",
    "\n",
    "# Check how a string ends\n",
    "if s.endswith(\"ome!\"):\n",
    "    print(\"String ends with 'ome!'. Good!\")\n",
    "\n",
    "# Split the string into three separate strings,\n",
    "# each containing only a word\n",
    "print(\"Split the words of the string: %s\" % s.split(\" \"))"
   ]
  },
  {
   "cell_type": "code",
   "execution_count": 10,
   "metadata": {},
   "outputs": [
    {
     "name": "stdout",
     "output_type": "stream",
     "text": [
      "Length of s = 20\n",
      "The first occurrence of the letter a = 8\n",
      "a occurs 2 times\n",
      "The first five characters are 'Strin'\n",
      "The next five characters are 'gs ar'\n",
      "The thirteenth character is 'a'\n",
      "The characters with odd index are 'tig r wsm!'\n",
      "The last five characters are 'some!'\n",
      "String in uppercase: STRINGS ARE AWESOME!\n",
      "String in lowercase: strings are awesome!\n",
      "String starts with 'Str'. Good!\n",
      "String ends with 'ome!'. Good!\n",
      "Split the words of the string: ['Strings', 'are', 'awesome!']\n"
     ]
    }
   ],
   "source": [
    "s = \"Strings are awesome!\"\n",
    "# Length should be 20\n",
    "print(\"Length of s = %d\" % len(s))\n",
    "\n",
    "# First occurrence of \"a\" should be at index 8\n",
    "print(\"The first occurrence of the letter a = %d\" % s.index(\"a\"))\n",
    "\n",
    "# Number of a's should be 2\n",
    "print(\"a occurs %d times\" % s.count(\"a\"))\n",
    "\n",
    "# Slicing the string into bits\n",
    "print(\"The first five characters are '%s'\" % s[:5]) # Start to 5\n",
    "print(\"The next five characters are '%s'\" % s[5:10]) # 5 to 10\n",
    "print(\"The thirteenth character is '%s'\" % s[12]) # Just number 12\n",
    "print(\"The characters with odd index are '%s'\" %s[1::2]) #(0-based indexing)\n",
    "print(\"The last five characters are '%s'\" % s[-5:]) # 5th-from-last to end\n",
    "\n",
    "# Convert everything to uppercase\n",
    "print(\"String in uppercase: %s\" % s.upper())\n",
    "\n",
    "# Convert everything to lowercase\n",
    "print(\"String in lowercase: %s\" % s.lower())\n",
    "\n",
    "# Check how a string starts\n",
    "if s.startswith(\"Str\"):\n",
    "    print(\"String starts with 'Str'. Good!\")\n",
    "\n",
    "# Check how a string ends\n",
    "if s.endswith(\"ome!\"):\n",
    "    print(\"String ends with 'ome!'. Good!\")\n",
    "\n",
    "# Split the string into three separate strings,\n",
    "# each containing only a word\n",
    "print(\"Split the words of the string: %s\" % s.split(\" \"))"
   ]
  }
 ],
 "metadata": {
  "kernelspec": {
   "display_name": "Python 3",
   "language": "python",
   "name": "python3"
  },
  "language_info": {
   "codemirror_mode": {
    "name": "ipython",
    "version": 3
   },
   "file_extension": ".py",
   "mimetype": "text/x-python",
   "name": "python",
   "nbconvert_exporter": "python",
   "pygments_lexer": "ipython3",
   "version": "3.8.2"
  }
 },
 "nbformat": 4,
 "nbformat_minor": 4
}
