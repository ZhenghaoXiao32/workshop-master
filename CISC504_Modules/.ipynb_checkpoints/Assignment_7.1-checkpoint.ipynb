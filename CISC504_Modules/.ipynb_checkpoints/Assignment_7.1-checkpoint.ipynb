{
 "cells": [
  {
   "cell_type": "markdown",
   "metadata": {},
   "source": [
    " <h1 style=\"text-align:center\">Harrisburg University of Science & Technology</h1>\n",
    "    <h2 style=\"text-align:center\">CISC 504 Principles of Programming Languages </h2>\n",
    "        <h3 style=\"text-align:center\">Assignment 7.1: Becoming Pythonic Part 1</h3>\n",
    "\n"
   ]
  },
  {
   "cell_type": "markdown",
   "metadata": {},
   "source": [
    "<h3>Instructions:</h3>\n",
    "<li/>Use as many code cells as you need to implement the tasks in below.\n",
    "<li/>Submit a Jupyter Notebook (iPython) doc including a 5 minutes walk-through recording (a YouTube recordings is highly recommended.)\n",
    "<li/><b>DO NOT JUST SUBMIT THE NOTEBOOK</b>"
   ]
  },
  {
   "cell_type": "markdown",
   "metadata": {},
   "source": [
    "<h3>(1) Building a Chess Tournament</h3>\n",
    "You are going to use list comprehension to create fixtures for the tournament. The fixtures should read: \"player_1 vs. player_2\" where <i>player_x</i> should be replaced with the player's name. You are going to create a list of these fixtures so everyone plays each person twice, once in the form \"player_1 vs. player_2\" and \"player_2 vs. player_1\". You do not want a fixture of players playing against themselves.\n",
    "\n",
    "The steps ares as follows:\n",
    "1. Create a list comprehension that uses this list of names twice to create tournament fixtures in the correct format.\n",
    "2. Add a filter to the comprehension so that no player is pitted against themselves.\n",
    "3. Print the list of tournament fixtures.\n",
    "\n",
    "The list for the names has been provided below. \n"
   ]
  },
  {
   "cell_type": "code",
   "execution_count": 2,
   "metadata": {},
   "outputs": [],
   "source": [
    "names = [\"Magnus Carlsen\", \"Fabiano Caruana\", \"Yifan Hou\", \"Wenjun Ju\"]"
   ]
  },
  {
   "cell_type": "markdown",
   "metadata": {},
   "source": [
    "<h3>(2) Building a Scorecard Using Dictionary Comprehensions and Multiple Lists</h3>\n",
    "For this assignment, you will be building a scoreboard for exam scores in a college class. We want to use dictionary comprehension to createa a dictionary that represents the scores for each person. The people and scores are as follows:\n",
    "<table>\n",
    "    <thead>\n",
    "        <tr>\n",
    "            <td>\n",
    "                Person\n",
    "            </td>\n",
    "            <td>\n",
    "                Score\n",
    "            </td>\n",
    "    </thead>\n",
    "    <tbody>\n",
    "        <tr>\n",
    "            <td>\n",
    "                Vivian\n",
    "            </td>\n",
    "            <td>\n",
    "                70\n",
    "        </tr>\n",
    "        <tr>\n",
    "            <td>\n",
    "                Rachel\n",
    "            </td>\n",
    "            <td>\n",
    "                82\n",
    "            </td>\n",
    "        </tr>\n",
    "        <tr>\n",
    "            <td>\n",
    "                Tom\n",
    "            </td>\n",
    "            <td>\n",
    "            80\n",
    "                </td>\n",
    "        </tr>\n",
    "        <tr>\n",
    "            <td>\n",
    "                Adrian\n",
    "            </td>\n",
    "            <td>\n",
    "                79\n",
    "            </td>\n",
    "        </tr>\n",
    "  </tbody>\n",
    "</table>\n",
    "\n",
    "Using dictionary, creata a dictionary that represents the scores for each person and print out the result. "
   ]
  },
  {
   "cell_type": "code",
   "execution_count": null,
   "metadata": {},
   "outputs": [],
   "source": []
  }
 ],
 "metadata": {
  "colab": {
   "name": "Activity02.ipynb",
   "provenance": [],
   "version": "0.3.2"
  },
  "kernelspec": {
   "display_name": "Python 3",
   "language": "python",
   "name": "python3"
  },
  "language_info": {
   "codemirror_mode": {
    "name": "ipython",
    "version": 3
   },
   "file_extension": ".py",
   "mimetype": "text/x-python",
   "name": "python",
   "nbconvert_exporter": "python",
   "pygments_lexer": "ipython3",
   "version": "3.7.4"
  },
  "latex_envs": {
   "LaTeX_envs_menu_present": true,
   "autoclose": false,
   "autocomplete": true,
   "bibliofile": "biblio.bib",
   "cite_by": "apalike",
   "current_citInitial": 1,
   "eqLabelWithNumbers": true,
   "eqNumInitial": 1,
   "hotkeys": {
    "equation": "Ctrl-E",
    "itemize": "Ctrl-I"
   },
   "labels_anchors": false,
   "latex_user_defs": false,
   "report_style_numbering": false,
   "user_envs_cfg": false
  },
  "varInspector": {
   "cols": {
    "lenName": 16,
    "lenType": 16,
    "lenVar": 40
   },
   "kernels_config": {
    "python": {
     "delete_cmd_postfix": "",
     "delete_cmd_prefix": "del ",
     "library": "var_list.py",
     "varRefreshCmd": "print(var_dic_list())"
    },
    "r": {
     "delete_cmd_postfix": ") ",
     "delete_cmd_prefix": "rm(",
     "library": "var_list.r",
     "varRefreshCmd": "cat(var_dic_list()) "
    }
   },
   "types_to_exclude": [
    "module",
    "function",
    "builtin_function_or_method",
    "instance",
    "_Feature"
   ],
   "window_display": false
  }
 },
 "nbformat": 4,
 "nbformat_minor": 2
}
