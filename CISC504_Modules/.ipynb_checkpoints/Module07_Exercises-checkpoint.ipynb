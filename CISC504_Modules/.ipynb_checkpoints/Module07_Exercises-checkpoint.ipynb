{
 "cells": [
  {
   "cell_type": "markdown",
   "metadata": {},
   "source": [
    " <h1 style=\"text-align:center\">Harrisburg University of Science & Technology</h1>\n",
    "    <h2 style=\"text-align:center\">CISC 504 Principles of Programming Languages </h2>\n",
    "    <h3 style=\"text-align:center\">Exercise Set 7: Becoming Pythonic\n",
    "</h3>\n"
   ]
  },
  {
   "cell_type": "markdown",
   "metadata": {},
   "source": [
    "<p>In this module, you will learn how to truly write your code in a <i>Pythonic</i> way. Pythonic code is succinct, expressive, and readable. You will learn how to create data structures using generators and how Python comprehension works for lists, dictionaries, and sets. You will see a higher emphises on <code>collection.defaultdict</code>'s to prevent exceptions. We will also be creating iterators to allow Pythonic access to your own custom data structures (classes). These iterator functions can help defer complex calculations in preference to more powerful code. And finally we will be using the <code>itertools</code> module to express complex sequence and the <code>re</code> module to handle regular expressions. </p>"
   ]
  },
  {
   "cell_type": "markdown",
   "metadata": {},
   "source": [
    "In Python, we have a this concept, known as the \"Zen of Python\" which states: \"There should be one — and preferably only one — obvious way to do it.\" which was first coined by one of the original engineer behind Python, Tim Peters. Code is Pythonic if it clearly and obviously works the way that a Python programmer would expect it to work. Sometimes, writing Pythonic code is easy and entails doing\n",
    "the simplest thing that could possibly work. However, if you are writing a class, data structure, or module that will be used by other programmers, then sometimes you must go the extra mile so that they will be able to do the simplest thing that could possibly work. "
   ]
  },
  {
   "cell_type": "markdown",
   "metadata": {},
   "source": [
    "<h3>Python Data Structure Comprehension</h3>\n",
    "We are going to start with <b>list comprehension</b>. List comprehension in Python is an expressive way to create sequenced data. List comprehension takes care of iterating over the input values and building the list so the actual development part can be focused on.\n",
    "\n",
    "List comprehension looks like a collection of a few different syntaxes that we've used elsewhere while learning Python. List comprehensions are inside square brackets \\[  \\] just like lists, and use a <code><b>for</b> elements <b>in</b> list</code> verbiage syntax to build the list. Optionally, you can also use <code>if</code> statements to filter an existing list."
   ]
  },
  {
   "cell_type": "markdown",
   "metadata": {},
   "source": [
    "First we are going to make a transform our old iterative codet to a list comprehension code."
   ]
  },
  {
   "cell_type": "code",
   "execution_count": 1,
   "metadata": {},
   "outputs": [
    {
     "name": "stdout",
     "output_type": "stream",
     "text": [
      "[1, 8, 27, 64, 125]\n"
     ]
    }
   ],
   "source": [
    "cubes = []\n",
    "for x in [1,2,3,4,5]:\n",
    "    cubes.append(x**3) \n",
    "print(cubes)"
   ]
  },
  {
   "cell_type": "markdown",
   "metadata": {},
   "source": [
    "Now there's technically nothing wrong with this code. But we can do it in a more Pythonic way:"
   ]
  },
  {
   "cell_type": "code",
   "execution_count": 4,
   "metadata": {},
   "outputs": [
    {
     "name": "stdout",
     "output_type": "stream",
     "text": [
      "[1, 8, 27, 64, 125]\n"
     ]
    }
   ],
   "source": [
    "cubes = [x**3 for x in [1,2,3,4,5]]\n",
    "print(cubes)"
   ]
  },
  {
   "cell_type": "markdown",
   "metadata": {},
   "source": [
    "That is how we start our Pythonic code refactoring. We can also do list comprehension from multiple input lists. Here we have two lists, one of strings and one of integers. We are going to multiply the strings by the integers to get a single list that has the strings repeated. This type of comprehensions works in either order of inputs. Other operations may be order dependant however. Be cautious and test your code!"
   ]
  },
  {
   "cell_type": "code",
   "execution_count": 3,
   "metadata": {
    "colab": {
     "base_uri": "https://localhost:8080/",
     "height": 35
    },
    "colab_type": "code",
    "id": "Eokj8XQ4fVvn",
    "outputId": "6ecf898c-e7ab-408a-850a-b4a77599aadf"
   },
   "outputs": [
    {
     "name": "stdout",
     "output_type": "stream",
     "text": [
      "['spam', 'spamspam', 'spamspamspam', 'eggs', 'eggseggs', 'eggseggseggs', 'chips', 'chipschips', 'chipschipschips']\n"
     ]
    }
   ],
   "source": [
    "print([x*y for x in ['spam', 'eggs', 'chips'] for y in [1,2,3]])"
   ]
  },
  {
   "cell_type": "code",
   "execution_count": 2,
   "metadata": {
    "colab": {
     "base_uri": "https://localhost:8080/",
     "height": 35
    },
    "colab_type": "code",
    "id": "QfU2sA04gCCX",
    "outputId": "02058b34-f747-415f-c954-77dbaa4dcc8e"
   },
   "outputs": [
    {
     "name": "stdout",
     "output_type": "stream",
     "text": [
      "['spam', 'eggs', 'chips', 'spamspam', 'eggseggs', 'chipschips', 'spamspamspam', 'eggseggseggs', 'chipschipschips']\n"
     ]
    }
   ],
   "source": [
    "print([x*y for x in [1,2,3] for y in ['spam', 'eggs', 'chips']])"
   ]
  },
  {
   "cell_type": "markdown",
   "metadata": {},
   "source": [
    "Simple list comprehension can also be translated into <b>set comprehension</b>. The main differences between lists in sets are that sets are unordered and set elements are entirely unique. Instead of using square brackets \\[ \\], you can use curly braces { }"
   ]
  },
  {
   "cell_type": "code",
   "execution_count": 5,
   "metadata": {
    "colab": {
     "base_uri": "https://localhost:8080/",
     "height": 35
    },
    "colab_type": "code",
    "id": "cEFb7FzxhHsG",
    "outputId": "9473e122-46b6-4f27-ecbb-e8ef1c79dcc8"
   },
   "outputs": [
    {
     "data": {
      "text/plain": [
       "[4, 3, 2, 1, 5, 4, 3, 2, 6, 5, 4, 3, 7, 6, 5, 4]"
      ]
     },
     "execution_count": 5,
     "metadata": {},
     "output_type": "execute_result"
    }
   ],
   "source": [
    "[a + b for a in [0,1,2,3] for b in [4,3,2,1]]"
   ]
  },
  {
   "cell_type": "code",
   "execution_count": 6,
   "metadata": {
    "colab": {
     "base_uri": "https://localhost:8080/",
     "height": 35
    },
    "colab_type": "code",
    "id": "oABPdQ-fhVnh",
    "outputId": "0c909853-19b1-4e34-e9d7-63735c3ece09"
   },
   "outputs": [
    {
     "data": {
      "text/plain": [
       "{1, 2, 3, 4, 5, 6, 7}"
      ]
     },
     "execution_count": 6,
     "metadata": {},
     "output_type": "execute_result"
    }
   ],
   "source": [
    "{a+b for a in [0,1,2,3] for b in [4,3,2,1]}"
   ]
  },
  {
   "cell_type": "markdown",
   "metadata": {},
   "source": [
    "You can also create dictionaries from <b>dictionary comprehension</b>. For dictionary comprehension, you need to set key's and values in the comprehension."
   ]
  },
  {
   "cell_type": "code",
   "execution_count": 1,
   "metadata": {
    "colab": {
     "base_uri": "https://localhost:8080/",
     "height": 35
    },
    "colab_type": "code",
    "id": "WCHIAGNUhmDy",
    "outputId": "cac1f7e9-baf2-4f94-873e-d5a838da9adf"
   },
   "outputs": [
    {
     "name": "stdout",
     "output_type": "stream",
     "text": [
      "{'Eric': 4, 'Graham': 6, 'Terry': 5, 'John': 4}\n"
     ]
    }
   ],
   "source": [
    "names = [\"Eric\", \"Graham\", \"Terry\", \"John\", \"Terry\"]\n",
    "print({k:len(k) for k in [\"Eric\", \"Graham\", \"Terry\", \"John\", \"Terry\"]})"
   ]
  },
  {
   "cell_type": "markdown",
   "metadata": {},
   "source": [
    "<h3>Default Dictionaries</h3>\n",
    "Next we are going to go look into a tool we looked at a in the previous module, <code>defaultdict</code> from the <code>collections</code> module. The standard Python error will have a KeyError if you try to look up an item in a dictionary that doesn't exist. You may have a design pattern in mind that would lend itself to adding an entry when a key doesn't exist. This is a rather common pattern. To implement this, you will need to leverage the <code>defaultdict</code> data structure from the <code>collections</code> module. "
   ]
  },
  {
   "cell_type": "markdown",
   "metadata": {},
   "source": [
    "Here we have a simple dictionary that will break if you try to look up a key that doesn't exist, like below."
   ]
  },
  {
   "cell_type": "code",
   "execution_count": 4,
   "metadata": {
    "colab": {
     "base_uri": "https://localhost:8080/",
     "height": 191
    },
    "colab_type": "code",
    "id": "1B2aH7OJiO0J",
    "outputId": "253dc7e9-c599-43ae-b82b-b1f2c8eaf8c1"
   },
   "outputs": [
    {
     "ename": "KeyError",
     "evalue": "'middle_name'",
     "output_type": "error",
     "traceback": [
      "\u001b[1;31m---------------------------------------------------------------------------\u001b[0m",
      "\u001b[1;31mKeyError\u001b[0m                                  Traceback (most recent call last)",
      "\u001b[1;32m<ipython-input-4-63d140c09c07>\u001b[0m in \u001b[0;36m<module>\u001b[1;34m\u001b[0m\n\u001b[0;32m      1\u001b[0m \u001b[0mjohn\u001b[0m \u001b[1;33m=\u001b[0m \u001b[1;33m{\u001b[0m \u001b[1;34m'first_name'\u001b[0m\u001b[1;33m:\u001b[0m \u001b[1;34m'John'\u001b[0m\u001b[1;33m,\u001b[0m \u001b[1;34m'surname'\u001b[0m\u001b[1;33m:\u001b[0m \u001b[1;34m'Cleese'\u001b[0m \u001b[1;33m}\u001b[0m\u001b[1;33m\u001b[0m\u001b[1;33m\u001b[0m\u001b[0m\n\u001b[1;32m----> 2\u001b[1;33m \u001b[0mjohn\u001b[0m\u001b[1;33m[\u001b[0m\u001b[1;34m'middle_name'\u001b[0m\u001b[1;33m]\u001b[0m\u001b[1;33m\u001b[0m\u001b[1;33m\u001b[0m\u001b[0m\n\u001b[0m",
      "\u001b[1;31mKeyError\u001b[0m: 'middle_name'"
     ]
    }
   ],
   "source": [
    "john = { 'first_name': 'John', 'surname': 'Cleese' }\n",
    "john['middle_name']"
   ]
  },
  {
   "cell_type": "markdown",
   "metadata": {},
   "source": [
    "We can convert this simple dictionary to a <code>defaultdict</code> by calling the <code>defaultdict</code> constructor and passing in two positional arugements. The first being the default which is any callabe object. The second is the dictionary you want to convert. "
   ]
  },
  {
   "cell_type": "code",
   "execution_count": 5,
   "metadata": {
    "colab": {
     "base_uri": "https://localhost:8080/",
     "height": 35
    },
    "colab_type": "code",
    "id": "Y380oPQwiemH",
    "outputId": "8b44688b-880e-427a-eac4-3b3f04884c23"
   },
   "outputs": [
    {
     "data": {
      "text/plain": [
       "''"
      ]
     },
     "execution_count": 5,
     "metadata": {},
     "output_type": "execute_result"
    }
   ],
   "source": [
    "from collections import defaultdict\n",
    "safe_john = defaultdict(str, john)\n",
    "safe_john['middle_name']"
   ]
  },
  {
   "cell_type": "markdown",
   "metadata": {},
   "source": [
    "Now you have a safe version of your older dictionary. "
   ]
  },
  {
   "cell_type": "markdown",
   "metadata": {},
   "source": [
    "As stated before, <code>defaultdict</code>'s can also take <b>lambda</b>'s as defaults. Below is a simple lambda that returns a string so if you look up a key that doesn't exist, the default value of the key is \"No!\""
   ]
  },
  {
   "cell_type": "code",
   "execution_count": 4,
   "metadata": {
    "colab": {
     "base_uri": "https://localhost:8080/",
     "height": 35
    },
    "colab_type": "code",
    "id": "3cNisNOiiicH",
    "outputId": "fa455929-0469-4703-e048-873651e4fab0"
   },
   "outputs": [],
   "source": [
    "from collections import defaultdict\n",
    "courses = defaultdict(lambda: 'No!')\n",
    "courses['Java'] = 'This is Java'"
   ]
  },
  {
   "cell_type": "code",
   "execution_count": 5,
   "metadata": {},
   "outputs": [
    {
     "name": "stdout",
     "output_type": "stream",
     "text": [
      "No!\n"
     ]
    }
   ],
   "source": [
    "print(courses['Python'])"
   ]
  },
  {
   "cell_type": "code",
   "execution_count": 6,
   "metadata": {},
   "outputs": [
    {
     "name": "stdout",
     "output_type": "stream",
     "text": [
      "This is Java\n"
     ]
    }
   ],
   "source": [
    "print(courses['Java'])"
   ]
  },
  {
   "cell_type": "markdown",
   "metadata": {},
   "source": [
    "<h3>Iterators</h3>\n",
    "Next we are going to cover the concept of <b>Iterators</b>. The reason we can use the syntax <code>for element in list</code> is because of the concepts of iterators. They also are what enables comprehensions. An iterator is essentially a contract with your data structure. The iterator is going to call a <code>__next__()</code> method that returns the next element in the data structure sequentially. Once the iterator reaches the end, it raise a signal to stop iterations. \n",
    "\n",
    "In most case you can simply use the iterator from a built in data structure that you are already using in the class, like a list parameter. That is what we are doing below, and the <code>\\__iter__()</code> on our class just callst the <code>\\__iter__()</code> from the list object. "
   ]
  },
  {
   "cell_type": "code",
   "execution_count": 7,
   "metadata": {
    "colab": {},
    "colab_type": "code",
    "id": "WcJfARtYi8HV"
   },
   "outputs": [],
   "source": [
    "class Interrogator:\n",
    "    def __init__(self, questions): # questions must be sequential\n",
    "        self.questions = questions\n",
    "    def __iter__(self):\n",
    "        return self.questions.__iter__()"
   ]
  },
  {
   "cell_type": "code",
   "execution_count": 9,
   "metadata": {
    "colab": {
     "base_uri": "https://localhost:8080/",
     "height": 72
    },
    "colab_type": "code",
    "id": "2NFHGIUsjGOa",
    "outputId": "5f976b40-357e-4cca-c039-5f879b2aa796"
   },
   "outputs": [
    {
     "name": "stdout",
     "output_type": "stream",
     "text": [
      "What is your name?\n",
      "What is your quest?\n",
      "What is the average airspeed velocity of an unladen swallow?\n",
      "What is your name?\n",
      "What is your quest?\n",
      "What is the average airspeed velocity of an unladen swallow?\n"
     ]
    }
   ],
   "source": [
    "questions = [\"What is your name?\", \"What is your quest?\", \n",
    "             \"What is the average airspeed velocity of an unladen swallow?\"]\n",
    "awkward_person = Interrogator(questions)\n",
    "for question in awkward_person:\n",
    "    print(question)\n",
    "\n",
    "    \n",
    "for question in awkward_person.questions:\n",
    "    print(question)\n",
    "\n"
   ]
  },
  {
   "cell_type": "markdown",
   "metadata": {},
   "source": [
    "If you need to make your own <code>\\__iter__()</code> you need to make sure it adheres to the standard contract with <code>\\__next__()</code>. \n",
    "\n",
    "In the below code you can see we have an object that creates a list of number from 2 to an upper bound provided by the user. We return the object itself in the <code>\\__iter__()</code> method and then we implenet our <code>\\__next__()</code> method to adhere to the contract. The next method checks to see if the list of candidate numbers empty, if it is, it stops by raiseing <code>StopIteration</code>. If it is not empty, we proceed with the iteration by setting the variable <code>next_prime</code> to the first element in the list. Then we cull the list by removing all numbers between the upper bound and the number itself that are evenly divisible by the target number, including the target number. This method is known as <b>The Sieve of Eratosthenes</b> and it is very useful for finding prime numbers in a list. \n",
    "\n",
    "Notice that no where are we building a list by appending to it or returning a list of any time. The <i>next</i> method simply returns the next element in the list of candidate numbers. You are <b>generating</b> the list one number at a time through iteration.  "
   ]
  },
  {
   "cell_type": "code",
   "execution_count": 12,
   "metadata": {
    "colab": {},
    "colab_type": "code",
    "id": "OwadPvvajoS9"
   },
   "outputs": [],
   "source": [
    "class PrimesBelow:\n",
    "    def __init__(self, bound):\n",
    "        self.candidate_numbers = list(range(2,bound))\n",
    "    def __iter__(self):\n",
    "        return self\n",
    "    def __next__(self):\n",
    "        if len(self.candidate_numbers) == 0:\n",
    "            raise StopIteration\n",
    "        next_prime = self.candidate_numbers[0]\n",
    "        self.candidate_numbers = [x for x in self.candidate_numbers if x % next_prime != 0]\n",
    "        return next_prime"
   ]
  },
  {
   "cell_type": "code",
   "execution_count": 13,
   "metadata": {
    "colab": {
     "base_uri": "https://localhost:8080/",
     "height": 35
    },
    "colab_type": "code",
    "id": "Iz0LI12Iju16",
    "outputId": "31ff3be9-9b70-4f57-aa52-3310e14f87b0"
   },
   "outputs": [
    {
     "name": "stdout",
     "output_type": "stream",
     "text": [
      "[2, 3, 5, 7, 11, 13, 17, 19, 23, 29, 31, 37, 41, 43, 47, 53, 59, 61, 67, 71, 73, 79, 83, 89, 97]\n"
     ]
    }
   ],
   "source": [
    "primes_to_a_hundred = [prime for prime in PrimesBelow(100)]\n",
    "print(primes_to_a_hundred)"
   ]
  },
  {
   "cell_type": "markdown",
   "metadata": {},
   "source": [
    "You can also create an iterator object using the <code>iter()</code> constructor and then use the <code>next()</code> function to iterate through it. You see at the end of the iteration, we get a StopIteration <i>error</i> because it was <b>raised</b> by the iterator we built."
   ]
  },
  {
   "cell_type": "code",
   "execution_count": 14,
   "metadata": {},
   "outputs": [
    {
     "ename": "StopIteration",
     "evalue": "",
     "output_type": "error",
     "traceback": [
      "\u001b[1;31m---------------------------------------------------------------------------\u001b[0m",
      "\u001b[1;31mStopIteration\u001b[0m                             Traceback (most recent call last)",
      "\u001b[1;32m<ipython-input-14-ff5143b333f7>\u001b[0m in \u001b[0;36m<module>\u001b[1;34m\u001b[0m\n\u001b[0;32m      2\u001b[0m \u001b[0mnext\u001b[0m\u001b[1;33m(\u001b[0m\u001b[0mprimes_under_five\u001b[0m\u001b[1;33m)\u001b[0m\u001b[1;33m\u001b[0m\u001b[1;33m\u001b[0m\u001b[0m\n\u001b[0;32m      3\u001b[0m \u001b[0mnext\u001b[0m\u001b[1;33m(\u001b[0m\u001b[0mprimes_under_five\u001b[0m\u001b[1;33m)\u001b[0m\u001b[1;33m\u001b[0m\u001b[1;33m\u001b[0m\u001b[0m\n\u001b[1;32m----> 4\u001b[1;33m \u001b[0mnext\u001b[0m\u001b[1;33m(\u001b[0m\u001b[0mprimes_under_five\u001b[0m\u001b[1;33m)\u001b[0m\u001b[1;33m\u001b[0m\u001b[1;33m\u001b[0m\u001b[0m\n\u001b[0m",
      "\u001b[1;32m<ipython-input-12-3789c7bbbd03>\u001b[0m in \u001b[0;36m__next__\u001b[1;34m(self)\u001b[0m\n\u001b[0;32m      6\u001b[0m     \u001b[1;32mdef\u001b[0m \u001b[0m__next__\u001b[0m\u001b[1;33m(\u001b[0m\u001b[0mself\u001b[0m\u001b[1;33m)\u001b[0m\u001b[1;33m:\u001b[0m\u001b[1;33m\u001b[0m\u001b[1;33m\u001b[0m\u001b[0m\n\u001b[0;32m      7\u001b[0m         \u001b[1;32mif\u001b[0m \u001b[0mlen\u001b[0m\u001b[1;33m(\u001b[0m\u001b[0mself\u001b[0m\u001b[1;33m.\u001b[0m\u001b[0mcandidate_numbers\u001b[0m\u001b[1;33m)\u001b[0m \u001b[1;33m==\u001b[0m \u001b[1;36m0\u001b[0m\u001b[1;33m:\u001b[0m\u001b[1;33m\u001b[0m\u001b[1;33m\u001b[0m\u001b[0m\n\u001b[1;32m----> 8\u001b[1;33m             \u001b[1;32mraise\u001b[0m \u001b[0mStopIteration\u001b[0m\u001b[1;33m\u001b[0m\u001b[1;33m\u001b[0m\u001b[0m\n\u001b[0m\u001b[0;32m      9\u001b[0m         \u001b[0mnext_prime\u001b[0m \u001b[1;33m=\u001b[0m \u001b[0mself\u001b[0m\u001b[1;33m.\u001b[0m\u001b[0mcandidate_numbers\u001b[0m\u001b[1;33m[\u001b[0m\u001b[1;36m0\u001b[0m\u001b[1;33m]\u001b[0m\u001b[1;33m\u001b[0m\u001b[1;33m\u001b[0m\u001b[0m\n\u001b[0;32m     10\u001b[0m         \u001b[0mself\u001b[0m\u001b[1;33m.\u001b[0m\u001b[0mcandidate_numbers\u001b[0m \u001b[1;33m=\u001b[0m \u001b[1;33m[\u001b[0m\u001b[0mx\u001b[0m \u001b[1;32mfor\u001b[0m \u001b[0mx\u001b[0m \u001b[1;32min\u001b[0m \u001b[0mself\u001b[0m\u001b[1;33m.\u001b[0m\u001b[0mcandidate_numbers\u001b[0m \u001b[1;32mif\u001b[0m \u001b[0mx\u001b[0m \u001b[1;33m%\u001b[0m \u001b[0mnext_prime\u001b[0m \u001b[1;33m!=\u001b[0m \u001b[1;36m0\u001b[0m\u001b[1;33m]\u001b[0m\u001b[1;33m\u001b[0m\u001b[1;33m\u001b[0m\u001b[0m\n",
      "\u001b[1;31mStopIteration\u001b[0m: "
     ]
    }
   ],
   "source": [
    "primes_under_five = iter(PrimesBelow(5))\n",
    "next(primes_under_five)\n",
    "next(primes_under_five)\n",
    "next(primes_under_five)"
   ]
  },
  {
   "cell_type": "markdown",
   "metadata": {},
   "source": [
    "The following algorithm is essentially the reverse of The Sieve of Eratosthenes from above. The benefit of the above algorithm is that is is quite fast but takes up more space. The below alogrithm is slower but takes up less space. What its going to do is infintely iterator over number until it is told to stop and check if the number is prime, first by checking if the number is greater than 3 (by checking the square root) and then by checking each number between 2 and the square root to see if it has any divisors. If it does then the loop breaks and the current number is increased by one, and the operation contines again. If the loop doesn't break and the number is prime, that number is returned by our <code>\\__next__()</code> method. \n",
    "\n",
    "You may notice we never raise the StopIteration exception so this code will run infinitely. We can add a method called <code>takewhile()</code> to fix this. See below.\n"
   ]
  },
  {
   "cell_type": "code",
   "execution_count": 7,
   "metadata": {
    "colab": {},
    "colab_type": "code",
    "id": "Mcj5Rr4RkrOh"
   },
   "outputs": [],
   "source": [
    "class Primes:\n",
    "    def __init__(self):\n",
    "         self.current = 2\n",
    "     \n",
    "    def __iter__(self):\n",
    "         return self\n",
    "    \n",
    "    def __next__(self):\n",
    "        while True:\n",
    "            current = self.current\n",
    "            square_root = int(current ** 0.5)\n",
    "            is_prime = True\n",
    "            if square_root >= 2:\n",
    "                for i in range(2, square_root + 1):\n",
    "                    if current % i == 0:\n",
    "                        is_prime = False\n",
    "                        break\n",
    "            self.current += 1\n",
    "            if is_prime:\n",
    "                return current"
   ]
  },
  {
   "cell_type": "code",
   "execution_count": 8,
   "metadata": {
    "colab": {
     "base_uri": "https://localhost:8080/",
     "height": 325
    },
    "colab_type": "code",
    "id": "y-FZ2deYk3rF",
    "outputId": "6858d8b0-05cd-4c50-97be-e4df05080f24"
   },
   "outputs": [
    {
     "ename": "KeyboardInterrupt",
     "evalue": "",
     "output_type": "error",
     "traceback": [
      "\u001b[0;31m---------------------------------------------------------------------------\u001b[0m",
      "\u001b[0;31mKeyboardInterrupt\u001b[0m                         Traceback (most recent call last)",
      "\u001b[0;32m<ipython-input-8-afd3c871a33d>\u001b[0m in \u001b[0;36m<module>\u001b[0;34m\u001b[0m\n\u001b[0;32m----> 1\u001b[0;31m \u001b[0;34m[\u001b[0m\u001b[0mp\u001b[0m \u001b[0;32mfor\u001b[0m \u001b[0mp\u001b[0m \u001b[0;32min\u001b[0m \u001b[0mPrimes\u001b[0m\u001b[0;34m(\u001b[0m\u001b[0;34m)\u001b[0m \u001b[0;32mif\u001b[0m \u001b[0mp\u001b[0m \u001b[0;34m<\u001b[0m \u001b[0;36m100\u001b[0m\u001b[0;34m]\u001b[0m\u001b[0;34m\u001b[0m\u001b[0;34m\u001b[0m\u001b[0m\n\u001b[0m",
      "\u001b[0;32m<ipython-input-8-afd3c871a33d>\u001b[0m in \u001b[0;36m<listcomp>\u001b[0;34m(.0)\u001b[0m\n\u001b[0;32m----> 1\u001b[0;31m \u001b[0;34m[\u001b[0m\u001b[0mp\u001b[0m \u001b[0;32mfor\u001b[0m \u001b[0mp\u001b[0m \u001b[0;32min\u001b[0m \u001b[0mPrimes\u001b[0m\u001b[0;34m(\u001b[0m\u001b[0;34m)\u001b[0m \u001b[0;32mif\u001b[0m \u001b[0mp\u001b[0m \u001b[0;34m<\u001b[0m \u001b[0;36m100\u001b[0m\u001b[0;34m]\u001b[0m\u001b[0;34m\u001b[0m\u001b[0;34m\u001b[0m\u001b[0m\n\u001b[0m",
      "\u001b[0;32m<ipython-input-7-b9a94cb430fb>\u001b[0m in \u001b[0;36m__next__\u001b[0;34m(self)\u001b[0m\n\u001b[1;32m     12\u001b[0m             \u001b[0mis_prime\u001b[0m \u001b[0;34m=\u001b[0m \u001b[0;32mTrue\u001b[0m\u001b[0;34m\u001b[0m\u001b[0;34m\u001b[0m\u001b[0m\n\u001b[1;32m     13\u001b[0m             \u001b[0;32mif\u001b[0m \u001b[0msquare_root\u001b[0m \u001b[0;34m>=\u001b[0m \u001b[0;36m2\u001b[0m\u001b[0;34m:\u001b[0m\u001b[0;34m\u001b[0m\u001b[0;34m\u001b[0m\u001b[0m\n\u001b[0;32m---> 14\u001b[0;31m                 \u001b[0;32mfor\u001b[0m \u001b[0mi\u001b[0m \u001b[0;32min\u001b[0m \u001b[0mrange\u001b[0m\u001b[0;34m(\u001b[0m\u001b[0;36m2\u001b[0m\u001b[0;34m,\u001b[0m \u001b[0msquare_root\u001b[0m \u001b[0;34m+\u001b[0m \u001b[0;36m1\u001b[0m\u001b[0;34m)\u001b[0m\u001b[0;34m:\u001b[0m\u001b[0;34m\u001b[0m\u001b[0;34m\u001b[0m\u001b[0m\n\u001b[0m\u001b[1;32m     15\u001b[0m                     \u001b[0;32mif\u001b[0m \u001b[0mcurrent\u001b[0m \u001b[0;34m%\u001b[0m \u001b[0mi\u001b[0m \u001b[0;34m==\u001b[0m \u001b[0;36m0\u001b[0m\u001b[0;34m:\u001b[0m\u001b[0;34m\u001b[0m\u001b[0;34m\u001b[0m\u001b[0m\n\u001b[1;32m     16\u001b[0m                         \u001b[0mis_prime\u001b[0m \u001b[0;34m=\u001b[0m \u001b[0;32mFalse\u001b[0m\u001b[0;34m\u001b[0m\u001b[0;34m\u001b[0m\u001b[0m\n",
      "\u001b[0;31mKeyboardInterrupt\u001b[0m: "
     ]
    }
   ],
   "source": [
    "[p for p in Primes() if p < 100]"
   ]
  },
  {
   "cell_type": "markdown",
   "metadata": {},
   "source": [
    "<code>takewhile</code>'s are useful for turning infite sequences into finte ones. "
   ]
  },
  {
   "cell_type": "code",
   "execution_count": 15,
   "metadata": {
    "colab": {
     "base_uri": "https://localhost:8080/",
     "height": 35
    },
    "colab_type": "code",
    "id": "M8-pv9EdlvCE",
    "outputId": "7f756d0d-9e71-4693-a9eb-525010a806c2"
   },
   "outputs": [
    {
     "name": "stdout",
     "output_type": "stream",
     "text": [
      "[2, 3, 5, 7, 11, 13, 17, 19, 23, 29, 31, 37, 41, 43, 47, 53, 59, 61, 67, 71, 73, 79, 83, 89, 97]\n"
     ]
    }
   ],
   "source": [
    "import itertools\n",
    "print([p for p in itertools.takewhile(lambda x: x<100, Primes())])\n"
   ]
  },
  {
   "cell_type": "markdown",
   "metadata": {},
   "source": [
    "Now we are going to do the reverse, take a finite sequence and have it run infinitely. We use this with another tool from the <code>itertools</code> module, <code>cycle()</code>\n",
    "\n",
    "Cylce is a useful method for <i>cylcing</i> through a list on repeat. Image a game that has a back and forth pattern between players, like chess or checkers. \n",
    "\n",
    "We can also make a countdown to make the infinte cylce terminal by giving it a <i>countdown</i> from the <code>count()</code> method and another <code>takewhile</code>. The <code>takewhile</code> can take a lambda function to calcuate and the infite set and will stop once the lambda returns a False. "
   ]
  },
  {
   "cell_type": "code",
   "execution_count": 0,
   "metadata": {
    "colab": {},
    "colab_type": "code",
    "id": "ycLebpDnp1pX"
   },
   "outputs": [],
   "source": [
    "import itertools"
   ]
  },
  {
   "cell_type": "code",
   "execution_count": 16,
   "metadata": {
    "colab": {},
    "colab_type": "code",
    "id": "JzjdWAajp-k4"
   },
   "outputs": [],
   "source": [
    "players = ['White', 'Black']\n",
    "turns = itertools.cycle(players)\n"
   ]
  },
  {
   "cell_type": "code",
   "execution_count": 17,
   "metadata": {
    "colab": {
     "base_uri": "https://localhost:8080/",
     "height": 35
    },
    "colab_type": "code",
    "id": "4a6_YMOBqBoa",
    "outputId": "a108e2e4-30ff-4568-f526-453c349724b1"
   },
   "outputs": [
    {
     "name": "stdout",
     "output_type": "stream",
     "text": [
      "['White', 'Black', 'White', 'Black', 'White', 'Black', 'White', 'Black', 'White', 'Black']\n"
     ]
    }
   ],
   "source": [
    "countdown = itertools.count(10, -1)\n",
    "print([turn for turn in itertools.takewhile(lambda x:next(countdown)>0, turns)])"
   ]
  },
  {
   "cell_type": "markdown",
   "metadata": {},
   "source": [
    "<h3>Generators</h3>\n",
    "Next up we are going to discsuse generator functions. Generator functions are special functions that use the <b>yield</b> keyword in place of a <b>return</b>. The normal execution cylce for a function is:<br/>\n",
    "1. Get called. <br/>\n",
    "2. Do a calculation. <br/>\n",
    "3. Return the result. <br/> \n",
    "Not all functions need to operate this way though. A generator function can get called, <b>yield</b> a result which is give back to the primary operator, but still keep running and later yield more results. These yielded results get collected into a data structure and can continually be added to until the generator has fully returned its payload. The advantage to a generator is that the program can contiue to operate with the dataset that is being built while the program is also still building it. Its essentially mutlithreading itself, or acting in parallel. Generators adhere to the Iterator contract by default so they can be used in comprehensions without any further work. In the below example, we take the calculation that was done by the second prime number calculator but we yield the results instead of have them calculated in the <code>__next__()</code> method. This allows the code to keep running while the generator builds the data out. "
   ]
  },
  {
   "cell_type": "code",
   "execution_count": 0,
   "metadata": {
    "colab": {},
    "colab_type": "code",
    "id": "eiLob1wGnLF_"
   },
   "outputs": [],
   "source": [
    "def primes_below(bound):\n",
    "    candidates = list(range(2,bound))\n",
    "    while(len(candidates) > 0):\n",
    "        yield candidates[0]\n",
    "        candidates = [c for c in candidates if c % candidates[0] != 0]"
   ]
  },
  {
   "cell_type": "code",
   "execution_count": 3,
   "metadata": {
    "colab": {
     "base_uri": "https://localhost:8080/",
     "height": 35
    },
    "colab_type": "code",
    "id": "Ylc2KNzdnNIk",
    "outputId": "c37c7e19-a2d2-4b89-ba6b-1abd35a489d9"
   },
   "outputs": [
    {
     "name": "stdout",
     "output_type": "stream",
     "text": [
      "[2, 3, 5, 7, 11, 13, 17, 19, 23, 29, 31, 37, 41, 43, 47, 53, 59, 61, 67, 71, 73, 79, 83, 89, 97]\n"
     ]
    }
   ],
   "source": [
    "print([prime for prime in primes_below(100)])"
   ]
  },
  {
   "cell_type": "markdown",
   "metadata": {},
   "source": [
    "<h3>Regular Expressions (REGEX)</h3>\n",
    "Finally we arrive at regular expressions. A regular express, or regex, is a way to process text by defining patterns and symbol structures to capture strings. This can be useful for trying to find URL links in tabs by searching for the pattern, HTTPS:// but what if the url isn't HTTPS? Maybe its just HTTP? Then we need to account for that as well. You could do this by checking characters and making patters but it would be a lot easier to use a regular express. In Python it would look something like this: <b>https?://\\S+</b>. Which says find <b>http</b> and an optional <b>s</b> then a literal <b>//</b> and finally <b>\\S+</b> is one or more non whitespace characters. Python regular expression syntax is immense and we aren't going to cover all the grammar here. We are going to cover how to use the <code>re</code> module for regular expressesions and you can search Python regex grammar for yourself as needed. \n",
    "\n",
    "In the below code, we have a simple string and a pattern to look for. We can search for it using the <code>search()</code> method from the <code>re</code> module. This pattern equates to a character that is repeated next to itself, such as <b>aa</b> or <b>bb</b>. You can see we found a match at index 35 and 36 with <b>ff</b> in <i>different</i>. "
   ]
  },
  {
   "cell_type": "code",
   "execution_count": 15,
   "metadata": {
    "colab": {
     "base_uri": "https://localhost:8080/",
     "height": 35
    },
    "colab_type": "code",
    "id": "vFgNlNean6Nr",
    "outputId": "722f50c8-a333-46a3-a2ab-742df4ed1e2f"
   },
   "outputs": [
    {
     "name": "stdout",
     "output_type": "stream",
     "text": [
      "<re.Match object; span=(35, 37), match='ff'>\n"
     ]
    }
   ],
   "source": [
    "import re\n",
    "title = \"And now for something completely different\"\n",
    "pattern = \"(\\w)\\\\1+\"\n",
    "print(re.search(pattern, title))"
   ]
  },
  {
   "cell_type": "markdown",
   "metadata": {},
   "source": [
    "Regex can also be useful for replacing patterns, as well as finding them. Below we are using the <code>sub</code> method which is short for <i>substitute</i> because we want to substitute what is found with the replacement. We search for the word <i>parrot</i> and repalce it with <i>ex-\\\\\\1</i> where <b>\\\\\\1</b> is the pattern. So we get <i>ex-parrot</i>. "
   ]
  },
  {
   "cell_type": "code",
   "execution_count": 16,
   "metadata": {},
   "outputs": [
    {
     "name": "stdout",
     "output_type": "stream",
     "text": [
      "The Norwegian Blue is a wonderful ex-parrot. This ex-parrot is notable for its exquisite plumage.\n"
     ]
    }
   ],
   "source": [
    "import re\n",
    "description = \"The Norwegian Blue is a wonderful parrot. This parrot is notable for its exquisite plumage.\"\n",
    "pattern = \"(parrot)\"\n",
    "replacement = \"ex-\\\\1\"\n",
    "print(re.sub(pattern, replacement, description))"
   ]
  },
  {
   "cell_type": "code",
   "execution_count": null,
   "metadata": {},
   "outputs": [],
   "source": []
  }
 ],
 "metadata": {
  "colab": {
   "name": "Exercise02.ipynb",
   "provenance": [],
   "version": "0.3.2"
  },
  "kernelspec": {
   "display_name": "Python 3",
   "language": "python",
   "name": "python3"
  },
  "language_info": {
   "codemirror_mode": {
    "name": "ipython",
    "version": 3
   },
   "file_extension": ".py",
   "mimetype": "text/x-python",
   "name": "python",
   "nbconvert_exporter": "python",
   "pygments_lexer": "ipython3",
   "version": "3.7.4"
  }
 },
 "nbformat": 4,
 "nbformat_minor": 1
}
