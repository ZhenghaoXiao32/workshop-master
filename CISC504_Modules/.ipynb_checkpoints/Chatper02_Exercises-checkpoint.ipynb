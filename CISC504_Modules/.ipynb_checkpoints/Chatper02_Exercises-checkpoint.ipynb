{
 "cells": [
  {
   "cell_type": "markdown",
   "metadata": {},
   "source": [
    "<h1 style=\"text-align:center;\">Harrisburg University of Science & Technology</h1>\n",
    "<h2 style=\"text-align:center;\">CISC 504 Principles of Programming Languages </h2>\n",
    "<h3 style=\"text-align:center;\">Exercise Set 2: Python Structures </h3>"
   ]
  },
  {
   "cell_type": "markdown",
   "metadata": {},
   "source": [
    "\n",
    "<p>Data is a paramount aspect of any programming endeavor. Programmers leverage <b>data structures</b> to store data and work with it in memory for convience. The four basic data structures used within Python are:\n",
    "    </p>\n",
    "    <li/>Lists\n",
    "    <li/>Tuples\n",
    "    <li/>Dictionaries\n",
    "    <li/>Sets\n",
    "    <p>\n",
    "Each of these structures has different advantages and disadvantages and can be applied to different scenarios to help increase performance in a program. The first data structure we will examine is a list, sometimes referred to as an arrays.\n",
    "</p>"
   ]
  },
  {
   "cell_type": "markdown",
   "metadata": {},
   "source": [
    "<h3>Lists</h3>\n",
    "\n",
    "A list is a type of container in Python that is used to store multiple data sets at the same time. Python lists are often compared to arrays in other programming languages, but they do a lot more. Lists in Python an signified by <code>[]</code> matching square braces with each element seperated by a common. These elements each have a position in the list and an index value. In Python, lists start at index 0 and count up from there. The second element of a list would then be 1, and so on. "
   ]
  },
  {
   "cell_type": "code",
   "execution_count": 4,
   "metadata": {},
   "outputs": [
    {
     "name": "stdout",
     "output_type": "stream",
     "text": [
      "['bread', 'milk', 'eggs']\n"
     ]
    }
   ],
   "source": [
    "shopping = [\"bread\", \"milk\", \"eggs\"]\n",
    "print(shopping)\n"
   ]
  },
  {
   "cell_type": "markdown",
   "metadata": {},
   "source": [
    "You may find it useful to iterate over the contents of a list using a <code>for</code> loop. It would make more sense to use a <code>for</code> loop here over a <code>while</code> loop because you have a <b>finite set of items</b>, as stated in the previous section. "
   ]
  },
  {
   "cell_type": "code",
   "execution_count": 6,
   "metadata": {},
   "outputs": [
    {
     "name": "stdout",
     "output_type": "stream",
     "text": [
      "bread\n",
      "milk\n",
      "eggs\n",
      "bread\n",
      "milk\n",
      "eggs\n"
     ]
    }
   ],
   "source": [
    "for item in range(len(shopping)): #range(3) = 0,1,2\n",
    "    print(shopping[item])\n",
    "    \n",
    "for item in shopping:\n",
    "    print(item)"
   ]
  },
  {
   "cell_type": "code",
   "execution_count": 7,
   "metadata": {},
   "outputs": [
    {
     "name": "stdout",
     "output_type": "stream",
     "text": [
      "[365, 'days', True, 5.5, ['bread', 'milk', 'eggs']]\n"
     ]
    }
   ],
   "source": [
    "mixed = [365, \"days\", True, 5.5, shopping]\n",
    "print(mixed)"
   ]
  },
  {
   "cell_type": "code",
   "execution_count": null,
   "metadata": {},
   "outputs": [],
   "source": []
  },
  {
   "cell_type": "markdown",
   "metadata": {},
   "source": [
    "<p>List can also be nested, a similar concept to nesting loops and conditionals. This nesting is commonly referred to a recursion, or recursive data structures. Recursion is an important subject in computer science that will be a reocurring (as opposed to <b>recurring</b>) theme in many data structures and algorithms. \n",
    "\n",
    "<br/>\n",
    "You can think of the list the same way  whether it is a nested list or not. In the following example, there's a list with two elements, one at index 0 and one at index 1. The elements at these index's are the lists <code>[1,2,3]</code> and <code>[4,5,6]</code> those lists have 3 elements each, at index's 0, 1, and 2. When broken down into the smaller pieces, these concepts should seem less complicated. A good thing about Python is the limitted syntax around theses structures. Special characters often make simple concepts much more daunting and Python does a good job at limitting the confusing characters in the syntax of the language. Another great reason to start with Python as your first langauge. \n",
    "</p>"
   ]
  },
  {
   "cell_type": "code",
   "execution_count": 15,
   "metadata": {},
   "outputs": [
    {
     "ename": "SyntaxError",
     "evalue": "invalid syntax (<ipython-input-15-0ac21fadd45a>, line 3)",
     "output_type": "error",
     "traceback": [
      "\u001b[1;36m  File \u001b[1;32m\"<ipython-input-15-0ac21fadd45a>\"\u001b[1;36m, line \u001b[1;32m3\u001b[0m\n\u001b[1;33m    m =\u001b[0m\n\u001b[1;37m        ^\u001b[0m\n\u001b[1;31mSyntaxError\u001b[0m\u001b[1;31m:\u001b[0m invalid syntax\n"
     ]
    }
   ],
   "source": [
    "m = [[1, 2, 3], [4, 5, 6]] \n",
    "\n",
    "m = [\n",
    "    [1,2,3],\n",
    "    [4,5,6]\n",
    "]"
   ]
  },
  {
   "cell_type": "markdown",
   "metadata": {},
   "source": [
    "<p>To access elements of a nested list the syntax is as follows: <code>name_of_list[index_of_list][index_of_element_within_nested_list]</code> and this can go on recursively for however many lists are nested."
   ]
  },
  {
   "cell_type": "code",
   "execution_count": 12,
   "metadata": {},
   "outputs": [
    {
     "name": "stdout",
     "output_type": "stream",
     "text": [
      "1\n",
      "2\n",
      "3\n",
      "4\n",
      "5\n",
      "6\n",
      "do it again\n",
      "1\n",
      "2\n",
      "3\n",
      "4\n",
      "5\n",
      "6\n"
     ]
    }
   ],
   "source": [
    "for i in range(len(m)): \n",
    "    for j in range(len(m[i])): \n",
    "        print(m[i][j])\n",
    "\n",
    "print(\"do it again\")\n",
    "for list_item in m:\n",
    "    for num in list_item:\n",
    "        print(num)"
   ]
  },
  {
   "cell_type": "code",
   "execution_count": 13,
   "metadata": {},
   "outputs": [
    {
     "name": "stdout",
     "output_type": "stream",
     "text": [
      "1\n",
      "2\n",
      "3\n",
      "4\n",
      "5\n",
      "6\n"
     ]
    }
   ],
   "source": [
    "for row in m:\n",
    "    for col in row:\n",
    "        print(col)"
   ]
  },
  {
   "cell_type": "markdown",
   "metadata": {},
   "source": [
    "<p>Nesting list is an excellent way to represent a mathematical matrix. You can think of the interal lists as the rows. So X[0] represents the top row. Then the matching elements of each list by index represent the columns, X[0][0], X[1][0], and X[2][0] represents the first column. Thus, if you can think of a loop that would iterate over the first index in a list but keep the second index constant, you could theoretically iterate over the columns or the rows easily using a Python program. </p>\n",
    "</br>\n",
    "<p>In the next exercise, we are going to attempt some matrix addition. We all know how to add matrices, but implementing the solution in code can be tricky. It is easiest to set up a result matrix to overwrite instead of creating a new one inline because, the logic is less intense. </p>"
   ]
  },
  {
   "cell_type": "code",
   "execution_count": 8,
   "metadata": {},
   "outputs": [],
   "source": [
    "X = [\n",
    "    [1,2,3],\n",
    "    [4,5,6],\n",
    "    [7,8,9]\n",
    "]\n",
    "Y = [\n",
    "    [10,11,12],\n",
    "    [13,14,15],\n",
    "    [16,17,18]\n",
    "]"
   ]
  },
  {
   "cell_type": "code",
   "execution_count": 17,
   "metadata": {},
   "outputs": [],
   "source": [
    "# Initialize a result placeholder\n",
    "result = [\n",
    "    [0,0,0], \n",
    "    [0,0,0], \n",
    "    [0,0,0]\n",
    "] "
   ]
  },
  {
   "cell_type": "code",
   "execution_count": 18,
   "metadata": {},
   "outputs": [
    {
     "name": "stdout",
     "output_type": "stream",
     "text": [
      "0\n",
      "[[11, 13, 15], [17, 19, 21], [23, 25, 27]]\n"
     ]
    }
   ],
   "source": [
    "# iterate through rows \n",
    "for i in range(len(X)):    \n",
    "# iterate through columns\n",
    "    for j in range(len(X[0])): \n",
    "        result[i][j] = X[i][j] + Y[i][j] \n",
    "\n",
    "print(result)"
   ]
  },
  {
   "cell_type": "code",
   "execution_count": 4,
   "metadata": {},
   "outputs": [],
   "source": [
    "X = [[10,11,12],[13,14,15],[16,17,18]]\n",
    "Y = [[1,2,3],[4,5,6],[7,8,9]]"
   ]
  },
  {
   "cell_type": "code",
   "execution_count": 5,
   "metadata": {},
   "outputs": [],
   "source": [
    "# Initialize a result placeholder\n",
    "result = [[0,0,0], \n",
    "        [0,0,0], \n",
    "        [0,0,0]] "
   ]
  },
  {
   "cell_type": "code",
   "execution_count": 6,
   "metadata": {},
   "outputs": [
    {
     "name": "stdout",
     "output_type": "stream",
     "text": [
      "[[9, 9, 9], [9, 9, 9], [9, 9, 9]]\n"
     ]
    }
   ],
   "source": [
    "# iterate through rows \n",
    "for i in range(len(X)):    \n",
    "# iterate through columns \n",
    "    for j in range(len(X[0])): \n",
    "        result[i][j] = X[i][j] - Y[i][j] \n",
    "        \n",
    "print(result)"
   ]
  },
  {
   "cell_type": "markdown",
   "metadata": {},
   "source": [
    "<p>Finally we can try some matrix multiplication. The process is similar, just remember that matrix multiplication has slightly different steps than addtion. </p>"
   ]
  },
  {
   "cell_type": "code",
   "execution_count": 19,
   "metadata": {},
   "outputs": [],
   "source": [
    "X = [[1, 2], [4, 5], [3, 6]] # 2x4 Matrix\n",
    "Y = [[1,2,3,4],[5,6,7,8]] # 4x2 Matrix"
   ]
  },
  {
   "cell_type": "code",
   "execution_count": 20,
   "metadata": {},
   "outputs": [],
   "source": [
    "result = [[0, 0, 0, 0], [0, 0, 0, 0], [0, 0, 0, 0]]"
   ]
  },
  {
   "cell_type": "code",
   "execution_count": 21,
   "metadata": {},
   "outputs": [],
   "source": [
    "# iterating by row of A \n",
    "for i in range(len(X)): # range(2)\n",
    "  \n",
    "    # iterating by coloum by B  \n",
    "    for j in range(len(Y[0])): # range(4)\n",
    "  \n",
    "        # iterating by rows of B \n",
    "        for k in range(len(Y)): # range(2)\n",
    "            result[i][j] += X[i][k] * Y[k][j]"
   ]
  },
  {
   "cell_type": "code",
   "execution_count": 22,
   "metadata": {},
   "outputs": [
    {
     "name": "stdout",
     "output_type": "stream",
     "text": [
      "[11, 14, 17, 20]\n",
      "[29, 38, 47, 56]\n",
      "[33, 42, 51, 60]\n"
     ]
    }
   ],
   "source": [
    "for r in result: \n",
    "    print(r)"
   ]
  },
  {
   "cell_type": "markdown",
   "metadata": {},
   "source": [
    "<p>You can store essentially anything in a list that you could also store in a variable; strings, ints, floats, booleans, etc. There are also some tricks that you can do with Python lists, more so than what you can do in other programming lanagues. \n",
    "</p>\n",
    "</br>\n",
    "<p>\n",
    "    The <code>len()</code> function will tell you how many elements exist in an array. This can be useful for looping over elements in an array by index, or many other patterns.\n",
    "</p>"
   ]
  },
  {
   "cell_type": "code",
   "execution_count": 1,
   "metadata": {},
   "outputs": [
    {
     "name": "stdout",
     "output_type": "stream",
     "text": [
      "3\n"
     ]
    }
   ],
   "source": [
    "shopping = [\"bread\",\"milk\", \"eggs\"]\n",
    "print(len(shopping)) "
   ]
  },
  {
   "cell_type": "markdown",
   "metadata": {},
   "source": [
    "You can concatenate lists using additions to take two smaller lists and make one larger list. "
   ]
  },
  {
   "cell_type": "code",
   "execution_count": 18,
   "metadata": {},
   "outputs": [
    {
     "name": "stdout",
     "output_type": "stream",
     "text": [
      "[[1, 2, 3], [4, 5, 6], [7, 8, 9]]\n"
     ]
    },
    {
     "ename": "NameError",
     "evalue": "name 'flat' is not defined",
     "output_type": "error",
     "traceback": [
      "\u001b[1;31m---------------------------------------------------------------------------\u001b[0m",
      "\u001b[1;31mNameError\u001b[0m                                 Traceback (most recent call last)",
      "\u001b[1;32m<ipython-input-18-acd9ba2b619a>\u001b[0m in \u001b[0;36m<module>\u001b[1;34m\u001b[0m\n\u001b[0;32m      2\u001b[0m \u001b[1;33m\u001b[0m\u001b[0m\n\u001b[0;32m      3\u001b[0m \u001b[0mprint\u001b[0m\u001b[1;33m(\u001b[0m\u001b[0mnested_list\u001b[0m\u001b[1;33m)\u001b[0m\u001b[1;33m\u001b[0m\u001b[1;33m\u001b[0m\u001b[0m\n\u001b[1;32m----> 4\u001b[1;33m \u001b[0mprint\u001b[0m\u001b[1;33m(\u001b[0m\u001b[0mflat\u001b[0m\u001b[1;33m(\u001b[0m\u001b[0mnested_list\u001b[0m\u001b[1;33m)\u001b[0m\u001b[1;33m)\u001b[0m\u001b[1;33m\u001b[0m\u001b[1;33m\u001b[0m\u001b[0m\n\u001b[0m",
      "\u001b[1;31mNameError\u001b[0m: name 'flat' is not defined"
     ]
    }
   ],
   "source": [
    "nested_list = [[1,2,3],[4,5,6],[7,8,9]]\n",
    "\n",
    "print(nested_list)\n",
    "\n",
    "flattened_List = [1,2,3,4,5,6,7,8,9]"
   ]
  },
  {
   "cell_type": "code",
   "execution_count": 24,
   "metadata": {},
   "outputs": [
    {
     "name": "stdout",
     "output_type": "stream",
     "text": [
      "[4, 5, 6, 1, 2, 3]\n"
     ]
    }
   ],
   "source": [
    "list1 = [1,2,3]\n",
    "list2 = [4,5,6]\n",
    "final_list = list2 + list1\n",
    "print(final_list)"
   ]
  },
  {
   "cell_type": "markdown",
   "metadata": {},
   "source": [
    "<p>You can also multiply a list to create a list concatenated to itself </p>"
   ]
  },
  {
   "cell_type": "code",
   "execution_count": 19,
   "metadata": {
    "scrolled": true
   },
   "outputs": [
    {
     "name": "stdout",
     "output_type": "stream",
     "text": [
      "['oi', 'vey', 'oi', 'vey', 'oi', 'vey']\n",
      "['oi', 'vey', 'oi', 'vey', 'oi', 'vey']\n"
     ]
    }
   ],
   "source": [
    "list3 = ['oi', 'vey']\n",
    "print(list3*3)\n",
    "print(list3+list3+list3)"
   ]
  },
  {
   "cell_type": "code",
   "execution_count": 22,
   "metadata": {},
   "outputs": [
    {
     "name": "stdout",
     "output_type": "stream",
     "text": [
      "5\n"
     ]
    }
   ],
   "source": [
    "x = [0,1,2,3,4,5]\n",
    "print(x[-1])"
   ]
  },
  {
   "cell_type": "code",
   "execution_count": 31,
   "metadata": {},
   "outputs": [
    {
     "name": "stdout",
     "output_type": "stream",
     "text": [
      "milk\n",
      "bread bread\n"
     ]
    }
   ],
   "source": [
    "shopping = [\"bread\",\"milk\", \"eggs\"]\n",
    "print(shopping[1])\n",
    "shopping[len(shopping)-1]\n",
    "print(shopping[-3] , shopping[0])"
   ]
  },
  {
   "cell_type": "code",
   "execution_count": 32,
   "metadata": {},
   "outputs": [
    {
     "name": "stdout",
     "output_type": "stream",
     "text": [
      "['bread', 'banana', 'eggs']\n"
     ]
    }
   ],
   "source": [
    "shopping[1] = \"banana\"\n",
    "print(shopping)"
   ]
  },
  {
   "cell_type": "markdown",
   "metadata": {},
   "source": [
    "You can also use a negative index to count backwards from the end of the list. -1 would signify the index of the last element. This is a handy trick to directly access the last element in a list which is a common pattern in programming. "
   ]
  },
  {
   "cell_type": "code",
   "execution_count": 33,
   "metadata": {},
   "outputs": [
    {
     "name": "stdout",
     "output_type": "stream",
     "text": [
      "eggs\n"
     ]
    }
   ],
   "source": [
    "print(shopping[-1])"
   ]
  },
  {
   "cell_type": "markdown",
   "metadata": {},
   "source": [
    "<p>Finally we have a concept of what is called <b>array slicing</b>. Array slicing is getting all elements of an array between two points. Similar to the <code>range()</code> function, when specifying the bounds, the upper bound is excluded while the lower bound is included. <br/>\n",
    "    The syntax is as follow: <code>array_variable[lower_bound:upperbound]</code> You can also declare just one bound. If you declare just a lower bound, the result will be all elements from the lower bound to the last element. If you declare just an upper bound, then the result would be a list with all elements lower than the index specified. \n",
    "</p>\n"
   ]
  },
  {
   "cell_type": "code",
   "execution_count": 24,
   "metadata": {},
   "outputs": [
    {
     "name": "stdout",
     "output_type": "stream",
     "text": [
      "['bread', 'milk']\n"
     ]
    }
   ],
   "source": [
    "shopping = [\"bread\", \"banana\", \"milk\", \"eggs\"]\n",
    "\n",
    "print(shopping[0:2]) # 0:2 = 0, 1"
   ]
  },
  {
   "cell_type": "code",
   "execution_count": 25,
   "metadata": {},
   "outputs": [
    {
     "name": "stdout",
     "output_type": "stream",
     "text": [
      "['bread', 'milk']\n"
     ]
    }
   ],
   "source": [
    "print(shopping[:2]) # :3 = 0,1,2;;;;; range(5) = 0,1,2,3,4"
   ]
  },
  {
   "cell_type": "code",
   "execution_count": 37,
   "metadata": {},
   "outputs": [
    {
     "name": "stdout",
     "output_type": "stream",
     "text": [
      "['eggs']\n"
     ]
    }
   ],
   "source": [
    "print(shopping[2:])"
   ]
  },
  {
   "cell_type": "code",
   "execution_count": null,
   "metadata": {},
   "outputs": [],
   "source": []
  },
  {
   "cell_type": "markdown",
   "metadata": {},
   "source": [
    "<p>Lists can be added to and subtracted from after the list has been created as well using Python's list mutation methods, specifically <code>list.append()</code>, <code>list.pop()</code>, and <code>list.insert()</code>\n",
    "    <table>\n",
    "        <thead>\n",
    "            <tr>\n",
    "                <th>Function\n",
    "                </th>\n",
    "                <th>Description</th>\n",
    "            <tr>\n",
    "        </thead>\n",
    "        <tbody>\n",
    "            <tr>\n",
    "                <td><code>list.append(item)</code></td>\n",
    "                <td>Add's element <code>item</code> to the end of the list, <code>list</code></td>\n",
    "            </tr>\n",
    "            <tr>\n",
    "                <td><code>list.pop()</code></td>\n",
    "                <td>Removes the last item in the list, the largest index</td>\n",
    "            </tr>\n",
    "            <tr>\n",
    "                <td><code>list.insert(index, item)</code></td>\n",
    "                <td>Inserts an element into the list at the index parameter.<br/> The rest of the elements are pushed down one.</td>\n",
    "            </tr>\n",
    "        </tbody>\n",
    "        </table>"
   ]
  },
  {
   "cell_type": "code",
   "execution_count": 44,
   "metadata": {},
   "outputs": [
    {
     "name": "stdout",
     "output_type": "stream",
     "text": [
      "['bread', 'milk', 'eggs', 'apple']\n"
     ]
    }
   ],
   "source": [
    "shopping = [\"bread\",\"milk\", \"eggs\"]\n",
    "shopping.append(\"apple\")\n",
    "print(shopping)\n"
   ]
  },
  {
   "cell_type": "code",
   "execution_count": 45,
   "metadata": {},
   "outputs": [
    {
     "name": "stdout",
     "output_type": "stream",
     "text": [
      "['bread', 'milk', 'eggs', 'apple']\n"
     ]
    }
   ],
   "source": [
    "shopping = []\n",
    "shopping.append('bread')\n",
    "shopping.append('milk')\n",
    "shopping.append('eggs')\n",
    "shopping.append('apple')\n",
    "print(shopping)"
   ]
  },
  {
   "cell_type": "code",
   "execution_count": 46,
   "metadata": {},
   "outputs": [
    {
     "name": "stdout",
     "output_type": "stream",
     "text": [
      "['bread', 'milk', 'ham', 'eggs', 'apple']\n"
     ]
    }
   ],
   "source": [
    "shopping.insert(2, 'ham') \n",
    "print(shopping)"
   ]
  },
  {
   "cell_type": "code",
   "execution_count": null,
   "metadata": {},
   "outputs": [],
   "source": []
  },
  {
   "cell_type": "markdown",
   "metadata": {},
   "source": [
    "<p>Finally, we get to one of the most powerful data structures, the dictionary, or <code>dict</code>. Python dictionaries are similiar to JSON (Javascript Object Notation) in syntax and accessibility but with more convience methods. A dictionary consists of entries with a key, value pair. The key can represent only one value, but the value can be a list or another dictionary, similar to the nestng properties of lists. Value's do not need to be unique within the dictionary so key's can have similar values paired to them but, but key's must be unique. If you try to add a key to a dictionary that already exists in the dictionary, the current key:value pair will be overwritten with the new pair. Dictionaries are created with curly braces <code>{}</code> and key: value pairs are indicated with a colon. The pairs are typically seperated with a newline and a comma.</p> You can retrieve values from the dictionary using square brackets with the key and the dictionary name: <code>dictionary_name[key]</code>. Remember that if the key is a string, you will need to quote the key. </p>\n",
    "</br>\n",
    "<p>To learn more about dictionaries, look at the <a href=\"https://docs.python.org/3/tutorial/datastructures.html\">Python dictionary documentation</a> from the Python Foundation. "
   ]
  },
  {
   "cell_type": "code",
   "execution_count": 56,
   "metadata": {},
   "outputs": [
    {
     "name": "stdout",
     "output_type": "stream",
     "text": [
      "dict_keys(['title', 'director', 'year', 'rating'])\n",
      "Found 1972\n"
     ]
    }
   ],
   "source": [
    "movie = {\n",
    "    \"title\": \"The Godfather\",\n",
    "    \"director\": \"Francis Ford Coppola\",\n",
    "    \"year\": 1972,\n",
    "    \"rating\": 9.2\n",
    "}\n",
    "\n",
    "\n",
    "\n",
    "print(movie.keys())\n",
    "\n",
    "for value in movie.values():\n",
    "    if value == 1972:\n",
    "        print(\"Found\", value)"
   ]
  },
  {
   "cell_type": "code",
   "execution_count": 51,
   "metadata": {},
   "outputs": [
    {
     "name": "stdout",
     "output_type": "stream",
     "text": [
      "1972\n"
     ]
    }
   ],
   "source": [
    "print(movie['year'])"
   ]
  },
  {
   "cell_type": "code",
   "execution_count": 34,
   "metadata": {},
   "outputs": [
    {
     "name": "stdout",
     "output_type": "stream",
     "text": [
      "<class 'int'>\n",
      "9.293750000000001\n"
     ]
    }
   ],
   "source": [
    "movie['rating'] = (movie['rating'] + 9.3)/2\n",
    "\n",
    "new_item = movie[\"year\"]\n",
    "print(type(new_item))\n",
    "\n",
    "print(movie['rating'])"
   ]
  },
  {
   "cell_type": "code",
   "execution_count": 37,
   "metadata": {},
   "outputs": [
    {
     "name": "stdout",
     "output_type": "stream",
     "text": [
      "Finding Nemo\n",
      "1\n",
      "[5, 2, 3]\n"
     ]
    }
   ],
   "source": [
    "movie = {}\n",
    "movie['title'] = \"The Godfather\"\n",
    "movie['director'] = \"Francis Ford Coppola\"\n",
    "movie['year'] = 1972\n",
    "movie['rating'] = 9.\n",
    "movie['title'] = \"Finding Nemo\" #Why you did this?\n",
    "\n",
    "print(movie['title'])\n",
    "\n",
    "\n",
    "new_list = [1,2,3]\n",
    "print(new_list[0])\n",
    "new_list[0] = 5\n",
    "print(new_list)"
   ]
  },
  {
   "cell_type": "code",
   "execution_count": 61,
   "metadata": {},
   "outputs": [
    {
     "name": "stdout",
     "output_type": "stream",
     "text": [
      "15\n",
      "-5\n"
     ]
    }
   ],
   "source": [
    "movie['actors'] = ['Marlon Brando', 'Al Pacino', 'James Caan']\n",
    "movie['other_details'] = {\n",
    "    'runtime': 175,\n",
    "    'language': 'English'\n",
    "}"
   ]
  },
  {
   "cell_type": "code",
   "execution_count": null,
   "metadata": {},
   "outputs": [],
   "source": []
  },
  {
   "cell_type": "markdown",
   "metadata": {},
   "source": [
    "The final data structure we will talk about is a <b>tuple</b>. A tuple acts like a collection with a set length and typed parameters. The set (\"John\", \"Smith\", 30) is a (String, String, Int) tuple with a fix length of 3. Tuple's can be created manually or from lists using the <code>zip()</code> function. When you <code>zip()</code> two lists, the result is a list of tuples. If the lists are equal length, then each member of the two lists will be matched into a tuple. If the lists are uneven, any extra memebers of the larger list will be lost. A tuple can with a 2 value length can be made into a <code>dict</code> by passing the tuple list to the <code>dict</code> constructor like in one of the below examples. "
   ]
  },
  {
   "cell_type": "code",
   "execution_count": 41,
   "metadata": {},
   "outputs": [],
   "source": [
    "items = ['apple', 'orange', 'banana']\n",
    "quantity = [5,3,2]"
   ]
  },
  {
   "cell_type": "code",
   "execution_count": 42,
   "metadata": {},
   "outputs": [
    {
     "name": "stdout",
     "output_type": "stream",
     "text": [
      "<zip object at 0x00000271A6D02E48>\n"
     ]
    }
   ],
   "source": [
    "orders = zip(items,quantity)\n",
    "print(orders)"
   ]
  },
  {
   "cell_type": "code",
   "execution_count": 47,
   "metadata": {},
   "outputs": [
    {
     "name": "stdout",
     "output_type": "stream",
     "text": [
      "[('apple', 5), ('orange', 3), ('banana', 2)]\n"
     ]
    }
   ],
   "source": [
    "orders = zip(items,quantity)\n",
    "print(list(orders))\n",
    "\n"
   ]
  },
  {
   "cell_type": "code",
   "execution_count": 6,
   "metadata": {},
   "outputs": [
    {
     "name": "stdout",
     "output_type": "stream",
     "text": [
      "(('apple', 5), ('orange', 3), ('banana', 2))\n"
     ]
    }
   ],
   "source": [
    "orders = zip(items,quantity)\n",
    "print(tuple(orders))"
   ]
  },
  {
   "cell_type": "code",
   "execution_count": 7,
   "metadata": {
    "scrolled": true
   },
   "outputs": [
    {
     "name": "stdout",
     "output_type": "stream",
     "text": [
      "{'apple': 5, 'orange': 3, 'banana': 2}\n"
     ]
    }
   ],
   "source": [
    "orders = zip(items,quantity)\n",
    "print(dict(orders))"
   ]
  },
  {
   "cell_type": "code",
   "execution_count": null,
   "metadata": {},
   "outputs": [],
   "source": []
  },
  {
   "cell_type": "markdown",
   "metadata": {},
   "source": [
    "You can retrieve all the values from a dictionary using the <code>values()</code> convience method on the dictioanry as shown below. There is also a convience method for retrieving the keys for a dictionary, called <code>keys()</code>. "
   ]
  },
  {
   "cell_type": "code",
   "execution_count": 1,
   "metadata": {},
   "outputs": [
    {
     "name": "stdout",
     "output_type": "stream",
     "text": [
      "dict_values([5, 3, 2])\n",
      "[5, 3, 2]\n"
     ]
    }
   ],
   "source": [
    "orders = {'apple':5, 'orange':3, 'banana':2}\n",
    "print(orders.values())\n",
    "print(list(orders.values())) # constructor for list "
   ]
  },
  {
   "cell_type": "code",
   "execution_count": 2,
   "metadata": {},
   "outputs": [
    {
     "name": "stdout",
     "output_type": "stream",
     "text": [
      "['apple', 'orange', 'banana']\n"
     ]
    }
   ],
   "source": [
    "print(list(orders.keys()))"
   ]
  },
  {
   "cell_type": "code",
   "execution_count": 3,
   "metadata": {},
   "outputs": [
    {
     "name": "stdout",
     "output_type": "stream",
     "text": [
      "('apple', 5)\n",
      "('orange', 3)\n",
      "('banana', 2)\n"
     ]
    }
   ],
   "source": [
    "for tuple in list(orders.items()):\n",
    "    print(tuple)"
   ]
  },
  {
   "cell_type": "code",
   "execution_count": null,
   "metadata": {},
   "outputs": [],
   "source": []
  },
  {
   "cell_type": "markdown",
   "metadata": {},
   "source": [
    "As stated previous tuples are fixed lengths, you can modify them and change their size through additional and concatentation but you can not <code>append()</code> like you would with a traditional list object."
   ]
  },
  {
   "cell_type": "code",
   "execution_count": 2,
   "metadata": {},
   "outputs": [
    {
     "name": "stdout",
     "output_type": "stream",
     "text": [
      "3\n"
     ]
    }
   ],
   "source": [
    "t = ('bread', 'milk', 'eggs')\n",
    "print(len(t))"
   ]
  },
  {
   "cell_type": "code",
   "execution_count": 3,
   "metadata": {},
   "outputs": [
    {
     "ename": "AttributeError",
     "evalue": "'tuple' object has no attribute 'append'",
     "output_type": "error",
     "traceback": [
      "\u001b[0;31m---------------------------------------------------------------------------\u001b[0m",
      "\u001b[0;31mAttributeError\u001b[0m                            Traceback (most recent call last)",
      "\u001b[0;32m<ipython-input-3-656a23da4fe5>\u001b[0m in \u001b[0;36m<module>\u001b[0;34m\u001b[0m\n\u001b[0;32m----> 1\u001b[0;31m \u001b[0mt\u001b[0m\u001b[0;34m.\u001b[0m\u001b[0mappend\u001b[0m\u001b[0;34m(\u001b[0m\u001b[0;34m'apple'\u001b[0m\u001b[0;34m)\u001b[0m\u001b[0;34m\u001b[0m\u001b[0;34m\u001b[0m\u001b[0m\n\u001b[0m\u001b[1;32m      2\u001b[0m \u001b[0mt\u001b[0m\u001b[0;34m[\u001b[0m\u001b[0;36m2\u001b[0m\u001b[0;34m]\u001b[0m \u001b[0;34m=\u001b[0m \u001b[0;34m'apple'\u001b[0m\u001b[0;34m\u001b[0m\u001b[0;34m\u001b[0m\u001b[0m\n",
      "\u001b[0;31mAttributeError\u001b[0m: 'tuple' object has no attribute 'append'"
     ]
    }
   ],
   "source": [
    "t.append('apple')\n",
    "t[2] = 'apple'"
   ]
  },
  {
   "cell_type": "code",
   "execution_count": 5,
   "metadata": {},
   "outputs": [
    {
     "name": "stdout",
     "output_type": "stream",
     "text": [
      "('bread', 'milk', 'eggs', 'apple', 'orange')\n",
      "('bread', 'milk', 'eggs')\n",
      "('bread', 'milk', 'eggs', 'bread', 'milk', 'eggs')\n"
     ]
    }
   ],
   "source": [
    "print(t + ('apple','orange'))\n",
    "print(t)"
   ]
  },
  {
   "cell_type": "markdown",
   "metadata": {},
   "source": [
    "Tuples can have mixed types and don't need to be wrapped in parentheses necessarily but it is highly reccomended so the code is more intuitive. "
   ]
  },
  {
   "cell_type": "code",
   "execution_count": 4,
   "metadata": {},
   "outputs": [
    {
     "name": "stdout",
     "output_type": "stream",
     "text": [
      "('apple', True, 3)\n",
      "(('apple', 3), ('orange', 2), ('banana', 5))\n"
     ]
    }
   ],
   "source": [
    "t_mixed = 'apple', True, 3\n",
    "print(t_mixed)\n",
    "\n",
    "t_shopping = ('apple',3), ('orange',2), ('banana',5)\n",
    "print(t_shopping)"
   ]
  },
  {
   "cell_type": "code",
   "execution_count": null,
   "metadata": {},
   "outputs": [],
   "source": []
  },
  {
   "cell_type": "markdown",
   "metadata": {},
   "source": [
    "The last data structure we will get to is a <b>set</b>. Similar to mathematical sets, they key features of Python sets are all values are unique and the values are unordered. You can add to a set using the <code>add()</code> convenience method. Python sets also support other mathematical operations that sets have such as <b>unions: |</b>, <b>intersections: \\&</b>, <b>difference: -</b>, <b>super sets: issuperset()</b>, and <b>sub sets: issubset()</b>."
   ]
  },
  {
   "cell_type": "code",
   "execution_count": 6,
   "metadata": {},
   "outputs": [
    {
     "name": "stdout",
     "output_type": "stream",
     "text": [
      "{1, 2, 3, 4, 5, 6}\n"
     ]
    }
   ],
   "source": [
    "s1 = set([1,2,3,4,5,6])\n",
    "print(s1)"
   ]
  },
  {
   "cell_type": "code",
   "execution_count": 7,
   "metadata": {},
   "outputs": [
    {
     "name": "stdout",
     "output_type": "stream",
     "text": [
      "{1, 2, 3, 4, 5, 6}\n"
     ]
    }
   ],
   "source": [
    "s2 = set([1,2,2,3,4,4,5,6,6])\n",
    "print(s2)"
   ]
  },
  {
   "cell_type": "code",
   "execution_count": 8,
   "metadata": {},
   "outputs": [
    {
     "name": "stdout",
     "output_type": "stream",
     "text": [
      "{1, 2, 3, 4, 5, 6}\n"
     ]
    }
   ],
   "source": [
    "s3 = set([3,4,5,6,6,6,1,1,2])\n",
    "print(s3)"
   ]
  },
  {
   "cell_type": "code",
   "execution_count": 9,
   "metadata": {},
   "outputs": [
    {
     "name": "stdout",
     "output_type": "stream",
     "text": [
      "{'orange', 'apple', 'banana'}\n"
     ]
    }
   ],
   "source": [
    "s4 = {\"apple\", \"orange\", \"banana\"}\n",
    "print(s4)"
   ]
  },
  {
   "cell_type": "code",
   "execution_count": 10,
   "metadata": {},
   "outputs": [
    {
     "name": "stdout",
     "output_type": "stream",
     "text": [
      "{'orange', 'pineapple', 'apple', 'banana'}\n"
     ]
    }
   ],
   "source": [
    "s4.add('pineapple')\n",
    "print(s4)"
   ]
  },
  {
   "cell_type": "code",
   "execution_count": null,
   "metadata": {},
   "outputs": [],
   "source": []
  },
  {
   "cell_type": "code",
   "execution_count": 11,
   "metadata": {},
   "outputs": [],
   "source": [
    "s5 = {1,2,3,4}\n",
    "s6 = {3,4,5,6}"
   ]
  },
  {
   "cell_type": "code",
   "execution_count": 12,
   "metadata": {},
   "outputs": [
    {
     "name": "stdout",
     "output_type": "stream",
     "text": [
      "{1, 2, 3, 4, 5, 6}\n",
      "{1, 2, 3, 4, 5, 6}\n"
     ]
    }
   ],
   "source": [
    "print(s5 | s6)\n",
    "print(s5.union(s6))"
   ]
  },
  {
   "cell_type": "code",
   "execution_count": 13,
   "metadata": {},
   "outputs": [
    {
     "name": "stdout",
     "output_type": "stream",
     "text": [
      "{3, 4}\n",
      "{3, 4}\n"
     ]
    }
   ],
   "source": [
    "print(s5 & s6)\n",
    "print(s5.intersection(s6))"
   ]
  },
  {
   "cell_type": "code",
   "execution_count": 14,
   "metadata": {},
   "outputs": [
    {
     "name": "stdout",
     "output_type": "stream",
     "text": [
      "{1, 2}\n",
      "{1, 2}\n"
     ]
    }
   ],
   "source": [
    "print(s5 - s6)\n",
    "print(s5.difference(s6))"
   ]
  },
  {
   "cell_type": "code",
   "execution_count": 51,
   "metadata": {},
   "outputs": [],
   "source": [
    "\n",
    "\n",
    "s7 = {1,2,3}\n",
    "s8 = {1,2,3,4,5}\n"
   ]
  },
  {
   "cell_type": "code",
   "execution_count": 16,
   "metadata": {},
   "outputs": [
    {
     "name": "stdout",
     "output_type": "stream",
     "text": [
      "True\n",
      "False\n",
      "False\n"
     ]
    }
   ],
   "source": [
    "print(s7 < s8)\n",
    "\n",
    "s9 = {1,2,3}\n",
    "s10 = {1,2,3}\n",
    "\n",
    "print(s9 < s10)\n",
    "print(s9 < s9)"
   ]
  },
  {
   "cell_type": "code",
   "execution_count": 52,
   "metadata": {},
   "outputs": [
    {
     "name": "stdout",
     "output_type": "stream",
     "text": [
      "True\n",
      "True\n",
      "True\n",
      "False\n",
      "False\n"
     ]
    }
   ],
   "source": [
    "print(s8 >= s7)\n",
    "print(s8.issuperset(s7))\n",
    "print(s8 > s7)\n",
    "print(s7 > s8)\n",
    "print(s8 > s8)"
   ]
  },
  {
   "cell_type": "markdown",
   "metadata": {},
   "source": [
    "So far we've been learning the syntax, flow control, and data structures behind the Python programming language. If you are coming into this class with programming experience, picking this up may have been fairly straightforward and you may have learned a few things about Python and can see why it is simpler and more ready to use as a programming language than the more strict and structured programming languages available. Once you have mastered these core concepts, we are going to start learning programming as it is truly practiced, not just the tools available to you by creating your own functions and objects.\n",
    "\n",
    "Try practicing using the four data structures we learned in this module and due the assoicated Activity Asssignments as homework. "
   ]
  },
  {
   "cell_type": "code",
   "execution_count": null,
   "metadata": {},
   "outputs": [],
   "source": []
  }
 ],
 "metadata": {
  "kernelspec": {
   "display_name": "Python 3",
   "language": "python",
   "name": "python3"
  },
  "language_info": {
   "codemirror_mode": {
    "name": "ipython",
    "version": 3
   },
   "file_extension": ".py",
   "mimetype": "text/x-python",
   "name": "python",
   "nbconvert_exporter": "python",
   "pygments_lexer": "ipython3",
   "version": "3.7.4"
  }
 },
 "nbformat": 4,
 "nbformat_minor": 2
}
