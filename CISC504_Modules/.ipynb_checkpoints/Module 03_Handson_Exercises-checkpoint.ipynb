{
 "cells": [
  {
   "cell_type": "markdown",
   "metadata": {},
   "source": [
    "<h1 style=\"text-align:center;\">Harrisburg University of Science & Technology</h1>\n",
    "<h2 style=\"text-align:center;\">CISC 504 Principles of Programming Languages </h2>\n",
    "<h3 style=\"text-align:center;\">Exercuse S</h3>\n"
   ]
  },
  {
   "cell_type": "markdown",
   "metadata": {},
   "source": [
    "<h2>Module 03</h2>\n",
    "<h3>Executng Python - Programs, Algorithms, and Functions</h3>\n",
    "<p>We are going to start exploring a concept in software engineering called <b>DRY</b> or Don't Repeat Yourself. When you write code, you want to make the code reusable and modular. That is why software engineers use functions and algorithms. Functions allow you to reuse code as needed and be more concise while keeping your extremely descriptive and intuitive. </p>"
   ]
  },
  {
   "cell_type": "markdown",
   "metadata": {},
   "source": [
    "<p>The standard Python file extension when creating a script or a module is <b>.py</b>  You can <code>import</code> Python modules into your notebook or into another script/module which allows you to utilize the code in your current notebook, script, or module.<br/>\n",
    "    Before we get into that, it's important to understand the difference between a <b>script</b> and a <b>module</b><br/>\n",
    "    A <b>script</b> refers to a single Python file that performs the entirety of a task, whether that be a series of calculations, plotting output data, or performing a user interactions.<br/>\n",
    "    A <b>module</b> is a single Python file that performs a task or tasks that are related.<br/>\n",
    "    \n",
    "Imagine a calculator, you could define all the functions required for creating a calculator in one Python file then execute all those functions that you just wrote within the same file, the issue is tha if you wanted to use that code you created again, youd have to copy the code over and possibly make changes to it to fit your current script that you are working on. This can be tedious if you find yourself using those same calculations over and over again in different scripts. A second approach would be to create a Python module named <b>calculations.py</b> and lets say that module contains a function, called <code>average()</code>that if passed a list of numbers would return the mean. You can then <b>import</b> the <code>average()</code> function from that module and use it in any other script that you create, and not have to redefine the function every time. You can do this by stating <code>from calculations import average</code> Now you are free to execute the commande <code>average(my_list_of_numbers)</code> in the script or notebook you are working on. \n",
    "\n",
    "</br>\n",
    "\n",
    "I know that was rather long winded but the TL;DR is: <b>scripts</b> are useful for short term, small scoped <b>assignments</b> while <b>modules</b> \n",
    "are what you are going to be using in <b>projects</b> because they will typically incorpate the use of many Python files at once to improve code organization and readability.\n",
    "\n",
    "</br>\n",
    "\n",
    "Python has a few standard modules, an important one is <b>math</b> and obviously stores many of the more complex mathemical operations. We have been able to perform some of the more basic mathematical operations without math and that's because they are so common that almost all Python programs will implement them. The <code>math</code> module contains many more functions that we will be leveraging in this section.\n",
    "\n",
    "</br></br>\n",
    "Some other important terminolgy covered in this section:</br></br>\n",
    "\n",
    "\n",
    "<b>Function </b>vs. <b>Method</b> - Typically used interchangibly but a function will always return a value, a method has no return value. \n",
    "</br></br>\n",
    "\n",
    "\n",
    "<b>Return</b> - When a function <b>returns</b> an element or elements, the value of the function is whatever is returned. Example: the <code>add(x,y)</code> function returns the value of x+y. When you call <code>add(x,y)</code> you can assign the value of sum to the result of that function as such: <code>sum = add(1,2)</code> so the value of the variable <code>sum</code> would be 3 because <code>add(1,2)</code> <b>returned</b> the value of 1+2, or 3. </br></br>\n",
    "\n",
    "<b>Parameter</b> - an item \"passed\" to a function within the parentheses attached to the function, can be multilple using comma seperators. \n",
    "</p>"
   ]
  },
  {
   "cell_type": "code",
   "execution_count": 1,
   "metadata": {},
   "outputs": [],
   "source": [
    "import math"
   ]
  },
  {
   "cell_type": "code",
   "execution_count": 2,
   "metadata": {},
   "outputs": [],
   "source": [
    "numbers = [5, 7, 11]"
   ]
  },
  {
   "cell_type": "code",
   "execution_count": 3,
   "metadata": {},
   "outputs": [],
   "source": [
    "result = sum([math.factorial(n) for n in numbers])"
   ]
  },
  {
   "cell_type": "code",
   "execution_count": 4,
   "metadata": {},
   "outputs": [
    {
     "name": "stdout",
     "output_type": "stream",
     "text": [
      "39921960\n"
     ]
    }
   ],
   "source": [
    "print(result)"
   ]
  },
  {
   "cell_type": "markdown",
   "metadata": {},
   "source": [
    "Using the text editor of your choice (this could be Jupyter by selecting New | Text File), create a new file named <code>my_module.py</code> and place it in the same directory as this notebook. In that file, copy and paste the following code snippet. Save the file then come back here and execute the cells following this code snippet. Remember when transferring the code, <b>indentation matters!</b>\n"
   ]
  },
  {
   "cell_type": "code",
   "execution_count": 5,
   "metadata": {},
   "outputs": [],
   "source": [
    "import math\n",
    "\n",
    "def compute(numbers):\n",
    "    return([math.factorial(n) for n in numbers])"
   ]
  },
  {
   "cell_type": "code",
   "execution_count": 6,
   "metadata": {
    "scrolled": true
   },
   "outputs": [
    {
     "data": {
      "text/plain": [
       "[120, 5040, 39916800]"
      ]
     },
     "execution_count": 6,
     "metadata": {},
     "output_type": "execute_result"
    }
   ],
   "source": [
    "from my_module import compute\n",
    "compute([5, 7, 11])"
   ]
  },
  {
   "cell_type": "code",
   "execution_count": null,
   "metadata": {},
   "outputs": [],
   "source": []
  },
  {
   "cell_type": "markdown",
   "metadata": {},
   "source": [
    "It's helpful to create some documentation that describes the purpose of the module or the functions within the module. Execute the next 3 lines code cells and see the results. The last one should yield nothing. That's because we never created any documentation in our <b>my_module.py</b> program. Go back to your file and put in a <i>Docstring</i>. Docstrings are a created using three quotation marks <b>\"\"\"</b> to indicate the start and stop of a Docstring. You should put a docstring at the top of your files, the first line, and it should describe the purpose and high-level usage instructions for the file.\n",
    "\n",
    "**You may have to restart your Jupyter notebook to get the most recent changes to your file, try clicking the restart button on the top ribbon (it looks like a arrow in a cirlce pointing clockwise), between the stop square and the double triangles that execute the whole notebook. \n"
   ]
  },
  {
   "cell_type": "code",
   "execution_count": 7,
   "metadata": {},
   "outputs": [],
   "source": [
    "import my_module"
   ]
  },
  {
   "cell_type": "code",
   "execution_count": 8,
   "metadata": {},
   "outputs": [
    {
     "name": "stdout",
     "output_type": "stream",
     "text": [
      "Help on module my_module:\n",
      "\n",
      "NAME\n",
      "    my_module - Doc String Test\n",
      "\n",
      "FUNCTIONS\n",
      "    compute(numbers)\n",
      "\n",
      "FILE\n",
      "    /Users/cdruckemiller/Documents/GitHub/The-Python-Workshop/Chapter03/504_Package03/my_module.py\n",
      "\n",
      "\n"
     ]
    }
   ],
   "source": [
    "help(my_module)"
   ]
  },
  {
   "cell_type": "code",
   "execution_count": 9,
   "metadata": {},
   "outputs": [
    {
     "data": {
      "text/plain": [
       "'Doc String Test'"
      ]
     },
     "execution_count": 9,
     "metadata": {},
     "output_type": "execute_result"
    }
   ],
   "source": [
    "my_module.__doc__"
   ]
  },
  {
   "cell_type": "code",
   "execution_count": null,
   "metadata": {},
   "outputs": [],
   "source": []
  },
  {
   "cell_type": "markdown",
   "metadata": {},
   "source": [
    "Now we are going to experiment with a sorting algorithm. Sorting is a common task in computer science, and life in general. Unsuprisingly, there are a myriad of sorting techniques used in programming and these algorithms are an excellent starting point for understanding alogrithmic thinking and the DRY mentality. </br>\n",
    "\n",
    "Before we start sorting we can attempt to find the largest number in a list. This will be using a conditional, <code>if</code> statement, and a looping technique, <code>for</code> loop. Given an array of <b>n</b> numerical elements find the largest numerical value. "
   ]
  },
  {
   "cell_type": "code",
   "execution_count": 10,
   "metadata": {},
   "outputs": [],
   "source": [
    "l = [4, 2, 7, 3]"
   ]
  },
  {
   "cell_type": "code",
   "execution_count": 11,
   "metadata": {},
   "outputs": [],
   "source": [
    "maximum = 0 "
   ]
  },
  {
   "cell_type": "code",
   "execution_count": 12,
   "metadata": {},
   "outputs": [],
   "source": [
    "for number in l:\n",
    "    if number > maximum:\n",
    "        maximum = number"
   ]
  },
  {
   "cell_type": "code",
   "execution_count": 13,
   "metadata": {},
   "outputs": [
    {
     "name": "stdout",
     "output_type": "stream",
     "text": [
      "7\n"
     ]
    }
   ],
   "source": [
    "print(maximum)"
   ]
  },
  {
   "cell_type": "code",
   "execution_count": null,
   "metadata": {},
   "outputs": [],
   "source": []
  },
  {
   "cell_type": "markdown",
   "metadata": {},
   "source": [
    "Now that we can find the largest number in a list, lets try sorting a list from smallest to largest"
   ]
  },
  {
   "cell_type": "code",
   "execution_count": 14,
   "metadata": {},
   "outputs": [],
   "source": [
    "l = [5, 8, 1, 3, 2]"
   ]
  },
  {
   "cell_type": "code",
   "execution_count": 15,
   "metadata": {},
   "outputs": [],
   "source": [
    "still_swapping = True"
   ]
  },
  {
   "cell_type": "code",
   "execution_count": 16,
   "metadata": {},
   "outputs": [],
   "source": [
    "while still_swapping:\n",
    "    still_swapping = False\n",
    "    for i in range(len(l) - 1):\n",
    "        if l[i] > l[i+1]:\n",
    "            l[i], l[i+1] = l[i+1], l[i]\n",
    "            still_swapping = True"
   ]
  },
  {
   "cell_type": "code",
   "execution_count": 17,
   "metadata": {},
   "outputs": [
    {
     "data": {
      "text/plain": [
       "[1, 2, 3, 5, 8]"
      ]
     },
     "execution_count": 17,
     "metadata": {},
     "output_type": "execute_result"
    }
   ],
   "source": [
    "l"
   ]
  },
  {
   "cell_type": "code",
   "execution_count": null,
   "metadata": {},
   "outputs": [],
   "source": []
  },
  {
   "cell_type": "markdown",
   "metadata": {},
   "source": [
    "The most common purpose of sorting is to perform a search. First let's try finding a number with an unsorted list. "
   ]
  },
  {
   "cell_type": "code",
   "execution_count": 75,
   "metadata": {},
   "outputs": [],
   "source": [
    "l = [5, 8, 1, 3, 2]"
   ]
  },
  {
   "cell_type": "code",
   "execution_count": 76,
   "metadata": {},
   "outputs": [],
   "source": [
    "search_for = 8"
   ]
  },
  {
   "cell_type": "code",
   "execution_count": 77,
   "metadata": {},
   "outputs": [],
   "source": [
    "result = -1 "
   ]
  },
  {
   "cell_type": "code",
   "execution_count": 78,
   "metadata": {},
   "outputs": [],
   "source": [
    "for i in range(len(l)):\n",
    "    if search_for == l[i]:\n",
    "        result = i\n",
    "        break\n"
   ]
  },
  {
   "cell_type": "code",
   "execution_count": 79,
   "metadata": {},
   "outputs": [
    {
     "name": "stdout",
     "output_type": "stream",
     "text": [
      "1\n"
     ]
    }
   ],
   "source": [
    "print(result)"
   ]
  },
  {
   "cell_type": "markdown",
   "metadata": {},
   "source": [
    "Our only real strategy is to loop through every element and check each element until we find it. Introducing the concept of <b>complexity</b> which in computer science we split into two sub categories called <b>time complexity</b> and <b>spacial complexity</b> for now we will only worry about the former. Time complexity we can measure in the number of steps it takes to complete a task. Iteratting through every element in a list can result in a large amount of operations. If we find ourselves searching for an item multiple times, this can lead to high complexity and low perforamnce of our code. So we sort first, and then we can search much more effectively using a <b>binary search</b> which removes half of the possible search results with every iteration, allowing it to run in logarithmic time. What this means is that, given the worst case scenario for the search, it will take log(n) number of iterations to complete the search where <b>n</b> is the number elements in the list.\n",
    "\n"
   ]
  },
  {
   "cell_type": "code",
   "execution_count": 23,
   "metadata": {},
   "outputs": [],
   "source": [
    "l = [2, 3, 5, 8, 11, 12, 18]"
   ]
  },
  {
   "cell_type": "code",
   "execution_count": 24,
   "metadata": {},
   "outputs": [],
   "source": [
    "search_for = 11"
   ]
  },
  {
   "cell_type": "code",
   "execution_count": 25,
   "metadata": {},
   "outputs": [],
   "source": [
    "slice_start = 0"
   ]
  },
  {
   "cell_type": "code",
   "execution_count": 26,
   "metadata": {},
   "outputs": [],
   "source": [
    "slice_end = len(l) - 1 "
   ]
  },
  {
   "cell_type": "code",
   "execution_count": 27,
   "metadata": {},
   "outputs": [],
   "source": [
    "found = False"
   ]
  },
  {
   "cell_type": "code",
   "execution_count": 28,
   "metadata": {},
   "outputs": [],
   "source": [
    "while slice_start <= slice_end and not found:\n",
    "    location = (slice_start + slice_end) // 2\n",
    "    if l[location] == search_for:\n",
    "        found = True\n",
    "    else:\n",
    "        if search_for < l[location]:\n",
    "            slice_end = location - 1\n",
    "        else:\n",
    "            slice_start = location + 1"
   ]
  },
  {
   "cell_type": "code",
   "execution_count": 29,
   "metadata": {},
   "outputs": [
    {
     "name": "stdout",
     "output_type": "stream",
     "text": [
      "True\n",
      "4\n"
     ]
    }
   ],
   "source": [
    "print(found)\n",
    "print(location)"
   ]
  },
  {
   "cell_type": "markdown",
   "metadata": {},
   "source": [
    "Now we are going to create another Python module called <code>multiply.py</code> Create a file the same way you did previously, making sure that it is in the same directory as this notebook. </br>>A good practice for running these codes would be to create a folder on your machine where they notebooks live permanently called CISC_504_Notebooks_and_Files or something similar instead of running these in your Downloads folder. Then you can easily navigate to this directory and create files here as needed.\n",
    "\n",
    "</br>\n",
    "This file should have the following code snippet in it. Feel free to add a docstring to it for your future self's benefit. \n",
    "</br>Once again remember, <b>INDENTATION MATTERS</b> so be careful!"
   ]
  },
  {
   "cell_type": "code",
   "execution_count": 81,
   "metadata": {},
   "outputs": [
    {
     "name": "stdout",
     "output_type": "stream",
     "text": [
      "6\n",
      "300\n"
     ]
    }
   ],
   "source": [
    "def list_product(my_list): \n",
    "    result = 1\n",
    "    for number in my_list: \n",
    "        result = result * number\n",
    "    return result \n",
    " \n",
    "print(list_product([2, 3])) \n",
    "print(list_product([2, 10, 15]))"
   ]
  },
  {
   "cell_type": "markdown",
   "metadata": {},
   "source": [
    "We can't just <code>import multiple</code> with this file because we have extra print statements in the file. They will get executed on a blanket import. Instead we will do a <b>selective</b> import and just grab one function from <code>multiply</code> using the syntax below. "
   ]
  },
  {
   "cell_type": "code",
   "execution_count": 87,
   "metadata": {},
   "outputs": [
    {
     "data": {
      "text/plain": [
       "-6"
      ]
     },
     "execution_count": 87,
     "metadata": {},
     "output_type": "execute_result"
    }
   ],
   "source": [
    "from multiply import list_product\n",
    "list_product([-1, 2, 3])"
   ]
  },
  {
   "cell_type": "markdown",
   "metadata": {},
   "source": [
    "When creating your own functions, it's not always necessary to define required parameters. It may make sense for a function to be self contained and execute without inputs. A common usecase of this is retrieving the system time through the <code>datetime</code> module. "
   ]
  },
  {
   "cell_type": "code",
   "execution_count": 90,
   "metadata": {},
   "outputs": [
    {
     "name": "stdout",
     "output_type": "stream",
     "text": [
      "2020-03-18 15:04:09.049355\n"
     ]
    }
   ],
   "source": [
    "from datetime import datetime\n",
    "\n",
    "def get_the_time():\n",
    "    return datetime.now()\n",
    "\n",
    "print(get_the_time())"
   ]
  },
  {
   "cell_type": "markdown",
   "metadata": {},
   "source": [
    "We can also define <b>default parameters</b> for a function, so they will use the defaults when not passed a parameter when called but will use the parameter passed if it is passed one. This a convient time saving method for developers when a function will typically perform a standard task but you still want to accomodate niche requirements. "
   ]
  },
  {
   "cell_type": "code",
   "execution_count": 34,
   "metadata": {},
   "outputs": [],
   "source": [
    "def add_suffix(suffix='.com'):\n",
    "    return 'google' + suffix"
   ]
  },
  {
   "cell_type": "code",
   "execution_count": 35,
   "metadata": {},
   "outputs": [
    {
     "data": {
      "text/plain": [
       "'google.com'"
      ]
     },
     "execution_count": 35,
     "metadata": {},
     "output_type": "execute_result"
    }
   ],
   "source": [
    "add_suffix()"
   ]
  },
  {
   "cell_type": "code",
   "execution_count": 36,
   "metadata": {},
   "outputs": [
    {
     "data": {
      "text/plain": [
       "'google.co.uk'"
      ]
     },
     "execution_count": 36,
     "metadata": {},
     "output_type": "execute_result"
    }
   ],
   "source": [
    "add_suffix('.co.uk')"
   ]
  },
  {
   "cell_type": "code",
   "execution_count": null,
   "metadata": {},
   "outputs": [],
   "source": []
  },
  {
   "cell_type": "markdown",
   "metadata": {},
   "source": [
    "<p>Arguement position when defining function is also important. By this, I mean the order of which you declare your parameters, specifically default parameters. If you are going to declare a default parameter, it has to be at the end of list of parameters. In order to have multiple default parameters, they must be the last parameters in the function, as such: <code>def example_function(a, b, c=100, d=100, e=100):</code></p>\n",
    "<p>Try defining a function with default parameters before non-default parameters, you should see an syntax error.</p>"
   ]
  },
  {
   "cell_type": "code",
   "execution_count": 3,
   "metadata": {},
   "outputs": [],
   "source": [
    "def convert_usd_to_aud(amount, rate=0.75):\n",
    "    return amount / rate\n"
   ]
  },
  {
   "cell_type": "code",
   "execution_count": 38,
   "metadata": {},
   "outputs": [
    {
     "data": {
      "text/plain": [
       "133.33333333333334"
      ]
     },
     "execution_count": 38,
     "metadata": {},
     "output_type": "execute_result"
    }
   ],
   "source": [
    "convert_usd_to_aud(100)"
   ]
  },
  {
   "cell_type": "code",
   "execution_count": 39,
   "metadata": {},
   "outputs": [
    {
     "data": {
      "text/plain": [
       "128.2051282051282"
      ]
     },
     "execution_count": 39,
     "metadata": {},
     "output_type": "execute_result"
    }
   ],
   "source": [
    "convert_usd_to_aud(100, rate=0.78)"
   ]
  },
  {
   "cell_type": "code",
   "execution_count": null,
   "metadata": {},
   "outputs": [],
   "source": []
  },
  {
   "cell_type": "code",
   "execution_count": 40,
   "metadata": {},
   "outputs": [],
   "source": [
    "def convert_usd_to_aud(amount, rate=0.75):\n",
    "    return amount / rate"
   ]
  },
  {
   "cell_type": "code",
   "execution_count": 41,
   "metadata": {},
   "outputs": [
    {
     "name": "stdout",
     "output_type": "stream",
     "text": [
      "5.333333333333333\n"
     ]
    }
   ],
   "source": [
    "def convert_and_sum_list(usd_list, rate=0.75):\n",
    "    total = 0\n",
    "    for amount in usd_list:\n",
    "        total += convert_usd_to_aud(amount, rate=rate)\n",
    "    return total\n",
    "\n",
    "print(convert_and_sum_list([1, 3]))\n"
   ]
  },
  {
   "cell_type": "markdown",
   "metadata": {},
   "source": [
    "Next we will discuss <b>kwargs</b> or <b>Key Word Arguments</b>. <code>**kwargs</code> can be used to defined <b>named argumenets</b> for a function. Named arguments can be accessed using a dictionary named <code>**kwargs</code> and can be used the same as a standard dictionary like anywhere else in your code. "
   ]
  },
  {
   "cell_type": "code",
   "execution_count": 42,
   "metadata": {},
   "outputs": [
    {
     "name": "stdout",
     "output_type": "stream",
     "text": [
      "5.0\n"
     ]
    }
   ],
   "source": [
    "def convert_and_sum_list_kwargs(usd_list, **kwargs):\n",
    "    total = 0\n",
    "    for amount in usd_list:\n",
    "        total += convert_usd_to_aud(amount, **kwargs)\n",
    "    return total\n",
    "\n",
    "print(convert_and_sum_list_kwargs([1, 3], rate=0.8))\n"
   ]
  },
  {
   "cell_type": "markdown",
   "metadata": {},
   "source": [
    "You can use all the other flow control patterns inside functions like you would else where in your code, including <code>for</code> loops, <code>while</code> loops and <code>if</code> statements."
   ]
  },
  {
   "cell_type": "code",
   "execution_count": 43,
   "metadata": {},
   "outputs": [],
   "source": [
    "def sum_first_n(n):\n",
    "    result = 0\n",
    "    for i in range(n):\n",
    "        result += i + 1\n",
    "    return result"
   ]
  },
  {
   "cell_type": "code",
   "execution_count": 44,
   "metadata": {},
   "outputs": [
    {
     "data": {
      "text/plain": [
       "5050"
      ]
     },
     "execution_count": 44,
     "metadata": {},
     "output_type": "execute_result"
    }
   ],
   "source": [
    "sum_first_n(100)"
   ]
  },
  {
   "cell_type": "code",
   "execution_count": null,
   "metadata": {},
   "outputs": [],
   "source": []
  },
  {
   "cell_type": "code",
   "execution_count": 45,
   "metadata": {},
   "outputs": [],
   "source": [
    "def is_prime(x):\n",
    "    for i in range(2, x):\n",
    "        if (x % i) == 0:\n",
    "            return False\n",
    "    return True"
   ]
  },
  {
   "cell_type": "code",
   "execution_count": 46,
   "metadata": {},
   "outputs": [
    {
     "data": {
      "text/plain": [
       "True"
      ]
     },
     "execution_count": 46,
     "metadata": {},
     "output_type": "execute_result"
    }
   ],
   "source": [
    "is_prime(7)"
   ]
  },
  {
   "cell_type": "code",
   "execution_count": 47,
   "metadata": {},
   "outputs": [
    {
     "data": {
      "text/plain": [
       "False"
      ]
     },
     "execution_count": 47,
     "metadata": {},
     "output_type": "execute_result"
    }
   ],
   "source": [
    "is_prime(1000)"
   ]
  },
  {
   "cell_type": "code",
   "execution_count": null,
   "metadata": {},
   "outputs": [],
   "source": []
  },
  {
   "cell_type": "markdown",
   "metadata": {},
   "source": [
    "<p>A complicated but important topic to understand in programming and computer science is <b>recursion</b>. Recursion, in the most basic understanding, is performing a task, determining if a <i>stop condition</i> is met, if it is, return, else, perform the same task again with a new parameter (typically what you would have returned if it had met the stop condition). </p>\n",
    "<p>The following is a contrived expample of a <b>recursive function</b> or a function that calls or returns itself.</p>\n"
   ]
  },
  {
   "cell_type": "code",
   "execution_count": 48,
   "metadata": {},
   "outputs": [
    {
     "name": "stdout",
     "output_type": "stream",
     "text": [
      "3\n",
      "2\n",
      "1\n",
      "liftoff!\n"
     ]
    }
   ],
   "source": [
    "def countdown(n):\n",
    "    if n == 0:\n",
    "        print('liftoff!')\n",
    "    else:\n",
    "        print(n)\n",
    "        return countdown(n - 1)\n",
    "\n",
    "countdown(3)"
   ]
  },
  {
   "cell_type": "code",
   "execution_count": null,
   "metadata": {},
   "outputs": [],
   "source": []
  },
  {
   "cell_type": "code",
   "execution_count": 49,
   "metadata": {},
   "outputs": [],
   "source": [
    "def factorial_iterative(n):\n",
    "    result = 1\n",
    "    for i in range(n):\n",
    "        result *= i + 1\n",
    "    return result\n",
    "\n"
   ]
  },
  {
   "cell_type": "code",
   "execution_count": 50,
   "metadata": {},
   "outputs": [
    {
     "data": {
      "text/plain": [
       "120"
      ]
     },
     "execution_count": 50,
     "metadata": {},
     "output_type": "execute_result"
    }
   ],
   "source": [
    "factorial_iterative(5)"
   ]
  },
  {
   "cell_type": "code",
   "execution_count": 51,
   "metadata": {},
   "outputs": [
    {
     "data": {
      "text/plain": [
       "120"
      ]
     },
     "execution_count": 51,
     "metadata": {},
     "output_type": "execute_result"
    }
   ],
   "source": [
    "def factorial_recursive(n):\n",
    "    if n == 1:\n",
    "        return 1\n",
    "    else:\n",
    "        return n * factorial_recursive(n - 1)\n",
    "    \n",
    "factorial_recursive(5)"
   ]
  },
  {
   "cell_type": "code",
   "execution_count": null,
   "metadata": {},
   "outputs": [],
   "source": []
  },
  {
   "cell_type": "markdown",
   "metadata": {},
   "source": [
    "This next example is a bit more complicated. The idea is in this exercise, you write a <code>sum_to_n function</code> to sum integers up to <b>n</b>. You store the results in a dictionary, and the function will use the stored results to return the answer in fewer iterations. The next 3 cells outline slowing defining the function to be fully... functional."
   ]
  },
  {
   "cell_type": "code",
   "execution_count": 52,
   "metadata": {},
   "outputs": [],
   "source": [
    "stored_results = {}\n",
    "\n",
    "def sum_to_n(n):\n",
    "    result = 0"
   ]
  },
  {
   "cell_type": "code",
   "execution_count": 53,
   "metadata": {},
   "outputs": [],
   "source": [
    "stored_results = {}\n",
    "\n",
    "def sum_to_n(n):\n",
    "    result = 0\n",
    "    for i in reversed(range(n)):\n",
    "        result += i + 1\n",
    "    stored_results[n] = result\n",
    "    return result"
   ]
  },
  {
   "cell_type": "code",
   "execution_count": 54,
   "metadata": {},
   "outputs": [],
   "source": [
    "stored_results = {}\n",
    "\n",
    "def sum_to_n(n):\n",
    "    result = 0\n",
    "    for i in reversed(range(n)):\n",
    "        if i + 1 in stored_results:\n",
    "            print('Stopping sum at %s because we have previously computed it' % str(i + 1))\n",
    "            result += stored_results[i + 1]\n",
    "            break\n",
    "        else:\n",
    "            result += i + 1\n",
    "    stored_results[n] = result\n",
    "    return result"
   ]
  },
  {
   "cell_type": "code",
   "execution_count": 55,
   "metadata": {},
   "outputs": [
    {
     "data": {
      "text/plain": [
       "15"
      ]
     },
     "execution_count": 55,
     "metadata": {},
     "output_type": "execute_result"
    }
   ],
   "source": [
    "sum_to_n(5)"
   ]
  },
  {
   "cell_type": "code",
   "execution_count": 56,
   "metadata": {},
   "outputs": [
    {
     "name": "stdout",
     "output_type": "stream",
     "text": [
      "Stopping sum at 5 because we have previously computed it\n"
     ]
    },
    {
     "data": {
      "text/plain": [
       "21"
      ]
     },
     "execution_count": 56,
     "metadata": {},
     "output_type": "execute_result"
    }
   ],
   "source": [
    "sum_to_n(6)"
   ]
  },
  {
   "cell_type": "code",
   "execution_count": null,
   "metadata": {},
   "outputs": [],
   "source": []
  },
  {
   "cell_type": "markdown",
   "metadata": {},
   "source": [
    "Now using the <code>time</code> module, we can check the time it takes to return. The sum of integers the first time, versus the second time. The <code>time</code> module is useful for creating counters to track runtime, among other tasks. \n"
   ]
  },
  {
   "cell_type": "code",
   "execution_count": 57,
   "metadata": {},
   "outputs": [],
   "source": [
    "import time"
   ]
  },
  {
   "cell_type": "code",
   "execution_count": 58,
   "metadata": {},
   "outputs": [],
   "source": [
    "stored_results = {}\n",
    "def sum_to_n(n):\n",
    "    start_time = time.perf_counter()\n",
    "    result = 0\n",
    "    for i in reversed(range(n)):\n",
    "        if i + 1 in stored_results:\n",
    "            print('Stopping sum at %s because we have previously computed it' % str(i + 1))\n",
    "            result += stored_results[i + 1]\n",
    "            break\n",
    "        else:\n",
    "            result += i + 1\n",
    "    stored_results[n] = result\n",
    "    print(time.perf_counter() - start_time, \"seconds\")\n",
    "    return result"
   ]
  },
  {
   "cell_type": "code",
   "execution_count": 59,
   "metadata": {},
   "outputs": [
    {
     "name": "stdout",
     "output_type": "stream",
     "text": [
      "0.13699111100000017 seconds\n"
     ]
    },
    {
     "data": {
      "text/plain": [
       "500000500000"
      ]
     },
     "execution_count": 59,
     "metadata": {},
     "output_type": "execute_result"
    }
   ],
   "source": [
    "sum_to_n(1000000)"
   ]
  },
  {
   "cell_type": "code",
   "execution_count": 60,
   "metadata": {},
   "outputs": [
    {
     "name": "stdout",
     "output_type": "stream",
     "text": [
      "Stopping sum at 1000000 because we have previously computed it\n",
      "4.223700000016706e-05 seconds\n"
     ]
    },
    {
     "data": {
      "text/plain": [
       "500000500000"
      ]
     },
     "execution_count": 60,
     "metadata": {},
     "output_type": "execute_result"
    }
   ],
   "source": [
    "sum_to_n(1000000)"
   ]
  },
  {
   "cell_type": "code",
   "execution_count": null,
   "metadata": {},
   "outputs": [],
   "source": [
    ".000042237"
   ]
  },
  {
   "cell_type": "markdown",
   "metadata": {},
   "source": [
    "So far we've used only one function to perform all the actions for a task, whether it was recursive or a regular function, it was always just a singular function. In true prgoramming, you will create many functions to perform the tasks required for your assignments or work. In some scenarios it may be advantageous to create <b>helper functions</b> to perform tasks within functions. The following example creates a money totaler that uses predefined conversion rates, but we later improve the function to use a <b>helper function</b>: <code>convert_currency(amount, rate, margin=0)</code>. Perhaps you can further improve this function by using a list of dictionaries with values and rates to compute the total currency from mutliple locations in one function call. "
   ]
  },
  {
   "cell_type": "code",
   "execution_count": 61,
   "metadata": {},
   "outputs": [
    {
     "data": {
      "text/plain": [
       "12.9"
      ]
     },
     "execution_count": 61,
     "metadata": {},
     "output_type": "execute_result"
    }
   ],
   "source": [
    "def compute_usd_total(amount_in_aud=0, amount_in_gbp=0):\n",
    "    total = 0\n",
    "    total += amount_in_aud * 0.78\n",
    "    total += amount_in_gbp * 1.29\n",
    "    return total\n",
    "\n",
    "compute_usd_total(amount_in_gbp=10)"
   ]
  },
  {
   "cell_type": "code",
   "execution_count": 62,
   "metadata": {},
   "outputs": [],
   "source": [
    "def _convert_currency(amount, rate, margin=0):\n",
    "     return amount * rate * (1 + margin)\n"
   ]
  },
  {
   "cell_type": "code",
   "execution_count": 63,
   "metadata": {},
   "outputs": [],
   "source": [
    "def compute_usd_total(amount_in_aud=0, amount_in_gbp=0):\n",
    "    total = 0\n",
    "    total += _convert_currency(amount_in_aud, 0.78)\n",
    "    total += _convert_currency(amount_in_gbp, 1.29)\n",
    "    return total"
   ]
  },
  {
   "cell_type": "code",
   "execution_count": 64,
   "metadata": {},
   "outputs": [
    {
     "data": {
      "text/plain": [
       "12.9"
      ]
     },
     "execution_count": 64,
     "metadata": {},
     "output_type": "execute_result"
    }
   ],
   "source": [
    "compute_usd_total(amount_in_gbp=10)"
   ]
  },
  {
   "cell_type": "code",
   "execution_count": 65,
   "metadata": {},
   "outputs": [],
   "source": [
    "def compute_usd_total(amount_in_aud=0, amount_in_gbp=0):\n",
    "    total = 0\n",
    "    total += convert_currency(amount_in_aud, 0.78)\n",
    "    total += convert_currency(amount_in_gbp, 1.29, 0.01)\n",
    "    return total\n"
   ]
  },
  {
   "cell_type": "code",
   "execution_count": 66,
   "metadata": {},
   "outputs": [
    {
     "data": {
      "text/plain": [
       "13.029"
      ]
     },
     "execution_count": 66,
     "metadata": {},
     "output_type": "execute_result"
    }
   ],
   "source": [
    "compute_usd_total(amount_in_gbp=10, )"
   ]
  },
  {
   "cell_type": "code",
   "execution_count": null,
   "metadata": {},
   "outputs": [],
   "source": []
  },
  {
   "cell_type": "markdown",
   "metadata": {},
   "source": [
    "<p>Finally we get to <b>lambda</b> functions, or anonymous functions. <b>Lambda's</b> are a relatively new concept in traditional programming where you define a task, similiar to what a function would do, without defining a formal function. You instead use the <code>lambda</code> keyword then the variable or literal you want to use as your function parameter, followed by a colon, and what you want the anonymous function to do. We call them anonymous functions because they are never formally named and are not reusable. Lambdas can be useful if you only ever need to perform a task once and it is extremely simple. The advantage being they are quick to define, only take up one line and are typically expressive but still concise. </p>\n",
    "<p>The following simple <code>lambda</code> takes a list and returns the first element of the list. Very simple but easy to abbreviate with a lambada.</p>\n"
   ]
  },
  {
   "cell_type": "code",
   "execution_count": 67,
   "metadata": {},
   "outputs": [],
   "source": [
    "first_item = lambda my_list: my_list[0]\n",
    "\n"
   ]
  },
  {
   "cell_type": "code",
   "execution_count": 68,
   "metadata": {},
   "outputs": [
    {
     "data": {
      "text/plain": [
       "'cat'"
      ]
     },
     "execution_count": 68,
     "metadata": {},
     "output_type": "execute_result"
    }
   ],
   "source": [
    "first_item(['cat', 'dog', 'mouse'])"
   ]
  },
  {
   "cell_type": "code",
   "execution_count": null,
   "metadata": {},
   "outputs": [],
   "source": []
  },
  {
   "cell_type": "markdown",
   "metadata": {},
   "source": [
    "This lambda prints out the mathematical results of mathematical <i>e</i> raise to the power of the number in the list. The <code>map(lambda_function, list)</code> function is a Python function that performs a task, <code>lambda_function</code>, on every item in an iterable, <code>list</code>. This can be helpful when you want to perform a calculation on every item in a dataset. A handy feature of the <code>map</code> function is that it always returns a result set data structure which can be passed to the <code>list()</code> constructor to make a list data structure. "
   ]
  },
  {
   "cell_type": "code",
   "execution_count": 69,
   "metadata": {},
   "outputs": [],
   "source": [
    "import math"
   ]
  },
  {
   "cell_type": "code",
   "execution_count": 70,
   "metadata": {},
   "outputs": [],
   "source": [
    "nums = [-3, -5, 1, 4] "
   ]
  },
  {
   "cell_type": "code",
   "execution_count": 71,
   "metadata": {},
   "outputs": [
    {
     "data": {
      "text/plain": [
       "[0.04742587317756678,\n",
       " 0.0066928509242848554,\n",
       " 0.7310585786300049,\n",
       " 0.9820137900379085]"
      ]
     },
     "execution_count": 71,
     "metadata": {},
     "output_type": "execute_result"
    }
   ],
   "source": [
    "list(map(lambda x: 1 / (1 + math.exp(-x)), nums))\n",
    "\n",
    "map(lambda_function, my_list)"
   ]
  },
  {
   "cell_type": "code",
   "execution_count": null,
   "metadata": {},
   "outputs": [],
   "source": []
  },
  {
   "cell_type": "markdown",
   "metadata": {},
   "source": [
    "Finally, we get to the <code>filter(lambda_function, list)</code> function. Similar to the <code>map</code> function, the <code>filter</code> function takes a lambda and a list and returns a result set. Using the lambda passed, <code>filter</code> will find any value that passes the condition set by the filtering lambda and add it to the result set, then return the result set which you can make into a list. The idea of <code>filter</code> is to find values within a list more concisely and get a list out of it in one line. Convient and descriptive in one line of code."
   ]
  },
  {
   "cell_type": "code",
   "execution_count": 10,
   "metadata": {},
   "outputs": [],
   "source": [
    "nums = list(range(1000))"
   ]
  },
  {
   "cell_type": "code",
   "execution_count": 8,
   "metadata": {},
   "outputs": [],
   "source": [
    "filtered = filter(lambda x: x % 3 == 0 or x % 7 == 0, nums)"
   ]
  },
  {
   "cell_type": "code",
   "execution_count": 11,
   "metadata": {},
   "outputs": [
    {
     "name": "stdout",
     "output_type": "stream",
     "text": [
      "0\n",
      "[]\n"
     ]
    }
   ],
   "source": [
    "print(sum(filtered)\n",
    "     )\n",
    "print(list(filtered))"
   ]
  },
  {
   "cell_type": "code",
   "execution_count": null,
   "metadata": {},
   "outputs": [],
   "source": []
  },
  {
   "cell_type": "markdown",
   "metadata": {},
   "source": [
    "In this chapter, you were introduced to a few of the fundamental tools in Python for formalizing your knowledge. You learned how to write scripts and modules instead\n",
    "of using the interactive shell. You were introduced to functions and several different popular ways of writing functions. Additionally, common algorithms that are discussed in basic computer science were presented, including bubble sort and binary search. You also learned about the importance of the DRY principle. You learned how functions help us to adhere to this principle, and how helper functions allow us to express the logical components of our code succinctly.\n",
    "In the next chapter, you will turn to the practical tools that you will need in your Python toolkit, such as how to read and write files, and how to plot visual graphs of data."
   ]
  },
  {
   "cell_type": "markdown",
   "metadata": {},
   "source": [
    "This is a hello world statement"
   ]
  },
  {
   "cell_type": "code",
   "execution_count": 12,
   "metadata": {},
   "outputs": [
    {
     "name": "stdout",
     "output_type": "stream",
     "text": [
      "hello world\n"
     ]
    }
   ],
   "source": [
    "print(\"hello world\")"
   ]
  },
  {
   "cell_type": "code",
   "execution_count": null,
   "metadata": {},
   "outputs": [],
   "source": []
  }
 ],
 "metadata": {
  "kernelspec": {
   "display_name": "Python 3",
   "language": "python",
   "name": "python3"
  },
  "language_info": {
   "codemirror_mode": {
    "name": "ipython",
    "version": 3
   },
   "file_extension": ".py",
   "mimetype": "text/x-python",
   "name": "python",
   "nbconvert_exporter": "python",
   "pygments_lexer": "ipython3",
   "version": "3.7.4"
  },
  "latex_envs": {
   "LaTeX_envs_menu_present": true,
   "autoclose": false,
   "autocomplete": true,
   "bibliofile": "biblio.bib",
   "cite_by": "apalike",
   "current_citInitial": 1,
   "eqLabelWithNumbers": true,
   "eqNumInitial": 1,
   "hotkeys": {
    "equation": "Ctrl-E",
    "itemize": "Ctrl-I"
   },
   "labels_anchors": false,
   "latex_user_defs": false,
   "report_style_numbering": false,
   "user_envs_cfg": false
  },
  "varInspector": {
   "cols": {
    "lenName": 16,
    "lenType": 16,
    "lenVar": 40
   },
   "kernels_config": {
    "python": {
     "delete_cmd_postfix": "",
     "delete_cmd_prefix": "del ",
     "library": "var_list.py",
     "varRefreshCmd": "print(var_dic_list())"
    },
    "r": {
     "delete_cmd_postfix": ") ",
     "delete_cmd_prefix": "rm(",
     "library": "var_list.r",
     "varRefreshCmd": "cat(var_dic_list()) "
    }
   },
   "types_to_exclude": [
    "module",
    "function",
    "builtin_function_or_method",
    "instance",
    "_Feature"
   ],
   "window_display": false
  }
 },
 "nbformat": 4,
 "nbformat_minor": 2
}
