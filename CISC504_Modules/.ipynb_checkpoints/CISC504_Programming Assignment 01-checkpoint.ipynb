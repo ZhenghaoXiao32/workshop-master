{
 "cells": [
  {
   "cell_type": "markdown",
   "metadata": {},
   "source": [
    " <h1 style=\"text-align:center\">Harrisburg University of Science & Technology</h1>\n",
    "    <h2 style=\"text-align:center\">CISC 504 Principles of Programming Languages </h2>\n",
    "    <h3 style=\"text-align:center\">Assignment 1: Vital Python</h3>\n"
   ]
  },
  {
   "cell_type": "markdown",
   "metadata": {},
   "source": [
    "<h3>Instructions:</h3>\n",
    "<li/>Use as many code cells as you need to implement the tasks in below.\n",
    "<li/>Submit a Jupyter Notebook (iPython) doc including a 5 minutes walk-through recording (a YouTube recordings is highly recommended.)\n",
    "<li/><b>DO NOT JUST SUBMIT THE NOTEBOOK</b>"
   ]
  },
  {
   "cell_type": "markdown",
   "metadata": {},
   "source": [
    "<h3>(1) Assigning Values to Variables</h3><br/>\n",
    "1. Assign a number to the x variable <br/>\n",
    "2. Increment the number<br/>\n",
    "3. Perform any additional operations (subractions, multiplications, division, etc).<br/>\n"
   ]
  },
  {
   "cell_type": "code",
   "execution_count": null,
   "metadata": {},
   "outputs": [],
   "source": []
  },
  {
   "cell_type": "markdown",
   "metadata": {},
   "source": [
    "<h3>(2) Finding a Solution Using the Pythagorean Theorem in Python</h3>\n",
    "\n",
    "1. Create three variables, x, y, & z, and assign them to the values 2,3, & 4\n",
    "2. Find the sum of each value squared individually (x^2 + y^2 + z^2). \n",
    "3. Print the square root of that value, which is the Pythagorean Distance in 3 Dimensions"
   ]
  },
  {
   "cell_type": "code",
   "execution_count": null,
   "metadata": {},
   "outputs": [],
   "source": []
  },
  {
   "cell_type": "markdown",
   "metadata": {},
   "source": [
    "<h3>(3) The input() Function</h3>\n",
    "\n",
    "1. Create a user input interface that prompts the user for their name. Save the input value to a variable.\n",
    "2. Greet the user by saying \"Hello, NAME\" where name is the user's name.\n",
    "3. Ask the user to rate their day, give them a prompt for a number between 1 & 10, 10 being the best day, 1 being the worst day. \n",
    "4. Tell the user \"Enjoy your RATE day, NAME\" where RATE is the number they entered and NAME is their name.\n"
   ]
  },
  {
   "cell_type": "code",
   "execution_count": null,
   "metadata": {},
   "outputs": [],
   "source": []
  },
  {
   "cell_type": "markdown",
   "metadata": {},
   "source": [
    "<h3>(4) Finding the Least Common Multiple (LCM)</h3>\n",
    "\n",
    "1. Set a pair of variables equal to 24 and 36 and an iterator equal to.\n",
    "2. Initialize a while loop that is always True and an iterator that starts at 1.\n",
    "3. Create a mathematical operation that checks if the iterator evenly divides into both numbers, remember the modulo operators (%)\n",
    "4. Set up a condition to <b>break</b> out of the loop\n",
    "5. Print out the LCM of the two numbers."
   ]
  },
  {
   "cell_type": "code",
   "execution_count": null,
   "metadata": {},
   "outputs": [],
   "source": []
  },
  {
   "cell_type": "markdown",
   "metadata": {},
   "source": [
    "<h3>(5) Building Conversational Bots Using Python</h3>\n",
    "Build two conversational bots. The first bot will ask the user two questions and include the user's answer in each of its follow-up responses. The second bot will ask a question that requires a numerical answer. Different responses will be given to a different number of scales.\n",
    "    \n",
    "1. Create the first bot, it should ask the user two random questions. Ex. Their age and their name,\n",
    "2. Have the bot <i>respond</i> to each question, using their answer in the response. Ex. \"Wow! Your AGE?!\" where AGE is the age the user entered.\n",
    "3. Create the second bot, this one should ask the user a question to answer on a scale of 1-10. Ex. How much do you like Mondays, on a scale from 1-10?.\n",
    "4. Create a response based on how high in the scale they answered, Ex. 1-5 \"Wow, you must hate Mondays!\"; 6-10 \"Wow you must love Mondays!\". \n",
    "\n",
    "<b>**Try to use nested conditionals to solve the last step.</b>"
   ]
  },
  {
   "cell_type": "code",
   "execution_count": null,
   "metadata": {},
   "outputs": [],
   "source": []
  },
  {
   "cell_type": "markdown",
   "metadata": {},
   "source": [
    "<h3> Execution & Results</h3>\n",
    "<b>Provide your 5-minutes Walk-through Recording (A link for a YouTube recordings)"
   ]
  },
  {
   "cell_type": "markdown",
   "metadata": {},
   "source": [
    "### An example from a fellow student (Yan Chu)"
   ]
  },
  {
   "cell_type": "code",
   "execution_count": 1,
   "metadata": {
    "ExecuteTime": {
     "end_time": "2020-03-01T17:11:05.081079Z",
     "start_time": "2020-03-01T17:11:04.806783Z"
    }
   },
   "outputs": [
    {
     "data": {
      "image/jpeg": "[encoded data removed]",
      "text/html": [
       "\n",
       "        <iframe\n",
       "            width=\"400\"\n",
       "            height=\"300\"\n",
       "            src=\"https://www.youtube.com/embed/1vCtUeypmMo\"\n",
       "            frameborder=\"0\"\n",
       "            allowfullscreen\n",
       "        ></iframe>\n",
       "        "
      ],
      "text/plain": [
       "<IPython.lib.display.YouTubeVideo at 0x18e05934d88>"
      ]
     },
     "execution_count": 1,
     "metadata": {},
     "output_type": "execute_result"
    }
   ],
   "source": [
    "from IPython.lib.display import YouTubeVideo\n",
    "YouTubeVideo('1vCtUeypmMo')"
   ]
  },
  {
   "cell_type": "code",
   "execution_count": null,
   "metadata": {},
   "outputs": [],
   "source": []
  }
 ],
 "metadata": {
  "kernelspec": {
   "display_name": "Python 3",
   "language": "python",
   "name": "python3"
  },
  "language_info": {
   "codemirror_mode": {
    "name": "ipython",
    "version": 3
   },
   "file_extension": ".py",
   "mimetype": "text/x-python",
   "name": "python",
   "nbconvert_exporter": "python",
   "pygments_lexer": "ipython3",
   "version": "3.7.4"
  },
  "latex_envs": {
   "LaTeX_envs_menu_present": true,
   "autoclose": false,
   "autocomplete": true,
   "bibliofile": "biblio.bib",
   "cite_by": "apalike",
   "current_citInitial": 1,
   "eqLabelWithNumbers": true,
   "eqNumInitial": 1,
   "hotkeys": {
    "equation": "Ctrl-E",
    "itemize": "Ctrl-I"
   },
   "labels_anchors": false,
   "latex_user_defs": false,
   "report_style_numbering": false,
   "user_envs_cfg": false
  },
  "varInspector": {
   "cols": {
    "lenName": 16,
    "lenType": 16,
    "lenVar": 40
   },
   "kernels_config": {
    "python": {
     "delete_cmd_postfix": "",
     "delete_cmd_prefix": "del ",
     "library": "var_list.py",
     "varRefreshCmd": "print(var_dic_list())"
    },
    "r": {
     "delete_cmd_postfix": ") ",
     "delete_cmd_prefix": "rm(",
     "library": "var_list.r",
     "varRefreshCmd": "cat(var_dic_list()) "
    }
   },
   "types_to_exclude": [
    "module",
    "function",
    "builtin_function_or_method",
    "instance",
    "_Feature"
   ],
   "window_display": false
  }
 },
 "nbformat": 4,
 "nbformat_minor": 2
}
