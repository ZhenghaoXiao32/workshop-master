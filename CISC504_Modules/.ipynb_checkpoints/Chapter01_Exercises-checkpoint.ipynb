{
 "cells": [
  {
   "cell_type": "markdown",
   "metadata": {},
   "source": [
    " <h1 style=\"text-align:center\">Harrisburg University of Science & Technology</h1>\n",
    "    <h2 style=\"text-align:center\">CISC 504 Principles of Programming Languages </h2>\n",
    "    <h3 style=\"text-align:center\">Exercise Set 1: Vital Python</h3>\n"
   ]
  },
  {
   "cell_type": "markdown",
   "metadata": {},
   "source": [
    "In this modules we will be learning the vital essentials of Python and taking our first step on a journey in becoming Pythonic and powerful software developers and engineers. \n",
    "<p>Strings, Conditionals, and Loops, explains how to write basic Python programs, and outlines the fundamentals of the Python language.</p>"
   ]
  },
  {
   "cell_type": "markdown",
   "metadata": {},
   "source": [
    "<h3>Standard Math Operations</h3>\n",
    "<table>\n",
    "   <thead>\n",
    "       <tr>\n",
    "          <th>Operation</th>\n",
    "          <th>Symbol</th>\n",
    "       </tr>\n",
    "   </thead>\n",
    "   <tbody>\n",
    "      <tr>\n",
    "         <td>Addition</td>\n",
    "         <td>+</td>\n",
    "      </tr>\n",
    "      <tr>\n",
    "         <td>Subtraction</td>\n",
    "         <td>-</td>\n",
    "      </tr>\n",
    "      <tr>\n",
    "         <td>Multiplication</td>\n",
    "         <td>*</td>\n",
    "      </tr>\n",
    "      <tr>\n",
    "         <td>Division</td>\n",
    "         <td>/</td>\n",
    "      </tr>\n",
    "      <tr>\n",
    "         <td>Integer Division</td>\n",
    "         <td>//</td>\n",
    "      </tr>\n",
    "      <tr>\n",
    "         <td>Exponential</td>\n",
    "         <td>**</td>\n",
    "      </tr>\n",
    "      <tr>\n",
    "         <td>Modulo/Remainder</td>\n",
    "         <td>%</td>\n",
    "      </tr>\n",
    "   </tbody>\n",
    "</table>"
   ]
  },
  {
   "cell_type": "markdown",
   "metadata": {},
   "source": [
    "<p>Python follows the standard order of operations of arithmetic.\n",
    "<ul>\n",
    "    <li>Parentheses</li>\n",
    "    <li>Exponents</li>\n",
    "    <li>Multiplication/Division</li>\n",
    "    <li>Addition/Subtraction</li>\n",
    "</ul>\n",
    "Using this knowledge, determine what the output of the following inputs would be.\n",
    "</p>"
   ]
  },
  {
   "cell_type": "code",
   "execution_count": 1,
   "metadata": {},
   "outputs": [
    {
     "data": {
      "text/plain": [
       "-5.0"
      ]
     },
     "execution_count": 1,
     "metadata": {},
     "output_type": "execute_result"
    }
   ],
   "source": [
    "(100 - 5 ** 3) / 5"
   ]
  },
  {
   "cell_type": "code",
   "execution_count": 2,
   "metadata": {},
   "outputs": [
    {
     "data": {
      "text/plain": [
       "9"
      ]
     },
     "execution_count": 2,
     "metadata": {},
     "output_type": "execute_result"
    }
   ],
   "source": [
    "6 + 15 % 4"
   ]
  },
  {
   "cell_type": "code",
   "execution_count": 3,
   "metadata": {},
   "outputs": [
    {
     "data": {
      "text/plain": [
       "10"
      ]
     },
     "execution_count": 3,
     "metadata": {},
     "output_type": "execute_result"
    }
   ],
   "source": [
    "2 ** 2 + 24 // 4"
   ]
  },
  {
   "cell_type": "markdown",
   "metadata": {},
   "source": [
    "Experiment with some of your mathematical operations in the below cell.\n"
   ]
  },
  {
   "cell_type": "code",
   "execution_count": 10,
   "metadata": {
    "scrolled": true
   },
   "outputs": [
    {
     "data": {
      "text/plain": [
       "9"
      ]
     },
     "execution_count": 10,
     "metadata": {},
     "output_type": "execute_result"
    }
   ],
   "source": [
    "2+2**3-1"
   ]
  },
  {
   "cell_type": "code",
   "execution_count": 13,
   "metadata": {},
   "outputs": [
    {
     "name": "stdout",
     "output_type": "stream",
     "text": [
      "2 3 4\n"
     ]
    }
   ],
   "source": [
    "test = [1,2,3,4]\n",
    "\n",
    "v1, v2,v3 = test[1:]\n",
    "\n",
    "print (v1, v2, v3)"
   ]
  },
  {
   "cell_type": "markdown",
   "metadata": {},
   "source": [
    "<h3>Types (Numbers)</h3>\n",
    "<p>Numerical data in the Python programming language is stored in what are called \"data types\". Data types are a way for Python to understand what kind of data you are referring to. For now we will focus on <code>int</code> types and <code>float</code> types.\n",
    "    <br/> <b>Int</b><br/>\n",
    "    An <code>int</code> represents any number that is an integer: {1,2,3...500}. \n",
    "    <br/><b>Float</b><br/>\n",
    "    A <code>float</code> represents any number that is not an integer: {-0.01, 1.201, 2.0, 3.14}.\n",
    "    When working with numerical data, it is important to remember what type you are working with. \n",
    "    </p>"
   ]
  },
  {
   "cell_type": "code",
   "execution_count": 4,
   "metadata": {},
   "outputs": [
    {
     "data": {
      "text/plain": [
       "int"
      ]
     },
     "execution_count": 4,
     "metadata": {},
     "output_type": "execute_result"
    }
   ],
   "source": [
    "type(6)"
   ]
  },
  {
   "cell_type": "code",
   "execution_count": 5,
   "metadata": {},
   "outputs": [
    {
     "data": {
      "text/plain": [
       "float"
      ]
     },
     "execution_count": 5,
     "metadata": {},
     "output_type": "execute_result"
    }
   ],
   "source": [
    "type(6.0)"
   ]
  },
  {
   "cell_type": "markdown",
   "metadata": {},
   "source": [
    "Python can convert between numerical data types on the fly in mathematical operations. When adding an <code>int</code> and a <code>float</code> together, Python converts the output data type into a float."
   ]
  },
  {
   "cell_type": "code",
   "execution_count": 6,
   "metadata": {},
   "outputs": [
    {
     "data": {
      "text/plain": [
       "8.14"
      ]
     },
     "execution_count": 6,
     "metadata": {},
     "output_type": "execute_result"
    }
   ],
   "source": [
    "5 + 3.14"
   ]
  },
  {
   "cell_type": "markdown",
   "metadata": {},
   "source": [
    "Another important fact to not is that Python will always attempt to presever information, that is why the result of adding an <code>int</code> and a <code>float</code> results in a float, however when converting a <code>float</code> to an <code>int</code>, Python will do a truncating round."
   ]
  },
  {
   "cell_type": "code",
   "execution_count": 16,
   "metadata": {},
   "outputs": [
    {
     "data": {
      "text/plain": [
       "7"
      ]
     },
     "execution_count": 16,
     "metadata": {},
     "output_type": "execute_result"
    }
   ],
   "source": [
    "int(7.99999999999)"
   ]
  },
  {
   "cell_type": "code",
   "execution_count": 8,
   "metadata": {},
   "outputs": [
    {
     "data": {
      "text/plain": [
       "6.0"
      ]
     },
     "execution_count": 8,
     "metadata": {},
     "output_type": "execute_result"
    }
   ],
   "source": [
    "float(6)"
   ]
  },
  {
   "cell_type": "markdown",
   "metadata": {},
   "source": [
    "Feel free to experiment with type conversion and coercion in the following cell."
   ]
  },
  {
   "cell_type": "code",
   "execution_count": null,
   "metadata": {},
   "outputs": [],
   "source": []
  },
  {
   "cell_type": "markdown",
   "metadata": {},
   "source": [
    "<h3>Variables</h3>\n",
    "<p>Variables are used to store elements of any type: data, functions, files, etc. <br/>Variable names should be descriptive as to what they represent. For example, if you are trying to represent the population of the world as a variable, perhaps you could use the variable <code>world_pop</code><br/>Variable assignment is a simple process but must be done in the correct order. The variable name always is on the left hand side and the value to be stored on the right hand side. <br/>Example: <code>variable_name = 10</code></p> "
   ]
  },
  {
   "cell_type": "code",
   "execution_count": 9,
   "metadata": {},
   "outputs": [],
   "source": [
    "x = 2"
   ]
  },
  {
   "cell_type": "code",
   "execution_count": 10,
   "metadata": {},
   "outputs": [
    {
     "data": {
      "text/plain": [
       "3"
      ]
     },
     "execution_count": 10,
     "metadata": {},
     "output_type": "execute_result"
    }
   ],
   "source": [
    "x + 1"
   ]
  },
  {
   "cell_type": "code",
   "execution_count": 9,
   "metadata": {},
   "outputs": [
    {
     "data": {
      "text/plain": [
       "6.0"
      ]
     },
     "execution_count": 9,
     "metadata": {},
     "output_type": "execute_result"
    }
   ],
   "source": [
    "x = 3.0\n",
    "x + 1\n",
    "x + 2 \n",
    "x + 3"
   ]
  },
  {
   "cell_type": "code",
   "execution_count": 5,
   "metadata": {},
   "outputs": [
    {
     "name": "stdout",
     "output_type": "stream",
     "text": [
      "['False', 'None', 'True', 'and', 'as', 'assert', 'async', 'await', 'break', 'class', 'continue', 'def', 'del', 'elif', 'else', 'except', 'finally', 'for', 'from', 'global', 'if', 'import', 'in', 'is', 'lambda', 'nonlocal', 'not', 'or', 'pass', 'raise', 'return', 'try', 'while', 'with', 'yield']\n"
     ]
    },
    {
     "data": {
      "text/plain": [
       "30"
      ]
     },
     "execution_count": 5,
     "metadata": {},
     "output_type": "execute_result"
    }
   ],
   "source": [
    "import keyword\n",
    "print(keyword.kwlist)\n",
    "\n",
    "my_number1 = 2\n",
    "seperate_words_with_underscores = 5\n",
    "\n",
    "seperate_words_with_underscore = 6\n",
    "seperate_words_with_underscore * seperate_words_with_underscores"
   ]
  },
  {
   "cell_type": "markdown",
   "metadata": {},
   "source": [
    "<p>A couple of important notes on variable names:\n",
    "    <li>Variable names should start with a letter from the english alphabet</li>\n",
    "    <li>Variable names should be written in \"slug case\": <code>seperate_words_with_underscores</code></li>\n",
    "    <li>Variable names should be entirely alpha-numeric</li>\n",
    "    <li>Variables cannot be any Python Keywords: 'False', 'None', 'True', 'and', 'as', 'assert', 'async', 'await', 'break', 'class', 'continue', 'def', 'del', 'elif', 'else', 'except', 'finally', 'for', 'from', 'global', 'if', 'import', 'in', 'is', 'lambda', 'nonlocal', 'not', 'or', 'pass', 'raise', 'return', 'try', 'while', 'with', 'yield'`\n",
    "</p>"
   ]
  },
  {
   "cell_type": "code",
   "execution_count": 3,
   "metadata": {},
   "outputs": [
    {
     "ename": "SyntaxError",
     "evalue": "invalid syntax (<ipython-input-3-05d80cc97354>, line 1)",
     "output_type": "error",
     "traceback": [
      "\u001b[1;36m  File \u001b[1;32m\"<ipython-input-3-05d80cc97354>\"\u001b[1;36m, line \u001b[1;32m1\u001b[0m\n\u001b[1;33m    1st_number = 1\u001b[0m\n\u001b[1;37m             ^\u001b[0m\n\u001b[1;31mSyntaxError\u001b[0m\u001b[1;31m:\u001b[0m invalid syntax\n"
     ]
    }
   ],
   "source": [
    "1st_number = 1"
   ]
  },
  {
   "cell_type": "code",
   "execution_count": 23,
   "metadata": {},
   "outputs": [],
   "source": [
    "first_number = 1\n"
   ]
  },
  {
   "cell_type": "code",
   "execution_count": 22,
   "metadata": {},
   "outputs": [
    {
     "ename": "SyntaxError",
     "evalue": "invalid syntax (<ipython-input-22-e3c03546ed83>, line 1)",
     "output_type": "error",
     "traceback": [
      "\u001b[1;36m  File \u001b[1;32m\"<ipython-input-22-e3c03546ed83>\"\u001b[1;36m, line \u001b[1;32m1\u001b[0m\n\u001b[1;33m    my_$ = 1000.00\u001b[0m\n\u001b[1;37m       ^\u001b[0m\n\u001b[1;31mSyntaxError\u001b[0m\u001b[1;31m:\u001b[0m invalid syntax\n"
     ]
    }
   ],
   "source": [
    "my_$ = 1000.00"
   ]
  },
  {
   "cell_type": "code",
   "execution_count": null,
   "metadata": {},
   "outputs": [],
   "source": [
    "my_money = 1000.00"
   ]
  },
  {
   "cell_type": "markdown",
   "metadata": {},
   "source": [
    "You can have an infinite number of variables in your program and they can interact with each other in various manners. "
   ]
  },
  {
   "cell_type": "code",
   "execution_count": 7,
   "metadata": {
    "scrolled": true
   },
   "outputs": [
    {
     "name": "stdout",
     "output_type": "stream",
     "text": [
      "7 2\n",
      "hello world\n"
     ]
    }
   ],
   "source": [
    "x = 5\n",
    "y = 2\n",
    "x = 7\n",
    "print(x,y)\n",
    "print(\"hello\" , \"world\")"
   ]
  },
  {
   "cell_type": "code",
   "execution_count": 10,
   "metadata": {},
   "outputs": [
    {
     "data": {
      "text/plain": [
       "2.0"
      ]
     },
     "execution_count": 10,
     "metadata": {},
     "output_type": "execute_result"
    }
   ],
   "source": [
    "x + x - y ** 2"
   ]
  },
  {
   "cell_type": "code",
   "execution_count": null,
   "metadata": {},
   "outputs": [],
   "source": [
    "x, y = 8, 5"
   ]
  },
  {
   "cell_type": "code",
   "execution_count": 11,
   "metadata": {},
   "outputs": [
    {
     "data": {
      "text/plain": [
       "1.0"
      ]
     },
     "execution_count": 11,
     "metadata": {},
     "output_type": "execute_result"
    }
   ],
   "source": [
    "x // y"
   ]
  },
  {
   "cell_type": "code",
   "execution_count": null,
   "metadata": {},
   "outputs": [],
   "source": []
  },
  {
   "cell_type": "markdown",
   "metadata": {},
   "source": [
    "<h3>Comments</h3>\n",
    "<p>Comments are important for maintaning code. They explain how your code works, what variables represent, etc. \n",
    "Comments are useful when coming back to a section of code that you haven't worked on in a while.\n",
    "</p>"
   ]
  },
  {
   "cell_type": "code",
   "execution_count": null,
   "metadata": {},
   "outputs": [],
   "source": [
    "# This is a comment"
   ]
  },
  {
   "cell_type": "markdown",
   "metadata": {},
   "source": [
    "Set value of varaiable pi to 3.14"
   ]
  },
  {
   "cell_type": "code",
   "execution_count": 30,
   "metadata": {},
   "outputs": [],
   "source": [
    "pi = 3.14 "
   ]
  },
  {
   "cell_type": "code",
   "execution_count": 29,
   "metadata": {},
   "outputs": [],
   "source": [
    "pi = 3.14    # Set the variable pi equal to 3.14"
   ]
  },
  {
   "cell_type": "markdown",
   "metadata": {},
   "source": [
    "<h3>Strings</h3>\n",
    "<p><code>string</code>'s are how Python (and other programming languages) represent words. <code>string</code>'s are signified with \"double\" or 'single' quotes. Most commonly, <code>string</code>'s represent words, phrases, and names but they can represent many more things like special characters including but not limitted it(!@#$\\%^&*). <code>string</code>'s that start with a single quote must end with a single quote, the same is true for double quotes. You can include single or double quotes inside a <code>string</code> made with the opposite initial character, shown in a following example </p> "
   ]
  },
  {
   "cell_type": "code",
   "execution_count": 12,
   "metadata": {},
   "outputs": [],
   "source": [
    "bookstore = \"City Lights\""
   ]
  },
  {
   "cell_type": "code",
   "execution_count": 17,
   "metadata": {},
   "outputs": [
    {
     "data": {
      "text/plain": [
       "'City Lights\"'"
      ]
     },
     "execution_count": 17,
     "metadata": {},
     "output_type": "execute_result"
    }
   ],
   "source": [
    "bookstore = 'City Lights\"'\n",
    "bookstore"
   ]
  },
  {
   "cell_type": "code",
   "execution_count": 37,
   "metadata": {},
   "outputs": [
    {
     "data": {
      "text/plain": [
       "\"Moe's\""
      ]
     },
     "execution_count": 37,
     "metadata": {},
     "output_type": "execute_result"
    }
   ],
   "source": [
    "bookstore = \"Moe's\"\n",
    "bookstore"
   ]
  },
  {
   "cell_type": "code",
   "execution_count": 48,
   "metadata": {
    "scrolled": false
   },
   "outputs": [
    {
     "data": {
      "text/plain": [
       "'Moe\\t'"
      ]
     },
     "execution_count": 48,
     "metadata": {},
     "output_type": "execute_result"
    }
   ],
   "source": [
    "bookstore = \"Moe\\t\"\n",
    "bookstore"
   ]
  },
  {
   "cell_type": "code",
   "execution_count": 50,
   "metadata": {},
   "outputs": [
    {
     "name": "stdout",
     "output_type": "stream",
     "text": [
      "Moe'\ts\n"
     ]
    }
   ],
   "source": [
    "print(\"Moe'\\ts\")"
   ]
  },
  {
   "cell_type": "markdown",
   "metadata": {},
   "source": [
    "There are many special characters can be put into <code>string</code>'s using what is called and \"escape\" character. The escape character is <code>\\\\</code>\n",
    "Following is a table of various special escaped sequences:\n",
    "<table>\n",
    "   <thead>\n",
    "      <tr>\n",
    "         <th>Escape Sequence</th>\n",
    "         <th>Meaning</th>\n",
    "      </tr>\n",
    "   </thead>\n",
    "   <tbody>\n",
    "      <tr>\n",
    "         <td style=\"text-align:left;\">\\\\</td>\n",
    "         <td>Blackslash (\\)</td>\n",
    "      </tr>\n",
    "      <tr>\n",
    "         <td style=\"text-align:left;\">\\'</td>\n",
    "         <td>Single Quote (')</td>\n",
    "      </tr>\n",
    "      <tr>\n",
    "         <td style=\"text-align:left;\">\\\"</td>\n",
    "         <td>Double Quote (\")</td>\n",
    "      </tr>\n",
    "      <tr>\n",
    "         <td style=\"text-align:left;\">\\b</td>\n",
    "         <td>ASCII Backspace (BS)</td>\n",
    "      </tr>\n",
    "      <tr>\n",
    "         <td style=\"text-align:left;\">\\f</td>\n",
    "         <td>ASCII Formfeeed (FF) [page break]</td>\n",
    "      </tr>\n",
    "      <tr>\n",
    "         <td style=\"text-align:left;\">\\n</td>\n",
    "         <td>ASCII Linefeed (LF) [new line]</td>\n",
    "      </tr>\n",
    "      <tr>\n",
    "         <td style=\"text-align:left;\">\\r</td>\n",
    "         <td>ASCII Carriage Return (CR) [new line]</td>\n",
    "      </tr>\n",
    "      <tr>\n",
    "         <td style=\"text-align:left;\">\\t</td>\n",
    "         <td>ASCII Horizontal Tab (TAB)</td>\n",
    "      </tr>\n",
    "      <tr>\n",
    "         <td style=\"text-align:left;\">\\v</td>\n",
    "         <td>ASCII Vertical Tab (VT)</td>\n",
    "      </tr>\n",
    "   </tbody>\n",
    "</table>\n",
    "\n",
    "The <code>print()</code> function inside Python displays the value of the parameter passed to it as a string in the standard output of the program. In the Jupyter environment, standard output is the \"Out[]\" cell immediately following the \"In[]\" cell.  "
   ]
  },
  {
   "cell_type": "code",
   "execution_count": 51,
   "metadata": {},
   "outputs": [
    {
     "name": "stdout",
     "output_type": "stream",
     "text": [
      "Hello\n"
     ]
    }
   ],
   "source": [
    "greeting = 'Hello'\n",
    "print(greeting)"
   ]
  },
  {
   "cell_type": "code",
   "execution_count": 52,
   "metadata": {},
   "outputs": [
    {
     "data": {
      "text/plain": [
       "'Hello'"
      ]
     },
     "execution_count": 52,
     "metadata": {},
     "output_type": "execute_result"
    }
   ],
   "source": [
    "greeting"
   ]
  },
  {
   "cell_type": "code",
   "execution_count": 20,
   "metadata": {},
   "outputs": [],
   "source": [
    "spanish_greeting = 'Hola.'\n",
    "spanish_greeting\n",
    "arabic_greeting = 'Ahlan wa sahlan.'"
   ]
  },
  {
   "cell_type": "code",
   "execution_count": 54,
   "metadata": {},
   "outputs": [
    {
     "name": "stdout",
     "output_type": "stream",
     "text": [
      "Hola.\n"
     ]
    }
   ],
   "source": [
    "spanish_greeting = 'Hola.'\n",
    "print(spanish_greeting)"
   ]
  },
  {
   "cell_type": "code",
   "execution_count": 55,
   "metadata": {},
   "outputs": [
    {
     "name": "stdout",
     "output_type": "stream",
     "text": [
      "Ahlan wa sahlan.\n"
     ]
    }
   ],
   "source": [
    "arabic_greeting = 'Ahlan wa sahlan.'\n",
    "print(arabic_greeting)"
   ]
  },
  {
   "cell_type": "markdown",
   "metadata": {},
   "source": [
    "With the <code>print()</code> function, you can also do <code>string</code> concatentation, multiplicitive concatentaton, interpolation and formatting. "
   ]
  },
  {
   "cell_type": "code",
   "execution_count": 23,
   "metadata": {},
   "outputs": [
    {
     "name": "stdout",
     "output_type": "stream",
     "text": [
      "Test Word\n",
      "HolaSenor.\n"
     ]
    }
   ],
   "source": [
    "spanish_greeting = 'Hola'\n",
    "two_strings = \"Test\" + \" Word\"\n",
    "print(two_strings)\n",
    "print(spanish_greeting + 'Senor.')"
   ]
  },
  {
   "cell_type": "code",
   "execution_count": 24,
   "metadata": {},
   "outputs": [
    {
     "name": "stdout",
     "output_type": "stream",
     "text": [
      "Hola Senor.\n"
     ]
    }
   ],
   "source": [
    "spanish_greeting = 'Hola'\n",
    "print(spanish_greeting + ' Senor.')"
   ]
  },
  {
   "cell_type": "code",
   "execution_count": 25,
   "metadata": {},
   "outputs": [
    {
     "name": "stdout",
     "output_type": "stream",
     "text": [
      "100111001100111001100111001100111001100111001100111001100111001100111001100111001100111001100111001100111001100111001100111001100111001100111001100111001100111001100111001100111001100111001100111001100111001100111001100111001100111001100111001100111001100111001100111001100111001100111001100111001100111001100111001100111001100111001100111001100111001100111001100111001100111001100111001100111001100111001100111001100111001100111001100111001100111001100111001100111001100111001100111001100111001100111001100111001100111001100111001100111001100111001100111001100111001100111001100111001100111001100111001100111001100111001100111001100111001100111001100111001100111001100111001100111001100111001100111001100111001100111001100111001100111001100111001100111001100111001100111001100111001100111001100111001100111001100111001100111001100111001100111001100111001100111001100111001100111001100111001100111001100111001100111001100111001100111001100111001100111001100111001100111001100111001100111001100111001100111001100111001100111001100111001100111001100111001100111001100111001100111001100111001100111001100111001100111001100111001100111001100111001100111001100111001100111001100111001100111001100111001100111001100111001100111001100111001100111001100111001100111001100111001100111001100111001100111001100111001100111001100111001100111001100111001100111001100111001100111001100111001100111001100111001100111001100111001100111001100111001100111001100111001100111001100111001100111001100111001100111001100111001100111001100111001100111001100111001100111001100111001100111001100111001100111001100111001100111001100111001100111001100111001100111001100111001100111001100111001100111001100111001100111001100111001100111001100111001100111001100111001100111001100111001100111001100111001100111001100111001100111001100111001100111001100111001100111001100111001100111001100111001100111001100111001100111001100111001100111001100111001100111001100111001100111001100111001100111001100111001100111001100111001100111001100111001100111001100111001100111001100111001100111001100111001100111001100111001100111001100111001100111001100111001100111001100111001100111001100111001100111001100111001100111001100111001100111001100111001100111001100111001100111001100111001100111001100111001100111001100111001100111001100111001100111001100111001100111001100111001100111001100111001100111001100111001100111001100111001100111001100111001100111001100111001100111001100111001100111001100111001100111001100111001100111001100111001100111001100111001100111001100111001100111001100111001100111001100111001100111001100111001100111001100111001100111001100111001100111001100111001100111001100111001100111001100111001100111001100111001100111001100111001100111001100111001100111001100111001100111001100111001100111001100111001100111001100111001100111001100111001100111001100111001100111001100111001100111001100111001100111001100111001100111001100111001100111001100111001100111001100111001100111001100111001100111001100111001100111001100111001100111001100111001100111001100111001100111001100111001100111001100111001100111001100111001100111001100111001100111001100111001100111001100111001100111001100111001100111001100111001100111001100111001100111001100111001100111001100111001100111001100111001100111001100111001100111001100111001100111001100111001100111001100111001100111001100111001100111001100111001100111001100111001100111001100111001100111001100111001100111001100111001100111001100111001100111001100111001100111001100111001100111001100111001100111001100111001100111001100111001100111001100111001100111001100111001100111001100111001100111001100111001100111001100111001100111001100111001100111001100111001100111001100111001100111001100111001100111001100111001100111001100111001100111001100111001100111001100111001100111001100111001100111001100111001100111001100111001100111001100111001100111001100111001100111001100111001100111001100111001100111001100111001100111001100111001100111001100111001100111001100111001100111001100111001100111001100111001100111001100111001100111001100111001100111001100111001100111001100111001100111001100111001100111001100111001100111001100111001100111001100111001100111001100111001100111001100111001100111001100111001100111001100111001100111001100111001100111001100111001100111001100111001100111001100111001100111001100111001100111001100111001100111001100111001100111001100111001100111001100111001100111001100111001100111001100111001100111001100111001100111001100111001100111001100111001100111001100111001100111001100111001100111001100111001100111001100111001100111001100111001100111001100111001100111001100111001100111001100111001100111001100111001100111001100111001100111001100111001100111001100111001100111001100111001100111001100111001100111001100111001100111001100111001100111001100111001100111001100111001100111001100111001100111001100111001100111001100111001100111001100111001100111001100111001100111001100111001100111001100111001100111001100111001100111001100111001100111001100111001100111001100111001\n"
     ]
    }
   ],
   "source": [
    "greeting = '100111001'\n",
    "print(greeting * 555)"
   ]
  },
  {
   "cell_type": "code",
   "execution_count": null,
   "metadata": {},
   "outputs": [],
   "source": []
  },
  {
   "cell_type": "markdown",
   "metadata": {},
   "source": [
    "For other common string operations, see the following examples and checkout this <a href=\"https://docs.python.org/3/library/string.html\">documentation</a>. "
   ]
  },
  {
   "cell_type": "code",
   "execution_count": 26,
   "metadata": {},
   "outputs": [
    {
     "data": {
      "text/plain": [
       "'corey'"
      ]
     },
     "execution_count": 26,
     "metadata": {},
     "output_type": "execute_result"
    }
   ],
   "source": [
    "name = 'Corey'\n",
    "\"Corey\".lower()"
   ]
  },
  {
   "cell_type": "code",
   "execution_count": 78,
   "metadata": {},
   "outputs": [
    {
     "name": "stdout",
     "output_type": "stream",
     "text": [
      "corey\n",
      "Corey\n"
     ]
    }
   ],
   "source": [
    "name.lower()\n",
    "print(name.lower())\n",
    "print(name)"
   ]
  },
  {
   "cell_type": "code",
   "execution_count": 75,
   "metadata": {},
   "outputs": [
    {
     "data": {
      "text/plain": [
       "'Corey'"
      ]
     },
     "execution_count": 75,
     "metadata": {},
     "output_type": "execute_result"
    }
   ],
   "source": [
    "name.capitalize()"
   ]
  },
  {
   "cell_type": "code",
   "execution_count": 27,
   "metadata": {},
   "outputs": [
    {
     "data": {
      "text/plain": [
       "'COREY'"
      ]
     },
     "execution_count": 27,
     "metadata": {},
     "output_type": "execute_result"
    }
   ],
   "source": [
    "name.upper()"
   ]
  },
  {
   "cell_type": "code",
   "execution_count": 36,
   "metadata": {},
   "outputs": [
    {
     "name": "stdout",
     "output_type": "stream",
     "text": [
      "2\n"
     ]
    }
   ],
   "source": [
    "name_2 = \"O'Brion\"\n",
    "print(name_2.count('o') + name_2.count(\"O\"))\n",
    "# name.count('o') + name.count(\"O\")"
   ]
  },
  {
   "cell_type": "markdown",
   "metadata": {},
   "source": [
    "So we have <code>int</code>, <code>float</code> and <code>string</code> data types. A common practice in programming is converting these data types back and forth as neccessary for calcuations. "
   ]
  },
  {
   "cell_type": "code",
   "execution_count": 37,
   "metadata": {},
   "outputs": [
    {
     "data": {
      "text/plain": [
       "str"
      ]
     },
     "execution_count": 37,
     "metadata": {},
     "output_type": "execute_result"
    }
   ],
   "source": [
    "type('5')"
   ]
  },
  {
   "cell_type": "code",
   "execution_count": 2,
   "metadata": {},
   "outputs": [
    {
     "data": {
      "text/plain": [
       "'57'"
      ]
     },
     "execution_count": 2,
     "metadata": {},
     "output_type": "execute_result"
    }
   ],
   "source": [
    "'5' + '7'"
   ]
  },
  {
   "cell_type": "code",
   "execution_count": 40,
   "metadata": {},
   "outputs": [
    {
     "ename": "ValueError",
     "evalue": "invalid literal for int() with base 10: '5dfg'",
     "output_type": "error",
     "traceback": [
      "\u001b[1;31m---------------------------------------------------------------------------\u001b[0m",
      "\u001b[1;31mValueError\u001b[0m                                Traceback (most recent call last)",
      "\u001b[1;32m<ipython-input-40-2e266436ca5a>\u001b[0m in \u001b[0;36m<module>\u001b[1;34m\u001b[0m\n\u001b[1;32m----> 1\u001b[1;33m \u001b[0mint\u001b[0m\u001b[1;33m(\u001b[0m\u001b[1;34m'5dfg'\u001b[0m\u001b[1;33m)\u001b[0m\u001b[1;33m\u001b[0m\u001b[1;33m\u001b[0m\u001b[0m\n\u001b[0m",
      "\u001b[1;31mValueError\u001b[0m: invalid literal for int() with base 10: '5dfg'"
     ]
    }
   ],
   "source": [
    "int('5')"
   ]
  },
  {
   "cell_type": "code",
   "execution_count": 25,
   "metadata": {},
   "outputs": [
    {
     "data": {
      "text/plain": [
       "12"
      ]
     },
     "execution_count": 25,
     "metadata": {},
     "output_type": "execute_result"
    }
   ],
   "source": [
    "int('5') + int('7')"
   ]
  },
  {
   "cell_type": "code",
   "execution_count": null,
   "metadata": {},
   "outputs": [],
   "source": []
  },
  {
   "cell_type": "markdown",
   "metadata": {},
   "source": [
    "<h3>User Input</h3>\n",
    "<p>You can interact with a user by levarging the <code>input()</code> function. "
   ]
  },
  {
   "cell_type": "code",
   "execution_count": 6,
   "metadata": {},
   "outputs": [
    {
     "name": "stdout",
     "output_type": "stream",
     "text": [
      "What is your name?\n"
     ]
    }
   ],
   "source": [
    "# Choose a question to ask\n",
    "print('What is your name?')"
   ]
  },
  {
   "cell_type": "code",
   "execution_count": 7,
   "metadata": {},
   "outputs": [
    {
     "name": "stdout",
     "output_type": "stream",
     "text": [
      "Caleb\n",
      "What is your age?25\n"
     ]
    }
   ],
   "source": [
    "name = input()\n",
    "age = input(\"What is your age?\")"
   ]
  },
  {
   "cell_type": "code",
   "execution_count": 44,
   "metadata": {},
   "outputs": [
    {
     "name": "stdout",
     "output_type": "stream",
     "text": [
      "Hello, Caleb.\n"
     ]
    }
   ],
   "source": [
    "print('Hello, ' + name+ '.')"
   ]
  },
  {
   "cell_type": "code",
   "execution_count": null,
   "metadata": {},
   "outputs": [],
   "source": [
    "print(\"What is your age?\")\n",
    "age = int(input())\n",
    "print(\"You will be this old 10 years from now\")\n",
    "print(age + 10)"
   ]
  },
  {
   "cell_type": "markdown",
   "metadata": {},
   "source": [
    "<h3>Boolean Type</h3>\n",
    "<p>Now we will introduce the last basic or \"primative\" type, <code>bool</code>. A <code>bool</code> or Boolean type is a binary data type indicating whether a value is <code>True</code> or <code>False</code>. Booleans are important to computer because a <code>bool</code> can determine the path a program takes through its run cycle. "
   ]
  },
  {
   "cell_type": "code",
   "execution_count": 8,
   "metadata": {},
   "outputs": [
    {
     "data": {
      "text/plain": [
       "bool"
      ]
     },
     "execution_count": 8,
     "metadata": {},
     "output_type": "execute_result"
    }
   ],
   "source": [
    "over_18 = True\n",
    "type(over_18)"
   ]
  },
  {
   "cell_type": "code",
   "execution_count": 9,
   "metadata": {},
   "outputs": [
    {
     "data": {
      "text/plain": [
       "bool"
      ]
     },
     "execution_count": 9,
     "metadata": {},
     "output_type": "execute_result"
    }
   ],
   "source": [
    "over_21 = False\n",
    "type(over_21)"
   ]
  },
  {
   "cell_type": "code",
   "execution_count": 100,
   "metadata": {},
   "outputs": [
    {
     "name": "stdout",
     "output_type": "stream",
     "text": [
      "False\n"
     ]
    }
   ],
   "source": [
    "a == 35\n",
    "xor_example = a > 18 and not a > 21\n",
    "print(xor_example)\n",
    "\n"
   ]
  },
  {
   "cell_type": "markdown",
   "metadata": {},
   "source": [
    "<h3>Logical Operations</h3>\n",
    "<p>Logical operations are how booleans iteract with each other in a program. The common boolean operators are:\n",
    "    <li/> AND\n",
    "    <li/> OR\n",
    "    <li/> NOT\n",
    "    <li/> XOR\n",
    "    <li/> NAND\n",
    "    <br/>\n",
    "There are also comparison operators:\n",
    "    <table>\n",
    "        <thead>\n",
    "            <tr>\n",
    "                <th>Operator</th>\n",
    "                <th>Label</th>\n",
    "            </tr>\n",
    "        </thead>\n",
    "        <tbody>\n",
    "            <tr>\n",
    "                <td>&lt;</td>\n",
    "                <td> Less than</td>\n",
    "            </tr>\n",
    "            <tr>\n",
    "                <td>&gt;</td>\n",
    "                <td>Greater than</td>\n",
    "            </tr>\n",
    "            <tr>\n",
    "                <td>&lt;=</td>\n",
    "                <td>Less than or equal to</td>\n",
    "            </tr>\n",
    "            <tr>\n",
    "                <td>&gt;=</td>\n",
    "                <td>Greater than or equal to</td>\n",
    "            </tr>\n",
    "            <tr>\n",
    "                <td>==</td>\n",
    "                <td>Equivalent</td>\n",
    "            </tr>\n",
    "            <tr>\n",
    "                <td>!=</td>\n",
    "                <td>Not Equivalent</td>\n",
    "            </tr>\n",
    "        </tbody>\n",
    "    </table>\n",
    "</p>\n",
    "    "
   ]
  },
  {
   "cell_type": "code",
   "execution_count": 10,
   "metadata": {},
   "outputs": [
    {
     "data": {
      "text/plain": [
       "False"
      ]
     },
     "execution_count": 10,
     "metadata": {},
     "output_type": "execute_result"
    }
   ],
   "source": [
    "age = 20\n",
    "age < 13"
   ]
  },
  {
   "cell_type": "code",
   "execution_count": 11,
   "metadata": {},
   "outputs": [
    {
     "data": {
      "text/plain": [
       "True"
      ]
     },
     "execution_count": 11,
     "metadata": {},
     "output_type": "execute_result"
    }
   ],
   "source": [
    "age >= 20 and age <= 21"
   ]
  },
  {
   "cell_type": "code",
   "execution_count": 12,
   "metadata": {},
   "outputs": [
    {
     "data": {
      "text/plain": [
       "True"
      ]
     },
     "execution_count": 12,
     "metadata": {},
     "output_type": "execute_result"
    }
   ],
   "source": [
    "age != 21"
   ]
  },
  {
   "cell_type": "code",
   "execution_count": 13,
   "metadata": {},
   "outputs": [
    {
     "data": {
      "text/plain": [
       "False"
      ]
     },
     "execution_count": 13,
     "metadata": {},
     "output_type": "execute_result"
    }
   ],
   "source": [
    "age ==  19"
   ]
  },
  {
   "cell_type": "code",
   "execution_count": 14,
   "metadata": {},
   "outputs": [
    {
     "data": {
      "text/plain": [
       "True"
      ]
     },
     "execution_count": 14,
     "metadata": {},
     "output_type": "execute_result"
    }
   ],
   "source": [
    "type(6) == type(6.0)\n",
    "6 == 6.0"
   ]
  },
  {
   "cell_type": "code",
   "execution_count": 16,
   "metadata": {},
   "outputs": [
    {
     "data": {
      "text/plain": [
       "True"
      ]
     },
     "execution_count": 16,
     "metadata": {},
     "output_type": "execute_result"
    }
   ],
   "source": [
    "str(6) == '6'"
   ]
  },
  {
   "cell_type": "code",
   "execution_count": 20,
   "metadata": {},
   "outputs": [
    {
     "data": {
      "text/plain": [
       "False"
      ]
     },
     "execution_count": 20,
     "metadata": {},
     "output_type": "execute_result"
    }
   ],
   "source": [
    "(age >= 20 and age < 30) and (age >= 30 and age < 40)"
   ]
  },
  {
   "cell_type": "code",
   "execution_count": 21,
   "metadata": {},
   "outputs": [
    {
     "data": {
      "text/plain": [
       "True"
      ]
     },
     "execution_count": 21,
     "metadata": {},
     "output_type": "execute_result"
    }
   ],
   "source": [
    "(20 <= age < 30) or (30 <= age < 40)"
   ]
  },
  {
   "cell_type": "code",
   "execution_count": null,
   "metadata": {},
   "outputs": [],
   "source": []
  },
  {
   "cell_type": "markdown",
   "metadata": {},
   "source": [
    "<p>Comparing strings, Python will evaluate the string who's first letter comes first in the English alphabet as \"Less Than\" a string that starts with a letter later"
   ]
  },
  {
   "cell_type": "code",
   "execution_count": 111,
   "metadata": {},
   "outputs": [
    {
     "data": {
      "text/plain": [
       "True"
      ]
     },
     "execution_count": 111,
     "metadata": {},
     "output_type": "execute_result"
    }
   ],
   "source": [
    "'a' < 'c'"
   ]
  },
  {
   "cell_type": "code",
   "execution_count": 23,
   "metadata": {},
   "outputs": [
    {
     "data": {
      "text/plain": [
       "True"
      ]
     },
     "execution_count": 23,
     "metadata": {},
     "output_type": "execute_result"
    }
   ],
   "source": [
    "'New York' < 'San Francisco'"
   ]
  },
  {
   "cell_type": "code",
   "execution_count": null,
   "metadata": {},
   "outputs": [],
   "source": []
  },
  {
   "cell_type": "markdown",
   "metadata": {},
   "source": [
    "<h3>Flow Control</h3>\n",
    "<p>Finally we get to flow control. Flow control is how a programmer can influence a program to perform in different ways based on the data presented when checked. <br/>\n",
    "Flow control is performed in a few different ways in Python. \n",
    "    <li/><code>if</code> statements\n",
    "    <li/><code>for</code> loops\n",
    "    <li/><code>while</code> loops\n",
    "    \n",
    "   <p>An <code>if</code> statement is the most basic form of flow control. <b>if</b>'s or conditionals evaluate Boolean values or Boolean expressions and operate in accordance to their results.</p>\n",
    "</p>"
   ]
  },
  {
   "cell_type": "code",
   "execution_count": 38,
   "metadata": {},
   "outputs": [
    {
     "name": "stdout",
     "output_type": "stream",
     "text": [
      "Something went wrong\n",
      "At least you can vote.\n",
      "Poker will have to wait.\n"
     ]
    }
   ],
   "source": [
    "age = 20\n",
    "\n",
    "if age < 30:\n",
    "    print(\"Something went wrong\")\n",
    "else:\n",
    "    print(\"All is well\")\n",
    "\n",
    "if age >= 18 and age < 21: \n",
    "    print('At least you can vote.')\n",
    "    print('Poker will have to wait.')\n",
    "    \n"
   ]
  },
  {
   "cell_type": "code",
   "execution_count": 35,
   "metadata": {},
   "outputs": [
    {
     "name": "stdout",
     "output_type": "stream",
     "text": [
      "You can vote.\n",
      "Not quite done yet...\n",
      "Done\n"
     ]
    }
   ],
   "source": [
    "if age >= 18:\n",
    "    print('You can vote.')\n",
    "    if age >= 21:\n",
    "        print('You can play poker.')\n",
    "    print(\"Not quite done yet...\")    \n",
    "print(\"Done\")        "
   ]
  },
  {
   "cell_type": "markdown",
   "metadata": {},
   "source": [
    "<p>An important part of any programming language is proper indentation. It helps improve readability. In Python though, it is extra important. Python uses indentation instead of brackets {} to signify various parts of the language like <code>if</code>'s, loops and functions."
   ]
  },
  {
   "cell_type": "code",
   "execution_count": null,
   "metadata": {},
   "outputs": [],
   "source": []
  },
  {
   "cell_type": "code",
   "execution_count": 43,
   "metadata": {},
   "outputs": [
    {
     "name": "stdout",
     "output_type": "stream",
     "text": [
      "Welcome to our voting program.\n"
     ]
    }
   ],
   "source": [
    "age = 20\n",
    "if age < 18:\n",
    "    print('You aren\\'t old enough to vote.')\n",
    "else:\n",
    "    print(\"Welcome to our voting program\")"
   ]
  },
  {
   "cell_type": "code",
   "execution_count": 40,
   "metadata": {},
   "outputs": [
    {
     "name": "stdout",
     "output_type": "stream",
     "text": [
      "You need to wait one more year\n"
     ]
    }
   ],
   "source": [
    "age = 17\n",
    "if age >= 18:\n",
    "    print('Welcome to our voting program.')\n",
    "elif age == 17:\n",
    "    print('You need to wait one more year')\n",
    "elif \n",
    "else:\n",
    "    print(\"You have to wait a while to vote\")"
   ]
  },
  {
   "cell_type": "code",
   "execution_count": null,
   "metadata": {},
   "outputs": [],
   "source": []
  },
  {
   "cell_type": "markdown",
   "metadata": {},
   "source": [
    "<p>In this exercise you are going to determine whether or not a number is perfect square. Using a few different techniques learned so far, including variables, user input, Booleans, strings, and looping. </p>\n",
    "<p>\n",
    "<code>while</code> loops are used to repeat an action until a condition is met. Imagine an <code>if</code> statement that repeats what is under the conditional until the condition is true</p>"
   ]
  },
  {
   "cell_type": "code",
   "execution_count": 53,
   "metadata": {},
   "outputs": [
    {
     "name": "stdout",
     "output_type": "stream",
     "text": [
      "Enter a number to see if it's a perfect square.\n"
     ]
    }
   ],
   "source": [
    "print('Enter a number to see if it\\'s a perfect square.')"
   ]
  },
  {
   "cell_type": "code",
   "execution_count": 54,
   "metadata": {},
   "outputs": [
    {
     "name": "stdout",
     "output_type": "stream",
     "text": [
      "15\n"
     ]
    }
   ],
   "source": [
    "number = input()"
   ]
  },
  {
   "cell_type": "code",
   "execution_count": 55,
   "metadata": {},
   "outputs": [
    {
     "name": "stdout",
     "output_type": "stream",
     "text": [
      "9.0\n"
     ]
    }
   ],
   "source": [
    "number = abs(int(number))\n",
    "print(81**.5)\n",
    "\n",
    "x = 8"
   ]
  },
  {
   "cell_type": "code",
   "execution_count": 56,
   "metadata": {},
   "outputs": [],
   "source": [
    "i = -1"
   ]
  },
  {
   "cell_type": "code",
   "execution_count": 57,
   "metadata": {},
   "outputs": [],
   "source": [
    "square = False"
   ]
  },
  {
   "cell_type": "code",
   "execution_count": 58,
   "metadata": {},
   "outputs": [
    {
     "name": "stdout",
     "output_type": "stream",
     "text": [
      " 15 is not a perfect square.\n"
     ]
    }
   ],
   "source": [
    "while i <= number**(0.5):\n",
    "    i += 1\n",
    "    if i*i == number:   \n",
    "        square = True\n",
    "        break\n",
    "if square:\n",
    "    print('The square root of', number, 'is', i, '.')\n",
    "else:\n",
    "    print('', number, 'is not a perfect square.')\n"
   ]
  },
  {
   "cell_type": "code",
   "execution_count": null,
   "metadata": {},
   "outputs": [],
   "source": []
  },
  {
   "cell_type": "markdown",
   "metadata": {},
   "source": [
    "<p>Now we are going to try a another complex exercise with real estate</p>"
   ]
  },
  {
   "cell_type": "code",
   "execution_count": 59,
   "metadata": {},
   "outputs": [
    {
     "name": "stdout",
     "output_type": "stream",
     "text": [
      "A one bedroom in the Bay Area is listed at $599,000\n",
      "Enter your first offer on the house.\n",
      "550000\n",
      "Enter your best offer on the house.\n",
      "700000\n",
      "How much more do you want to offer each time?\n",
      "25000\n",
      "550000\n",
      "We're sorry, you're offer of 550000 has not been accepted.\n",
      "575000\n",
      "We're sorry, you're offer of 575000 has not been accepted.\n",
      "600000\n",
      "We're sorry, you're offer of 600000 has not been accepted.\n",
      "625000\n",
      "We're sorry, you're offer of 625000 has not been accepted.\n",
      "650000\n",
      "Your offer of 650000 has been accepted!\n"
     ]
    }
   ],
   "source": [
    "print('A one bedroom in the Bay Area is listed at $599,000')\n",
    "print('Enter your first offer on the house.')\n",
    "offer = abs(int(input()))\n",
    "print('Enter your best offer on the house.')\n",
    "best = abs(int(input()))\n",
    "print('How much more do you want to offer each time?')\n",
    "increment = abs(int(input()))\n",
    "offer_accepted = False\n",
    "while offer <= best:  \n",
    "    print(offer)\n",
    "    if offer >= 650000:\n",
    "        offer_accepted = True\n",
    "        print('Your offer of', offer, 'has been accepted!')\n",
    "        break\n",
    "    print('We\\'re sorry, you\\'re offer of', offer, 'has not been accepted.' )\n",
    "    offer += increment\n"
   ]
  },
  {
   "cell_type": "code",
   "execution_count": null,
   "metadata": {},
   "outputs": [],
   "source": []
  },
  {
   "cell_type": "markdown",
   "metadata": {},
   "source": [
    "<p>Finally we have <code>for</code> loops. For loops are helpful for iterating over a finate domain of entities. There are also a few useful tricks with <code>for</code> loops. You can iterate over the letters in a <code>string</code>. You can define a <code>range</code> and iterate over the numbers within the range. The <code><a href=\"https://docs.python.org/3/library/functions.html#func-range\">range()</a></code> function will perform differently based on what you pass to it. If you pass 1 parameter, it will return a range of 0 to 1 less than the number you passed: <code>range(10)</code> would be <code>[0,1,2,3,4,5,6,7,8,9]</code>. If you pass 2 numbers, it will return numbers all integers between the first parameter and 1 less than the second number: <code>range(1,5)</code> would be <code>[1,2,3,4]</code>. Finally you  can define a third parameter as a \"step\" parementer to increase by on each iteration. The fourth code cell below displays this. "
   ]
  },
  {
   "cell_type": "code",
   "execution_count": 137,
   "metadata": {},
   "outputs": [
    {
     "name": "stdout",
     "output_type": "stream",
     "text": [
      "I am letter: P\n",
      "I am letter: o\n",
      "I am letter: r\n",
      "I am letter: t\n",
      "I am letter: l\n",
      "I am letter: a\n",
      "I am letter: n\n",
      "I am letter: d\n"
     ]
    }
   ],
   "source": [
    "for i in 'Portland':\n",
    "    print(\"I am letter: \" + i)\n",
    "    \n"
   ]
  },
  {
   "cell_type": "code",
   "execution_count": 60,
   "metadata": {},
   "outputs": [
    {
     "name": "stdout",
     "output_type": "stream",
     "text": [
      "0\n",
      "1\n",
      "2\n",
      "3\n",
      "4\n",
      "5\n",
      "6\n",
      "7\n",
      "8\n",
      "9\n"
     ]
    }
   ],
   "source": [
    "for i in range(0,10):\n",
    "    print(i)"
   ]
  },
  {
   "cell_type": "code",
   "execution_count": 54,
   "metadata": {},
   "outputs": [
    {
     "name": "stdout",
     "output_type": "stream",
     "text": [
      "0\n",
      "1\n",
      "2\n",
      "3\n",
      "4\n",
      "5\n",
      "6\n",
      "7\n",
      "8\n",
      "9\n"
     ]
    }
   ],
   "source": [
    "for i in range(10):\n",
    "    print(i)"
   ]
  },
  {
   "cell_type": "code",
   "execution_count": 61,
   "metadata": {},
   "outputs": [
    {
     "name": "stdout",
     "output_type": "stream",
     "text": [
      "1\n",
      "4\n",
      "7\n"
     ]
    }
   ],
   "source": [
    "for i in range(1, 10,3): # range of all numbers >= first number and < second number\n",
    "    print(i)"
   ]
  },
  {
   "cell_type": "code",
   "execution_count": 56,
   "metadata": {},
   "outputs": [
    {
     "name": "stdout",
     "output_type": "stream",
     "text": [
      "3\n",
      "2\n",
      "1\n"
     ]
    }
   ],
   "source": [
    "for i in range(3, 0, -1):\n",
    "    print(i)"
   ]
  },
  {
   "cell_type": "markdown",
   "metadata": {},
   "source": [
    "<p>Loops and conditions can also be \"nested\". Loops"
   ]
  },
  {
   "cell_type": "code",
   "execution_count": 69,
   "metadata": {},
   "outputs": [
    {
     "name": "stdout",
     "output_type": "stream",
     "text": [
      "C 0\n",
      "o 0\n",
      "r 0\n",
      "e 0\n",
      "y 0\n",
      "C 1\n",
      "o 1\n",
      "r 1\n",
      "e 1\n",
      "y 1\n",
      "C 2\n",
      "o 2\n",
      "r 2\n",
      "e 2\n",
      "y 2\n"
     ]
    }
   ],
   "source": [
    "name = 'Corey'\n",
    "for i in range(3):\n",
    "     for l in name:\n",
    "        print(l, i)\n"
   ]
  },
  {
   "cell_type": "code",
   "execution_count": null,
   "metadata": {},
   "outputs": [],
   "source": []
  }
 ],
 "metadata": {
  "kernelspec": {
   "display_name": "Python 3",
   "language": "python",
   "name": "python3"
  },
  "language_info": {
   "codemirror_mode": {
    "name": "ipython",
    "version": 3
   },
   "file_extension": ".py",
   "mimetype": "text/x-python",
   "name": "python",
   "nbconvert_exporter": "python",
   "pygments_lexer": "ipython3",
   "version": "3.7.4"
  }
 },
 "nbformat": 4,
 "nbformat_minor": 2
}
