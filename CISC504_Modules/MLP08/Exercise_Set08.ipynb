{
 "cells": [
  {
   "cell_type": "markdown",
   "metadata": {},
   "source": [
    " <h1 style=\"text-align:center\">Harrisburg University of Science & Technology</h1>\n",
    "    <h2 style=\"text-align:center\">CISC 504 Principles of Programming Languages </h2>\n",
    "    <h3 style=\"text-align:center\">Exercise Set 8: Software Development</h3>\n"
   ]
  },
  {
   "cell_type": "markdown",
   "metadata": {},
   "source": [
    "\n",
    "\n",
    "<p>\n",
    "    In this module, you will learn how to troubleshoot Python applications, understand software testing, create unit tests, and finally be introduced to the concept of version control. \n",
    "    </p>\n",
    "    "
   ]
  },
  {
   "cell_type": "markdown",
   "metadata": {},
   "source": [
    "Eventually, and we all find ourselves here, you will reach a point in which your code is behaving differently from what you expected. In these scenarios, you may need to step through your code manually and see at what point is the code diverging from the expected. If you can pinpoint the location of the divergence, you will have a better chance of fixing the issue and moving on to another issue.\n",
    "\n",
    "To find these issues, you can step through your code with a debugging tool. Most IDE's have a built in debugging tool, but if find yourself without an IDE and need to debug code, Python provides a built in debugging tool that you can use to step through your code. The module you will need to import is <code><b>pdb</b></code> short for Python DeBugger. The debugger is entirely a command line interface tool so you will need be able to interface with a terminal window.\n",
    "\n",
    "I'm going to be showing you the debugger I use from my IDE of choice, PyCharm."
   ]
  },
  {
   "cell_type": "markdown",
   "metadata": {},
   "source": [
    "We need to find the issue in the below code, the scenario is that an employ is receiving a 20% raise when they should be receiving a 10% raise. "
   ]
  },
  {
   "cell_type": "code",
   "execution_count": 1,
   "metadata": {},
   "outputs": [],
   "source": [
    "\"\"\"Adjusts the salary rise of an employ\"\"\"\n",
    "\n",
    "def _manager_adjust(salary, rise):\n",
    "    if rise < 0.10:\n",
    "        # We need to keep managers happy.\n",
    "        return 0.10\n",
    "\n",
    "    if salary >= 1_000_000:\n",
    "        # They are making enough already.\n",
    "        return rise - 0.10\n",
    "\n",
    "\n",
    "def calculate_new_salary(salary, promised_pct, is_manager, is_good_year):\n",
    "    rise = promised_pct\n",
    "\n",
    "    # remove 10% if it was a bad year\n",
    "    if not is_good_year:\n",
    "        rise -= 0.01\n",
    "    else:\n",
    "        pass\n",
    "\n",
    "    # managers have a special adjust\n",
    "    if is_manager:\n",
    "        rise = _manager_adjust(salary, rise)\n",
    "\n",
    "    # Extra bonus for people with high rises\n",
    "    if rise >= 0.20:\n",
    "        rise = rise + 0.10\n",
    "\n",
    "    salary_increase = salary * rise\n",
    "    return int(salary + salary_increase)\n",
    "\n",
    "\n",
    "rose_salary = calculate_new_salary(1_000_000, 0.30, True, True)\n",
    "print(\"Rose's salary will be:\", rose_salary)"
   ]
  },
  {
   "cell_type": "markdown",
   "metadata": {},
   "source": [
    "<h4>Software Testing</h4>\n",
    "While deugging is very helpful, we need to be proactive with our software. That means testing, testinging, and yes, more testing. There are three basic types of testing, unit testing, integration testing, and acceptance testing. \n",
    "\n",
    "Unit testing is testing your code in modular format. We want to test each component in isolation to make sure that the each part is working as expected on their own. \n",
    "\n",
    "Integration testing is the next step where we put small components together in their respective layers. We want to test if the components are working together as expected, if they are <i>integrating</i> properly.\n",
    "\n",
    "\n",
    "\n",
    "\n",
    "Finally, acceptance testing or end-2-end testing, is determining whether or not your software solved the problem that it was supposed to. We are going  We are looking for the <i>acceptance</i> of the software requester. Typically you have a list of things your software was supposed to be able to do, and if it passes all of those, then it is considered within acceptance. \n",
    "\n",
    "<h4>Automated Testing</h4>\n",
    "\n",
    "We can automate a lot of our first two levels of testing using automation tools, which Python provides for us. With automated testing we need to make sure we are testing enough parts of the code. This concept is called code coverage. We need to cover as much code as possible with unit tests, by directly testing and <i>asserting</i> that the outputs of your code are what you expect. While 100% coverage seems like overkill, but it proves that all your components work as you intended giving users a higher degree of confidence in your application. 100% test coverage does not mean that your code is entirely free of bugs. Just because you are testing your code doesn't mean that an edge case won't break things.\n",
    "\n",
    "Python's unit testing module is known as <code><b>unittest</b></code>. We are going to make a test scenario for the following code:\n"
   ]
  },
  {
   "cell_type": "code",
   "execution_count": 4,
   "metadata": {},
   "outputs": [],
   "source": [
    "def is_divisible(x, y): \n",
    "    if x % y == 0:\n",
    "        return True\n",
    "    else:\n",
    "        return False\n"
   ]
  },
  {
   "cell_type": "code",
   "execution_count": 1,
   "metadata": {},
   "outputs": [
    {
     "name": "stderr",
     "output_type": "stream",
     "text": [
      "E\n",
      "======================================================================\n",
      "ERROR: C:\\Users\\Caleb\\AppData\\Roaming\\jupyter\\runtime\\kernel-86412419-9fa6-4d0e-950a-08f06662eee5 (unittest.loader._FailedTest)\n",
      "----------------------------------------------------------------------\n",
      "AttributeError: module '__main__' has no attribute 'C:\\Users\\Caleb\\AppData\\Roaming\\jupyter\\runtime\\kernel-86412419-9fa6-4d0e-950a-08f06662eee5'\n",
      "\n",
      "----------------------------------------------------------------------\n",
      "Ran 1 test in 0.004s\n",
      "\n",
      "FAILED (errors=1)\n"
     ]
    },
    {
     "ename": "SystemExit",
     "evalue": "True",
     "output_type": "error",
     "traceback": [
      "An exception has occurred, use %tb to see the full traceback.\n",
      "\u001b[1;31mSystemExit\u001b[0m\u001b[1;31m:\u001b[0m True\n"
     ]
    },
    {
     "name": "stderr",
     "output_type": "stream",
     "text": [
      "C:\\Users\\Caleb\\Anaconda3\\lib\\site-packages\\IPython\\core\\interactiveshell.py:3334: UserWarning: To exit: use 'exit', 'quit', or Ctrl-D.\n",
      "  warn(\"To exit: use 'exit', 'quit', or Ctrl-D.\", stacklevel=1)\n"
     ]
    }
   ],
   "source": [
    "import unittest\n",
    "from sample_code import is_divisible\n",
    "\n",
    "\n",
    "class TestIsDivisible(unittest.TestCase):\n",
    "    def test_divisible_numbers(self):\n",
    "        pass\n",
    "\n",
    "if __name__ == '__main__':\n",
    "    unittest.main()"
   ]
  },
  {
   "cell_type": "code",
   "execution_count": 6,
   "metadata": {},
   "outputs": [],
   "source": [
    "def test_divisible_numbers(self):\n",
    "    self.assertTrue(is_divisible(10, 2))\n",
    "    self.assertTrue(is_divisible(10, 10))\n",
    "    self.assertTrue(is_divisible(1000, 1))\n",
    "    \n",
    "def test_not_divisible_numbers(self):\n",
    "    self.assertFalse(is_divisible(5, 3))\n",
    "    self.assertFalse(is_divisible(5, 6))\n",
    "    self.assertFalse(is_divisible(10, 3))"
   ]
  },
  {
   "cell_type": "markdown",
   "metadata": {},
   "source": [
    "<h3>Source Control</h3>\n",
    "\n",
    "An all important topic for software development is source control. Source control is a way to track how your code is evolving over time. It is a way to track versioning in your code and a way to keep a working copy around while you or other software developers create new enhancements or fix existing bugs. The source control system that we are going to look at is called <b>Git</b>. It was crated by Linus Torvald, creator of the Linux operating system. It is considered a <i>distrubuted version control system</i> which is a system where there is a remote server that stores a copy of the code an a local environment that the developer works on. When the developer is done with his work, he can <b>push</b> the work he did to the remote server where it will be saved. \n",
    "\n",
    "With Git we have a few basic commands. \n",
    "\n",
    "1. Commit\n",
    "2. Push\n",
    "3. Pull\n",
    "4. Merge\n",
    "5. Branch\n",
    "\n",
    "And a few less commonly used commands\n",
    "\n",
    "1. Clone\n",
    "2. Fork\n",
    "3. Rebase\n",
    "\n",
    "\n",
    "A commit is what you do when you are prepared to save your commit and make a detailed explanation one what was accomplished. This does not mean that all your code for a particular code changen needs to be in one commits. Commits are frequently more helpful when broken down into smaller parts. Commits can be checkpoints that describe breakthroughs or successful points in an overall product enhancement. \n",
    "\n",
    "A branch is a copy of the code project where you place your commits. Branches are excellent tools that are used as development environments for bug fixes and feature enhancements. Developer frequently create new branches, develop thier code, test it, then push the branch up for review. After review it can be merged into the main line branch.\n",
    "\n",
    "A push is used to save your commits to a remote server. Once you feel your commits are ready to be saved permanently, you can push them to remote where they will never be lost. It is important to push your code up before merging it into the mainline branch of your code. \n",
    "\n",
    "A merge is when you take your existing branch and integrate it into an existing branch of code. If you make changes on your branch and want to add it to the master branch, the master branch will need to change in order to accept your new code. If your code <b>conflicts</b> with the existing code and Git can't reconcile the differences, you will need to manually resolve these <b>merge conflicts</b>. Once they have been resolved, the branches can be merged and the developers can continue their work. \n",
    "\n",
    "A pull is when you request the code from the remote server and synch it up with what you have locally. You should always pull before you push to avoid merge conflicts.\n",
    "\n",
    "***************************\n",
    "\n",
    "A clone is copying down a repository from a remote server. Clone copies the existing master branch as is into your local environment. This is typically only done once.\n",
    "\n",
    "A fork is almost identical to a clone but with a fork you are creating a new project as opposed to contributing to the existing project. This is a rare occurence, especially in a software engineering company, unless they have a template they use as a starter development project and fork it to start new projects.\n",
    "\n",
    "A rebase is what you do when you need to rewrite histroy. Rebase allows you to move commits around so they are in a different order or move the base of your existing branch to another branch. "
   ]
  },
  {
   "cell_type": "code",
   "execution_count": null,
   "metadata": {},
   "outputs": [],
   "source": []
  }
 ],
 "metadata": {
  "kernelspec": {
   "display_name": "Python 3",
   "language": "python",
   "name": "python3"
  },
  "language_info": {
   "codemirror_mode": {
    "name": "ipython",
    "version": 3
   },
   "file_extension": ".py",
   "mimetype": "text/x-python",
   "name": "python",
   "nbconvert_exporter": "python",
   "pygments_lexer": "ipython3",
   "version": "3.7.4"
  }
 },
 "nbformat": 4,
 "nbformat_minor": 4
}
