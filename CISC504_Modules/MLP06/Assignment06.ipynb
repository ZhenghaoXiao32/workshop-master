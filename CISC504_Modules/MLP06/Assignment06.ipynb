{
 "cells": [
  {
   "cell_type": "markdown",
   "metadata": {},
   "source": [
    " <h1 style=\"text-align:center\">Harrisburg University of Science & Technology</h1>\n",
    "    <h2 style=\"text-align:center\">CISC 504 Principles of Programming Languages </h2>\n",
    "    <h3 style=\"text-align:center\">Assignment 6: The Python Standard Library</h3>\n"
   ]
  },
  {
   "cell_type": "markdown",
   "metadata": {},
   "source": [
    "<h3>Instructions:</h3>\n",
    "<li/>Use as many code cells as you need to implement the tasks in below.\n",
    "<li/>Submit a Jupyter Notebook (iPython) doc including a 5 minutes walk-through recording (a YouTube recordings is highly recommended.)\n",
    "<li/><b>DO NOT JUST SUBMIT THE NOTEBOOK</b>"
   ]
  },
  {
   "cell_type": "markdown",
   "metadata": {},
   "source": [
    "<h3>(1) Calculating the Time Elapsed to Run a Loop</h3>\n",
    "<p>\n",
    "    In this assignment, you discovered a line of code that was pushed to production that is causing a major delay in the code. The line of code is as follows:<code>l = [random.randint(1, 999) for _ in range(10 * 3)]</code>. \n",
    "    \n",
    "For this assignment, given the line of code above and the import statements below, create a way to track the amount of time it takes to perform that line of code. We've used <code>time.time()</code> before to track run times. But the time will be so small it will be hard to read. Try to find a better function that tracks the number of nanoseconds that have passed instead. Try looking at the <a href=\"https://docs.python.org/3/library/time.html\"><code>time</code></a> documentation from Python. "
   ]
  },
  {
   "cell_type": "code",
   "execution_count": 8,
   "metadata": {},
   "outputs": [],
   "source": [
    "import random\n",
    "import time"
   ]
  },
  {
   "cell_type": "markdown",
   "metadata": {},
   "source": [
    "<h3>(2) Using partial on class Methods</h3>\n",
    "<p>\n",
    "    We learned about using <code>partial</code>'s in our exercise, but they seem to fall short on class <b>method</b>s. You need to discover why the partial on line 11 fails and fix it. Use the <a href=\"https://docs.python.org/3/library/functools.html\"><code>functools</code></a> documentation to find out what needs to be changed. "
   ]
  },
  {
   "cell_type": "code",
   "execution_count": 14,
   "metadata": {},
   "outputs": [],
   "source": [
    "import functools\n",
    "\n",
    "class Hero:\n",
    "    DEFAULT_NAME = \"Superman\"\n",
    "    def __init__(self):\n",
    "        self.name = self.DEFAULT_NAME\n",
    "\n",
    "    def rename(self, new_name):\n",
    "        self.name = new_name\n",
    "\n",
    "    reset_name = functools.partial(rename, DEFAULT_NAME)\n",
    "\n",
    "    def __repr__(self):\n",
    "        return f\"Hero({self.name!r})\""
   ]
  },
  {
   "cell_type": "code",
   "execution_count": 16,
   "metadata": {
    "scrolled": true
   },
   "outputs": [
    {
     "ename": "TypeError",
     "evalue": "rename() missing 1 required positional argument: 'new_name'",
     "output_type": "error",
     "traceback": [
      "\u001b[0;31m---------------------------------------------------------------------------\u001b[0m",
      "\u001b[0;31mTypeError\u001b[0m                                 Traceback (most recent call last)",
      "\u001b[0;32m<ipython-input-16-bb67c39af065>\u001b[0m in \u001b[0;36m<module>\u001b[0;34m\u001b[0m\n\u001b[1;32m      3\u001b[0m \u001b[0mhero\u001b[0m\u001b[0;34m.\u001b[0m\u001b[0mrename\u001b[0m\u001b[0;34m(\u001b[0m\u001b[0;34m\"Batman\"\u001b[0m\u001b[0;34m)\u001b[0m\u001b[0;34m\u001b[0m\u001b[0;34m\u001b[0m\u001b[0m\n\u001b[1;32m      4\u001b[0m \u001b[0;32massert\u001b[0m \u001b[0mhero\u001b[0m\u001b[0;34m.\u001b[0m\u001b[0mname\u001b[0m \u001b[0;34m==\u001b[0m \u001b[0;34m\"Batman\"\u001b[0m\u001b[0;34m\u001b[0m\u001b[0;34m\u001b[0m\u001b[0m\n\u001b[0;32m----> 5\u001b[0;31m \u001b[0mhero\u001b[0m\u001b[0;34m.\u001b[0m\u001b[0mreset_name\u001b[0m\u001b[0;34m(\u001b[0m\u001b[0;34m)\u001b[0m\u001b[0;34m\u001b[0m\u001b[0;34m\u001b[0m\u001b[0m\n\u001b[0m\u001b[1;32m      6\u001b[0m \u001b[0;32massert\u001b[0m \u001b[0mhero\u001b[0m\u001b[0;34m.\u001b[0m\u001b[0mname\u001b[0m \u001b[0;34m==\u001b[0m \u001b[0;34m\"Batman\"\u001b[0m\u001b[0;34m\u001b[0m\u001b[0;34m\u001b[0m\u001b[0m\n",
      "\u001b[0;31mTypeError\u001b[0m: rename() missing 1 required positional argument: 'new_name'"
     ]
    }
   ],
   "source": [
    "hero = Hero()\n",
    "assert hero.name == \"Superman\"\n",
    "hero.rename(\"Batman\")\n",
    "assert hero.name == \"Batman\"\n",
    "hero.reset_name()\n",
    "assert hero.name == \"Batman\""
   ]
  }
 ],
 "metadata": {
  "kernelspec": {
   "display_name": "Python 3",
   "language": "python",
   "name": "python3"
  },
  "language_info": {
   "codemirror_mode": {
    "name": "ipython",
    "version": 3
   },
   "file_extension": ".py",
   "mimetype": "text/x-python",
   "name": "python",
   "nbconvert_exporter": "python",
   "pygments_lexer": "ipython3",
   "version": "3.7.4"
  }
 },
 "nbformat": 4,
 "nbformat_minor": 2
}
