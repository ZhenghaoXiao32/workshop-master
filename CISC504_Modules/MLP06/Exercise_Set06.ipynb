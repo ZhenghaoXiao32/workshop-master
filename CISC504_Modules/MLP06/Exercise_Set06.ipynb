{
 "cells": [
  {
   "cell_type": "markdown",
   "metadata": {},
   "source": [
    " <h1 style=\"text-align:center\">Harrisburg University of Science & Technology</h1>\n",
    "    <h2 style=\"text-align:center\">CISC 504 Principles of Programming Languages </h2>\n",
    "    <h3 style=\"text-align:center\">Exercise Set 6: The Python Standard Library</h3>\n"
   ]
  },
  {
   "cell_type": "markdown",
   "metadata": {},
   "source": [
    "<p>In this module, you will learn to appropriately leverage Python's Standard Library to write powerful and concise code, interact with your OS's filesystem, manage dates and times, and create logging for your applications.</p>"
   ]
  },
  {
   "cell_type": "markdown",
   "metadata": {},
   "source": [
    "We are going to start with using a simple module known as <code>dataclasses</code>. Data Classes decorator provide developers with a few quality of life improvements for classes that are relatively simple to implement but safe developers valuable time and prevent bugs because you are writing less code. Data classes allow developers to simply define the paremeters that they wish the class to have, and the <code>@dataclasses.dataclass</code> decorator will create the constructor and give a convience method to convert the class into a dictionary. They also provide an <code>\\__eq__</code> override to help comparisons of object.\n",
    "\n",
    "While these may seem like simple things to write on your own, this can save you a ton of boilerplate code and help prevent stupid mistakes that arise because of trying to write code quickly instead of accurately. "
   ]
  },
  {
   "cell_type": "code",
   "execution_count": 18,
   "metadata": {},
   "outputs": [],
   "source": [
    "import dataclasses\n",
    "\n",
    "@dataclasses.dataclass\n",
    "class Point:\n",
    "    x: int\n",
    "    y: int\n",
    "        \n",
    "        \n"
   ]
  },
  {
   "cell_type": "code",
   "execution_count": 19,
   "metadata": {},
   "outputs": [
    {
     "name": "stdout",
     "output_type": "stream",
     "text": [
      "Point(x=10, y=20)\n"
     ]
    }
   ],
   "source": [
    "p = Point(x=10, y=20)\n",
    "print(p)"
   ]
  },
  {
   "cell_type": "code",
   "execution_count": 20,
   "metadata": {},
   "outputs": [
    {
     "data": {
      "text/plain": [
       "True"
      ]
     },
     "execution_count": 20,
     "metadata": {},
     "output_type": "execute_result"
    }
   ],
   "source": [
    "p2 = Point(x=10, y=20)\n",
    "p == p2"
   ]
  },
  {
   "cell_type": "code",
   "execution_count": 21,
   "metadata": {},
   "outputs": [
    {
     "data": {
      "text/plain": [
       "{'x': 10, 'y': 20}"
      ]
     },
     "execution_count": 21,
     "metadata": {},
     "output_type": "execute_result"
    }
   ],
   "source": [
    "dataclasses.asdict(p)"
   ]
  },
  {
   "cell_type": "markdown",
   "metadata": {},
   "source": [
    "Next we are going to be wokring with dates, times, and timezones. Timezones and dates can cause a large amount of headaches for developer who plan to have their software delployed in multiple places around the world at any given times. Python's <code>datetime</code>and <code>dateutil</code> package help allievate these difficulties enormously. \n",
    "\n",
    "<code>dateutil</code>, while technically not technically within the standard library, it is highly endorsed by the standard library and commonly used in software engineering. "
   ]
  },
  {
   "cell_type": "code",
   "execution_count": 1,
   "metadata": {},
   "outputs": [],
   "source": [
    "import datetime\n",
    "from dateutil import tz"
   ]
  },
  {
   "cell_type": "code",
   "execution_count": 2,
   "metadata": {},
   "outputs": [],
   "source": [
    "d1 = datetime.datetime(1989, 4, 24, hour=11,\n",
    "...                        tzinfo=tz.gettz(\"Europe/Madrid\"))"
   ]
  },
  {
   "cell_type": "code",
   "execution_count": 3,
   "metadata": {},
   "outputs": [],
   "source": [
    "d2 = datetime.datetime(1989, 4, 24, hour=8,\n",
    "...                        tzinfo=tz.gettz(\"America/Los_Angeles\"))"
   ]
  },
  {
   "cell_type": "code",
   "execution_count": 4,
   "metadata": {},
   "outputs": [
    {
     "name": "stdout",
     "output_type": "stream",
     "text": [
      "True\n"
     ]
    }
   ],
   "source": [
    "print(d1.hour > d2.hour)"
   ]
  },
  {
   "cell_type": "code",
   "execution_count": 9,
   "metadata": {},
   "outputs": [
    {
     "name": "stdout",
     "output_type": "stream",
     "text": [
      "False\n"
     ]
    }
   ],
   "source": [
    "print(d1 > d2)"
   ]
  },
  {
   "cell_type": "code",
   "execution_count": 10,
   "metadata": {},
   "outputs": [],
   "source": [
    "d2_madrid = d2.astimezone(tz.gettz(\"Europe/Madrid\"))"
   ]
  },
  {
   "cell_type": "code",
   "execution_count": 11,
   "metadata": {},
   "outputs": [
    {
     "name": "stdout",
     "output_type": "stream",
     "text": [
      "17\n"
     ]
    }
   ],
   "source": [
    "print(d2_madrid.hour)"
   ]
  },
  {
   "cell_type": "markdown",
   "metadata": {},
   "source": [
    "As you can see, these date & time utility packages give developers a lot more convience methods for working with dates and managing times in different time zones. \n",
    "\n",
    "Using the <code>datetime</code> and <code>time</code> modules also help developer code for time much more easily than with homebrew classes and system technologies. "
   ]
  },
  {
   "cell_type": "code",
   "execution_count": 22,
   "metadata": {},
   "outputs": [],
   "source": [
    "import datetime as dt"
   ]
  },
  {
   "cell_type": "code",
   "execution_count": 23,
   "metadata": {},
   "outputs": [],
   "source": [
    "d1 = dt.datetime(2019, 2, 25, 10, 50,\n",
    "                 tzinfo=dt.timezone.utc)\n",
    "d2 = dt.datetime(2019, 2, 26, 11, 20,\n",
    "                 tzinfo=dt.timezone.utc)"
   ]
  },
  {
   "cell_type": "code",
   "execution_count": 24,
   "metadata": {},
   "outputs": [
    {
     "data": {
      "text/plain": [
       "datetime.timedelta(days=1, seconds=1800)"
      ]
     },
     "execution_count": 24,
     "metadata": {},
     "output_type": "execute_result"
    }
   ],
   "source": [
    "d2 - d1"
   ]
  },
  {
   "cell_type": "code",
   "execution_count": 31,
   "metadata": {},
   "outputs": [
    {
     "data": {
      "text/plain": [
       "1.0208333333333333"
      ]
     },
     "execution_count": 31,
     "metadata": {},
     "output_type": "execute_result"
    }
   ],
   "source": [
    "td = d2 - d1\n",
    "td.total_seconds()"
   ]
  },
  {
   "cell_type": "code",
   "execution_count": null,
   "metadata": {},
   "outputs": [],
   "source": []
  },
  {
   "cell_type": "code",
   "execution_count": 16,
   "metadata": {},
   "outputs": [],
   "source": [
    "import datetime as dt"
   ]
  },
  {
   "cell_type": "code",
   "execution_count": 17,
   "metadata": {},
   "outputs": [],
   "source": [
    "import time"
   ]
  },
  {
   "cell_type": "code",
   "execution_count": 18,
   "metadata": {},
   "outputs": [],
   "source": [
    "time_now = time.time()"
   ]
  },
  {
   "cell_type": "code",
   "execution_count": 19,
   "metadata": {},
   "outputs": [],
   "source": [
    "datetime_now = dt.datetime.now(dt.timezone.utc)"
   ]
  },
  {
   "cell_type": "code",
   "execution_count": 20,
   "metadata": {},
   "outputs": [],
   "source": [
    "epoch = datetime_now - dt.timedelta(seconds=time_now)"
   ]
  },
  {
   "cell_type": "code",
   "execution_count": 21,
   "metadata": {},
   "outputs": [
    {
     "name": "stdout",
     "output_type": "stream",
     "text": [
      "1970-01-01 00:00:00.003404+00:00\n"
     ]
    }
   ],
   "source": [
    "print(epoch)"
   ]
  },
  {
   "cell_type": "markdown",
   "metadata": {},
   "source": [
    "We also have the <code>calendar</code> module that can be used to create a Calendar object. This object can then be used to create collections or lists of dates. The time module is also great for calculating time detlas (change in time)."
   ]
  },
  {
   "cell_type": "code",
   "execution_count": 5,
   "metadata": {},
   "outputs": [],
   "source": [
    "import calendar"
   ]
  },
  {
   "cell_type": "code",
   "execution_count": 6,
   "metadata": {},
   "outputs": [],
   "source": [
    "c = calendar.Calendar()"
   ]
  },
  {
   "cell_type": "code",
   "execution_count": 11,
   "metadata": {},
   "outputs": [
    {
     "data": {
      "text/plain": [
       "[datetime.date(2019, 1, 28),\n",
       " datetime.date(2019, 1, 29),\n",
       " datetime.date(2019, 1, 30),\n",
       " datetime.date(2019, 1, 31),\n",
       " datetime.date(2019, 2, 1),\n",
       " datetime.date(2019, 2, 2),\n",
       " datetime.date(2019, 2, 3),\n",
       " datetime.date(2019, 2, 4),\n",
       " datetime.date(2019, 2, 5),\n",
       " datetime.date(2019, 2, 6),\n",
       " datetime.date(2019, 2, 7),\n",
       " datetime.date(2019, 2, 8),\n",
       " datetime.date(2019, 2, 9),\n",
       " datetime.date(2019, 2, 10),\n",
       " datetime.date(2019, 2, 11),\n",
       " datetime.date(2019, 2, 12),\n",
       " datetime.date(2019, 2, 13),\n",
       " datetime.date(2019, 2, 14),\n",
       " datetime.date(2019, 2, 15),\n",
       " datetime.date(2019, 2, 16),\n",
       " datetime.date(2019, 2, 17),\n",
       " datetime.date(2019, 2, 18),\n",
       " datetime.date(2019, 2, 19),\n",
       " datetime.date(2019, 2, 20),\n",
       " datetime.date(2019, 2, 21),\n",
       " datetime.date(2019, 2, 22),\n",
       " datetime.date(2019, 2, 23),\n",
       " datetime.date(2019, 2, 24),\n",
       " datetime.date(2019, 2, 25),\n",
       " datetime.date(2019, 2, 26),\n",
       " datetime.date(2019, 2, 27),\n",
       " datetime.date(2019, 2, 28),\n",
       " datetime.date(2019, 3, 1),\n",
       " datetime.date(2019, 3, 2),\n",
       " datetime.date(2019, 3, 3)]"
      ]
     },
     "execution_count": 11,
     "metadata": {},
     "output_type": "execute_result"
    }
   ],
   "source": [
    "list(c.itermonthdates(2019, 2))\n"
   ]
  },
  {
   "cell_type": "code",
   "execution_count": 12,
   "metadata": {},
   "outputs": [
    {
     "name": "stdout",
     "output_type": "stream",
     "text": [
      "[datetime.date(2019, 2, 1), datetime.date(2019, 2, 2), datetime.date(2019, 2, 3), datetime.date(2019, 2, 4), datetime.date(2019, 2, 5), datetime.date(2019, 2, 6), datetime.date(2019, 2, 7), datetime.date(2019, 2, 8), datetime.date(2019, 2, 9), datetime.date(2019, 2, 10), datetime.date(2019, 2, 11), datetime.date(2019, 2, 12), datetime.date(2019, 2, 13), datetime.date(2019, 2, 14), datetime.date(2019, 2, 15), datetime.date(2019, 2, 16), datetime.date(2019, 2, 17), datetime.date(2019, 2, 18), datetime.date(2019, 2, 19), datetime.date(2019, 2, 20), datetime.date(2019, 2, 21), datetime.date(2019, 2, 22), datetime.date(2019, 2, 23), datetime.date(2019, 2, 24), datetime.date(2019, 2, 25), datetime.date(2019, 2, 26), datetime.date(2019, 2, 27), datetime.date(2019, 2, 28)]\n"
     ]
    }
   ],
   "source": [
    "feb = list(d for d in c.itermonthdates(2019, 2) if d.month == 2)\n",
    "print(feb)"
   ]
  },
  {
   "cell_type": "markdown",
   "metadata": {},
   "source": [
    "Next the <code>os</code>, <code>sys</code>, and <code>platform</code> modules are great for climpsing details about the home system in which your code is running on. The <code>platform</code> module can help you figure out the system process that your code is running on (the PID) as well as other key factors about the native system. \n",
    "\n",
    "<code>sys</code> is helpful for running Python from the command line. <code>sys</code> has a few helpful function such as <code>sys.path</code> and <code>sys.argv</code> which give you the system paht to Python and command line arguments passed to the file. "
   ]
  },
  {
   "cell_type": "code",
   "execution_count": 26,
   "metadata": {},
   "outputs": [],
   "source": [
    "import platform\n",
    "import os\n",
    "import sys"
   ]
  },
  {
   "cell_type": "code",
   "execution_count": 27,
   "metadata": {},
   "outputs": [
    {
     "name": "stdout",
     "output_type": "stream",
     "text": [
      "Process id: 36589\n",
      "Parent process id: 31039\n"
     ]
    }
   ],
   "source": [
    "print(\"Process id:\", os.getpid())\n",
    "print(\"Parent process id:\", os.getppid())"
   ]
  },
  {
   "cell_type": "code",
   "execution_count": 28,
   "metadata": {},
   "outputs": [
    {
     "name": "stdout",
     "output_type": "stream",
     "text": [
      "Machine network name: Calebs-MBP.fios-router.home\n",
      "Python version: 3.7.4\n",
      "System: Darwin\n"
     ]
    }
   ],
   "source": [
    "print(\"Machine network name:\", platform.node())\n",
    "print(\"Python version:\", platform.python_version())\n",
    "print(\"System:\", platform.system())"
   ]
  },
  {
   "cell_type": "code",
   "execution_count": 29,
   "metadata": {},
   "outputs": [
    {
     "name": "stdout",
     "output_type": "stream",
     "text": [
      "Python module lookup path: ['/Users/cdruckemiller/Documents/GitHub/The-Python-Workshop/Chapter06/504_Package_06', '/Users/cdruckemiller/opt/anaconda3/lib/python37.zip', '/Users/cdruckemiller/opt/anaconda3/lib/python3.7', '/Users/cdruckemiller/opt/anaconda3/lib/python3.7/lib-dynload', '', '/Users/cdruckemiller/opt/anaconda3/lib/python3.7/site-packages', '/Users/cdruckemiller/opt/anaconda3/lib/python3.7/site-packages/aeosa', '/Users/cdruckemiller/opt/anaconda3/lib/python3.7/site-packages/IPython/extensions', '/Users/cdruckemiller/.ipython']\n",
      "Command to run Python: ['/Users/cdruckemiller/opt/anaconda3/lib/python3.7/site-packages/ipykernel_launcher.py', '-f', '/Users/cdruckemiller/Library/Jupyter/runtime/kernel-13fcdf8e-86c9-4bc6-ab93-1e8a7c6e99b5.json']\n"
     ]
    }
   ],
   "source": [
    "print(\"Python module lookup path:\", sys.path)\n",
    "print(\"Command to run Python:\", sys.argv)\n"
   ]
  },
  {
   "cell_type": "markdown",
   "metadata": {},
   "source": [
    "<code>os</code> is helpful for defining and reading command line variables defined in your Bash or Zsh settings. "
   ]
  },
  {
   "cell_type": "code",
   "execution_count": 30,
   "metadata": {},
   "outputs": [
    {
     "ename": "KeyError",
     "evalue": "'USERNAME'",
     "output_type": "error",
     "traceback": [
      "\u001b[0;31m---------------------------------------------------------------------------\u001b[0m",
      "\u001b[0;31mKeyError\u001b[0m                                  Traceback (most recent call last)",
      "\u001b[0;32m<ipython-input-30-8e89f21b4c28>\u001b[0m in \u001b[0;36m<module>\u001b[0;34m\u001b[0m\n\u001b[0;32m----> 1\u001b[0;31m \u001b[0mprint\u001b[0m\u001b[0;34m(\u001b[0m\u001b[0;34m\"USERNAME environment variable:\"\u001b[0m\u001b[0;34m,\u001b[0m \u001b[0mos\u001b[0m\u001b[0;34m.\u001b[0m\u001b[0menviron\u001b[0m\u001b[0;34m[\u001b[0m\u001b[0;34m\"USERNAME\"\u001b[0m\u001b[0;34m]\u001b[0m\u001b[0;34m)\u001b[0m\u001b[0;34m\u001b[0m\u001b[0;34m\u001b[0m\u001b[0m\n\u001b[0m",
      "\u001b[0;32m~/opt/anaconda3/lib/python3.7/os.py\u001b[0m in \u001b[0;36m__getitem__\u001b[0;34m(self, key)\u001b[0m\n\u001b[1;32m    676\u001b[0m         \u001b[0;32mexcept\u001b[0m \u001b[0mKeyError\u001b[0m\u001b[0;34m:\u001b[0m\u001b[0;34m\u001b[0m\u001b[0;34m\u001b[0m\u001b[0m\n\u001b[1;32m    677\u001b[0m             \u001b[0;31m# raise KeyError with the original key value\u001b[0m\u001b[0;34m\u001b[0m\u001b[0;34m\u001b[0m\u001b[0;34m\u001b[0m\u001b[0m\n\u001b[0;32m--> 678\u001b[0;31m             \u001b[0;32mraise\u001b[0m \u001b[0mKeyError\u001b[0m\u001b[0;34m(\u001b[0m\u001b[0mkey\u001b[0m\u001b[0;34m)\u001b[0m \u001b[0;32mfrom\u001b[0m \u001b[0;32mNone\u001b[0m\u001b[0;34m\u001b[0m\u001b[0;34m\u001b[0m\u001b[0m\n\u001b[0m\u001b[1;32m    679\u001b[0m         \u001b[0;32mreturn\u001b[0m \u001b[0mself\u001b[0m\u001b[0;34m.\u001b[0m\u001b[0mdecodevalue\u001b[0m\u001b[0;34m(\u001b[0m\u001b[0mvalue\u001b[0m\u001b[0;34m)\u001b[0m\u001b[0;34m\u001b[0m\u001b[0;34m\u001b[0m\u001b[0m\n\u001b[1;32m    680\u001b[0m \u001b[0;34m\u001b[0m\u001b[0m\n",
      "\u001b[0;31mKeyError\u001b[0m: 'USERNAME'"
     ]
    }
   ],
   "source": [
    "print(\"USERNAME environment variable:\", os.environ[\"USERNAME\"])"
   ]
  },
  {
   "cell_type": "markdown",
   "metadata": {},
   "source": [
    "<code>pathlib</code> is another useful system module that further increase Python's ability to interface with the file system and perform operations similar to what command line languages such as Bash and Zsh can do. It is also great for doing text processing on files that exist in your system. "
   ]
  },
  {
   "cell_type": "code",
   "execution_count": 34,
   "metadata": {},
   "outputs": [],
   "source": [
    "import pathlib\n",
    "p = pathlib.Path(\"path-exercise\")"
   ]
  },
  {
   "cell_type": "code",
   "execution_count": 35,
   "metadata": {},
   "outputs": [
    {
     "name": "stdout",
     "output_type": "stream",
     "text": [
      "*.txt: []\n"
     ]
    }
   ],
   "source": [
    "txt_files = p.glob(\"*.txt\")\n",
    "print(\"*.txt:\", list(txt_files))"
   ]
  },
  {
   "cell_type": "code",
   "execution_count": 36,
   "metadata": {
    "scrolled": true
   },
   "outputs": [
    {
     "name": "stdout",
     "output_type": "stream",
     "text": [
      "**/*.txt: []\n"
     ]
    }
   ],
   "source": [
    "print(\"**/*.txt:\", list(p.glob(\"**/*.txt\")))"
   ]
  },
  {
   "cell_type": "code",
   "execution_count": 37,
   "metadata": {
    "scrolled": true
   },
   "outputs": [
    {
     "name": "stdout",
     "output_type": "stream",
     "text": [
      "*/*: []\n"
     ]
    }
   ],
   "source": [
    "print(\"*/*:\", list(p.glob(\"*/*\")))"
   ]
  },
  {
   "cell_type": "code",
   "execution_count": 38,
   "metadata": {
    "scrolled": true
   },
   "outputs": [
    {
     "name": "stdout",
     "output_type": "stream",
     "text": [
      "Files in */*: []\n"
     ]
    }
   ],
   "source": [
    "print(\"Files in */*:\", [f for f in p.glob(\"*/*\") if f.is_file()])"
   ]
  },
  {
   "cell_type": "markdown",
   "metadata": {},
   "source": [
    "Next on our list is the <code>subprocess</code> module. <code>subprocess</code> module works around the idea of child processes on your system which are processes that execute as a result of the request from another process. Your entire machine works on a fetch, decode, execute cylce that spawns processes. This module lets you tap into that process hierarchy and create process directly onto your system. This module is extremely useful for multithreaded programming and advanced performance boosting techniques. "
   ]
  },
  {
   "cell_type": "code",
   "execution_count": 39,
   "metadata": {},
   "outputs": [],
   "source": [
    "import subprocess"
   ]
  },
  {
   "cell_type": "code",
   "execution_count": 40,
   "metadata": {},
   "outputs": [
    {
     "ename": "FileNotFoundError",
     "evalue": "[WinError 2] The system cannot find the file specified",
     "output_type": "error",
     "traceback": [
      "\u001b[1;31m---------------------------------------------------------------------------\u001b[0m",
      "\u001b[1;31mFileNotFoundError\u001b[0m                         Traceback (most recent call last)",
      "\u001b[1;32m<ipython-input-40-d372ded8dddc>\u001b[0m in \u001b[0;36m<module>\u001b[1;34m\u001b[0m\n\u001b[0;32m      2\u001b[0m     \u001b[1;33m[\u001b[0m\u001b[1;34m\"env\"\u001b[0m\u001b[1;33m]\u001b[0m\u001b[1;33m,\u001b[0m\u001b[1;33m\u001b[0m\u001b[1;33m\u001b[0m\u001b[0m\n\u001b[0;32m      3\u001b[0m     \u001b[0mcapture_output\u001b[0m\u001b[1;33m=\u001b[0m\u001b[1;32mTrue\u001b[0m\u001b[1;33m,\u001b[0m\u001b[1;33m\u001b[0m\u001b[1;33m\u001b[0m\u001b[0m\n\u001b[1;32m----> 4\u001b[1;33m     \u001b[0mtext\u001b[0m\u001b[1;33m=\u001b[0m\u001b[1;32mTrue\u001b[0m\u001b[1;33m\u001b[0m\u001b[1;33m\u001b[0m\u001b[0m\n\u001b[0m\u001b[0;32m      5\u001b[0m )\n\u001b[0;32m      6\u001b[0m \u001b[0mprint\u001b[0m\u001b[1;33m(\u001b[0m\u001b[0mresult\u001b[0m\u001b[1;33m.\u001b[0m\u001b[0mstdout\u001b[0m\u001b[1;33m)\u001b[0m\u001b[1;33m\u001b[0m\u001b[1;33m\u001b[0m\u001b[0m\n",
      "\u001b[1;32m~\\Anaconda3\\lib\\subprocess.py\u001b[0m in \u001b[0;36mrun\u001b[1;34m(input, capture_output, timeout, check, *popenargs, **kwargs)\u001b[0m\n\u001b[0;32m    470\u001b[0m         \u001b[0mkwargs\u001b[0m\u001b[1;33m[\u001b[0m\u001b[1;34m'stderr'\u001b[0m\u001b[1;33m]\u001b[0m \u001b[1;33m=\u001b[0m \u001b[0mPIPE\u001b[0m\u001b[1;33m\u001b[0m\u001b[1;33m\u001b[0m\u001b[0m\n\u001b[0;32m    471\u001b[0m \u001b[1;33m\u001b[0m\u001b[0m\n\u001b[1;32m--> 472\u001b[1;33m     \u001b[1;32mwith\u001b[0m \u001b[0mPopen\u001b[0m\u001b[1;33m(\u001b[0m\u001b[1;33m*\u001b[0m\u001b[0mpopenargs\u001b[0m\u001b[1;33m,\u001b[0m \u001b[1;33m**\u001b[0m\u001b[0mkwargs\u001b[0m\u001b[1;33m)\u001b[0m \u001b[1;32mas\u001b[0m \u001b[0mprocess\u001b[0m\u001b[1;33m:\u001b[0m\u001b[1;33m\u001b[0m\u001b[1;33m\u001b[0m\u001b[0m\n\u001b[0m\u001b[0;32m    473\u001b[0m         \u001b[1;32mtry\u001b[0m\u001b[1;33m:\u001b[0m\u001b[1;33m\u001b[0m\u001b[1;33m\u001b[0m\u001b[0m\n\u001b[0;32m    474\u001b[0m             \u001b[0mstdout\u001b[0m\u001b[1;33m,\u001b[0m \u001b[0mstderr\u001b[0m \u001b[1;33m=\u001b[0m \u001b[0mprocess\u001b[0m\u001b[1;33m.\u001b[0m\u001b[0mcommunicate\u001b[0m\u001b[1;33m(\u001b[0m\u001b[0minput\u001b[0m\u001b[1;33m,\u001b[0m \u001b[0mtimeout\u001b[0m\u001b[1;33m=\u001b[0m\u001b[0mtimeout\u001b[0m\u001b[1;33m)\u001b[0m\u001b[1;33m\u001b[0m\u001b[1;33m\u001b[0m\u001b[0m\n",
      "\u001b[1;32m~\\Anaconda3\\lib\\subprocess.py\u001b[0m in \u001b[0;36m__init__\u001b[1;34m(self, args, bufsize, executable, stdin, stdout, stderr, preexec_fn, close_fds, shell, cwd, env, universal_newlines, startupinfo, creationflags, restore_signals, start_new_session, pass_fds, encoding, errors, text)\u001b[0m\n\u001b[0;32m    773\u001b[0m                                 \u001b[0mc2pread\u001b[0m\u001b[1;33m,\u001b[0m \u001b[0mc2pwrite\u001b[0m\u001b[1;33m,\u001b[0m\u001b[1;33m\u001b[0m\u001b[1;33m\u001b[0m\u001b[0m\n\u001b[0;32m    774\u001b[0m                                 \u001b[0merrread\u001b[0m\u001b[1;33m,\u001b[0m \u001b[0merrwrite\u001b[0m\u001b[1;33m,\u001b[0m\u001b[1;33m\u001b[0m\u001b[1;33m\u001b[0m\u001b[0m\n\u001b[1;32m--> 775\u001b[1;33m                                 restore_signals, start_new_session)\n\u001b[0m\u001b[0;32m    776\u001b[0m         \u001b[1;32mexcept\u001b[0m\u001b[1;33m:\u001b[0m\u001b[1;33m\u001b[0m\u001b[1;33m\u001b[0m\u001b[0m\n\u001b[0;32m    777\u001b[0m             \u001b[1;31m# Cleanup if the child failed starting.\u001b[0m\u001b[1;33m\u001b[0m\u001b[1;33m\u001b[0m\u001b[1;33m\u001b[0m\u001b[0m\n",
      "\u001b[1;32m~\\Anaconda3\\lib\\subprocess.py\u001b[0m in \u001b[0;36m_execute_child\u001b[1;34m(self, args, executable, preexec_fn, close_fds, pass_fds, cwd, env, startupinfo, creationflags, shell, p2cread, p2cwrite, c2pread, c2pwrite, errread, errwrite, unused_restore_signals, unused_start_new_session)\u001b[0m\n\u001b[0;32m   1176\u001b[0m                                          \u001b[0menv\u001b[0m\u001b[1;33m,\u001b[0m\u001b[1;33m\u001b[0m\u001b[1;33m\u001b[0m\u001b[0m\n\u001b[0;32m   1177\u001b[0m                                          \u001b[0mos\u001b[0m\u001b[1;33m.\u001b[0m\u001b[0mfspath\u001b[0m\u001b[1;33m(\u001b[0m\u001b[0mcwd\u001b[0m\u001b[1;33m)\u001b[0m \u001b[1;32mif\u001b[0m \u001b[0mcwd\u001b[0m \u001b[1;32mis\u001b[0m \u001b[1;32mnot\u001b[0m \u001b[1;32mNone\u001b[0m \u001b[1;32melse\u001b[0m \u001b[1;32mNone\u001b[0m\u001b[1;33m,\u001b[0m\u001b[1;33m\u001b[0m\u001b[1;33m\u001b[0m\u001b[0m\n\u001b[1;32m-> 1178\u001b[1;33m                                          startupinfo)\n\u001b[0m\u001b[0;32m   1179\u001b[0m             \u001b[1;32mfinally\u001b[0m\u001b[1;33m:\u001b[0m\u001b[1;33m\u001b[0m\u001b[1;33m\u001b[0m\u001b[0m\n\u001b[0;32m   1180\u001b[0m                 \u001b[1;31m# Child is launched. Close the parent's copy of those pipe\u001b[0m\u001b[1;33m\u001b[0m\u001b[1;33m\u001b[0m\u001b[1;33m\u001b[0m\u001b[0m\n",
      "\u001b[1;31mFileNotFoundError\u001b[0m: [WinError 2] The system cannot find the file specified"
     ]
    }
   ],
   "source": [
    "result = subprocess.run(\n",
    "    [\"env\"],\n",
    "    capture_output=True,\n",
    "    text=True\n",
    ")\n",
    "print(result.stdout)"
   ]
  },
  {
   "cell_type": "code",
   "execution_count": 41,
   "metadata": {},
   "outputs": [
    {
     "ename": "FileNotFoundError",
     "evalue": "[WinError 2] The system cannot find the file specified",
     "output_type": "error",
     "traceback": [
      "\u001b[1;31m---------------------------------------------------------------------------\u001b[0m",
      "\u001b[1;31mFileNotFoundError\u001b[0m                         Traceback (most recent call last)",
      "\u001b[1;32m<ipython-input-41-6ecb947f15ae>\u001b[0m in \u001b[0;36m<module>\u001b[1;34m\u001b[0m\n\u001b[0;32m      3\u001b[0m     \u001b[0mcapture_output\u001b[0m\u001b[1;33m=\u001b[0m\u001b[1;32mTrue\u001b[0m\u001b[1;33m,\u001b[0m\u001b[1;33m\u001b[0m\u001b[1;33m\u001b[0m\u001b[0m\n\u001b[0;32m      4\u001b[0m     \u001b[0mtext\u001b[0m\u001b[1;33m=\u001b[0m\u001b[1;32mTrue\u001b[0m\u001b[1;33m,\u001b[0m\u001b[1;33m\u001b[0m\u001b[1;33m\u001b[0m\u001b[0m\n\u001b[1;32m----> 5\u001b[1;33m     \u001b[0menv\u001b[0m\u001b[1;33m=\u001b[0m\u001b[1;33m{\u001b[0m\u001b[1;34m\"SERVER\"\u001b[0m\u001b[1;33m:\u001b[0m \u001b[1;34m\"OTHER_SERVER\"\u001b[0m\u001b[1;33m}\u001b[0m\u001b[1;33m\u001b[0m\u001b[1;33m\u001b[0m\u001b[0m\n\u001b[0m\u001b[0;32m      6\u001b[0m )\n\u001b[0;32m      7\u001b[0m \u001b[0mprint\u001b[0m\u001b[1;33m(\u001b[0m\u001b[0mresult\u001b[0m\u001b[1;33m.\u001b[0m\u001b[0mstdout\u001b[0m\u001b[1;33m)\u001b[0m\u001b[1;33m\u001b[0m\u001b[1;33m\u001b[0m\u001b[0m\n",
      "\u001b[1;32m~\\Anaconda3\\lib\\subprocess.py\u001b[0m in \u001b[0;36mrun\u001b[1;34m(input, capture_output, timeout, check, *popenargs, **kwargs)\u001b[0m\n\u001b[0;32m    470\u001b[0m         \u001b[0mkwargs\u001b[0m\u001b[1;33m[\u001b[0m\u001b[1;34m'stderr'\u001b[0m\u001b[1;33m]\u001b[0m \u001b[1;33m=\u001b[0m \u001b[0mPIPE\u001b[0m\u001b[1;33m\u001b[0m\u001b[1;33m\u001b[0m\u001b[0m\n\u001b[0;32m    471\u001b[0m \u001b[1;33m\u001b[0m\u001b[0m\n\u001b[1;32m--> 472\u001b[1;33m     \u001b[1;32mwith\u001b[0m \u001b[0mPopen\u001b[0m\u001b[1;33m(\u001b[0m\u001b[1;33m*\u001b[0m\u001b[0mpopenargs\u001b[0m\u001b[1;33m,\u001b[0m \u001b[1;33m**\u001b[0m\u001b[0mkwargs\u001b[0m\u001b[1;33m)\u001b[0m \u001b[1;32mas\u001b[0m \u001b[0mprocess\u001b[0m\u001b[1;33m:\u001b[0m\u001b[1;33m\u001b[0m\u001b[1;33m\u001b[0m\u001b[0m\n\u001b[0m\u001b[0;32m    473\u001b[0m         \u001b[1;32mtry\u001b[0m\u001b[1;33m:\u001b[0m\u001b[1;33m\u001b[0m\u001b[1;33m\u001b[0m\u001b[0m\n\u001b[0;32m    474\u001b[0m             \u001b[0mstdout\u001b[0m\u001b[1;33m,\u001b[0m \u001b[0mstderr\u001b[0m \u001b[1;33m=\u001b[0m \u001b[0mprocess\u001b[0m\u001b[1;33m.\u001b[0m\u001b[0mcommunicate\u001b[0m\u001b[1;33m(\u001b[0m\u001b[0minput\u001b[0m\u001b[1;33m,\u001b[0m \u001b[0mtimeout\u001b[0m\u001b[1;33m=\u001b[0m\u001b[0mtimeout\u001b[0m\u001b[1;33m)\u001b[0m\u001b[1;33m\u001b[0m\u001b[1;33m\u001b[0m\u001b[0m\n",
      "\u001b[1;32m~\\Anaconda3\\lib\\subprocess.py\u001b[0m in \u001b[0;36m__init__\u001b[1;34m(self, args, bufsize, executable, stdin, stdout, stderr, preexec_fn, close_fds, shell, cwd, env, universal_newlines, startupinfo, creationflags, restore_signals, start_new_session, pass_fds, encoding, errors, text)\u001b[0m\n\u001b[0;32m    773\u001b[0m                                 \u001b[0mc2pread\u001b[0m\u001b[1;33m,\u001b[0m \u001b[0mc2pwrite\u001b[0m\u001b[1;33m,\u001b[0m\u001b[1;33m\u001b[0m\u001b[1;33m\u001b[0m\u001b[0m\n\u001b[0;32m    774\u001b[0m                                 \u001b[0merrread\u001b[0m\u001b[1;33m,\u001b[0m \u001b[0merrwrite\u001b[0m\u001b[1;33m,\u001b[0m\u001b[1;33m\u001b[0m\u001b[1;33m\u001b[0m\u001b[0m\n\u001b[1;32m--> 775\u001b[1;33m                                 restore_signals, start_new_session)\n\u001b[0m\u001b[0;32m    776\u001b[0m         \u001b[1;32mexcept\u001b[0m\u001b[1;33m:\u001b[0m\u001b[1;33m\u001b[0m\u001b[1;33m\u001b[0m\u001b[0m\n\u001b[0;32m    777\u001b[0m             \u001b[1;31m# Cleanup if the child failed starting.\u001b[0m\u001b[1;33m\u001b[0m\u001b[1;33m\u001b[0m\u001b[1;33m\u001b[0m\u001b[0m\n",
      "\u001b[1;32m~\\Anaconda3\\lib\\subprocess.py\u001b[0m in \u001b[0;36m_execute_child\u001b[1;34m(self, args, executable, preexec_fn, close_fds, pass_fds, cwd, env, startupinfo, creationflags, shell, p2cread, p2cwrite, c2pread, c2pwrite, errread, errwrite, unused_restore_signals, unused_start_new_session)\u001b[0m\n\u001b[0;32m   1176\u001b[0m                                          \u001b[0menv\u001b[0m\u001b[1;33m,\u001b[0m\u001b[1;33m\u001b[0m\u001b[1;33m\u001b[0m\u001b[0m\n\u001b[0;32m   1177\u001b[0m                                          \u001b[0mos\u001b[0m\u001b[1;33m.\u001b[0m\u001b[0mfspath\u001b[0m\u001b[1;33m(\u001b[0m\u001b[0mcwd\u001b[0m\u001b[1;33m)\u001b[0m \u001b[1;32mif\u001b[0m \u001b[0mcwd\u001b[0m \u001b[1;32mis\u001b[0m \u001b[1;32mnot\u001b[0m \u001b[1;32mNone\u001b[0m \u001b[1;32melse\u001b[0m \u001b[1;32mNone\u001b[0m\u001b[1;33m,\u001b[0m\u001b[1;33m\u001b[0m\u001b[1;33m\u001b[0m\u001b[0m\n\u001b[1;32m-> 1178\u001b[1;33m                                          startupinfo)\n\u001b[0m\u001b[0;32m   1179\u001b[0m             \u001b[1;32mfinally\u001b[0m\u001b[1;33m:\u001b[0m\u001b[1;33m\u001b[0m\u001b[1;33m\u001b[0m\u001b[0m\n\u001b[0;32m   1180\u001b[0m                 \u001b[1;31m# Child is launched. Close the parent's copy of those pipe\u001b[0m\u001b[1;33m\u001b[0m\u001b[1;33m\u001b[0m\u001b[1;33m\u001b[0m\u001b[0m\n",
      "\u001b[1;31mFileNotFoundError\u001b[0m: [WinError 2] The system cannot find the file specified"
     ]
    }
   ],
   "source": [
    "result = subprocess.run(\n",
    "    [\"env\"],\n",
    "    capture_output=True,\n",
    "    text=True,\n",
    "    env={\"SERVER\": \"OTHER_SERVER\"}\n",
    ")\n",
    "print(result.stdout)"
   ]
  },
  {
   "cell_type": "code",
   "execution_count": 39,
   "metadata": {},
   "outputs": [
    {
     "name": "stdout",
     "output_type": "stream",
     "text": [
      "TERM_PROGRAM=Apple_Terminal\n",
      "SHELL=/bin/zsh\n",
      "TERM=xterm-color\n",
      "TMPDIR=/var/folders/t5/94bnc1cn08xgtmmx0rfkkw000000gn/T/\n",
      "CONDA_SHLVL=1\n",
      "CONDA_PROMPT_MODIFIER=(base) \n",
      "TERM_PROGRAM_VERSION=433\n",
      "TERM_SESSION_ID=63C6CC2E-FA27-4FAB-91EF-A971F7C46EE7\n",
      "LC_ALL=en_US.UTF-8\n",
      "ZSH=/Users/cdruckemiller/.oh-my-zsh\n",
      "USER=cdruckemiller\n",
      "CONDA_EXE=/Users/cdruckemiller/opt/anaconda3/bin/conda\n",
      "SSH_AUTH_SOCK=/private/tmp/com.apple.launchd.tJLbaThLU0/Listeners\n",
      "PAGER=cat\n",
      "LSCOLORS=Gxfxcxdxbxegedabagacad\n",
      "_CE_CONDA=\n",
      "CONDA_ROOT=/Users/cdruckemiller/opt/anaconda3\n",
      "PATH=/usr/local/bin:/usr/bin:/bin:/usr/sbin:/sbin:/~/Downloads/jdk-13.02.2.jdk/Contents/Home/bin\n",
      "CONDA_PREFIX=/Users/cdruckemiller/opt/anaconda3\n",
      "PWD=/Users/cdruckemiller/Documents/GitHub/The-Python-Workshop\n",
      "LANG=en_US.UTF-8\n",
      "XPC_FLAGS=0x0\n",
      "XPC_SERVICE_NAME=0\n",
      "_CE_M=\n",
      "HOME=/Users/cdruckemiller\n",
      "SHLVL=4\n",
      "LESS=-R\n",
      "LOGNAME=cdruckemiller\n",
      "CONDA_PYTHON_EXE=/Users/cdruckemiller/opt/anaconda3/bin/python\n",
      "LC_CTYPE=UTF-8\n",
      "CONDA_DEFAULT_ENV=base\n",
      "_=/Users/cdruckemiller/opt/anaconda3/bin/jupyter-notebook\n",
      "KERNEL_LAUNCH_TIMEOUT=40\n",
      "JPY_PARENT_PID=31039\n",
      "CLICOLOR=1\n",
      "GIT_PAGER=cat\n",
      "MPLBACKEND=module://ipykernel.pylab.backend_inline\n",
      "SERVER=OTHER_SERVER\n",
      "\n"
     ]
    }
   ],
   "source": [
    "import os\n",
    "result = subprocess.run(\n",
    "    [\"env\"],\n",
    "    capture_output=True,\n",
    "    text=True,\n",
    "    env={**os.environ, \"SERVER\": \"OTHER_SERVER\"}\n",
    ")\n",
    "print(result.stdout)"
   ]
  },
  {
   "cell_type": "markdown",
   "metadata": {},
   "source": [
    "Next up is an all important but often overlooked aspect of software engineering, logging. Using the <code>logging</code> library provided by Python, developers can easy create logs which can be tremendously valuable for production control admins, quality assurance employees, and other developers who need to read your log codes to maintain past work. Frequently logs are the only artifacts we have of software running which makes them increasingly valuable to track where things break. By default, the logger only records out warnings and above but these can be changed through the logger's API. "
   ]
  },
  {
   "cell_type": "code",
   "execution_count": 43,
   "metadata": {},
   "outputs": [],
   "source": [
    "import logging"
   ]
  },
  {
   "cell_type": "code",
   "execution_count": 44,
   "metadata": {},
   "outputs": [],
   "source": [
    "logger = logging.getLogger(\"logger_name\")"
   ]
  },
  {
   "cell_type": "code",
   "execution_count": 45,
   "metadata": {},
   "outputs": [
    {
     "name": "stderr",
     "output_type": "stream",
     "text": [
      "Logging at warning\n",
      "Logging at error\n",
      "Logging at fatal\n"
     ]
    }
   ],
   "source": [
    "logger.debug(\"Logging at debug\")\n",
    "logger.info(\"Logging at info\")\n",
    "logger.warning(\"Logging at warning\")\n",
    "logger.error(\"Logging at error\")\n",
    "logger.fatal(\"Logging at fatal\")"
   ]
  },
  {
   "cell_type": "code",
   "execution_count": 46,
   "metadata": {},
   "outputs": [
    {
     "name": "stderr",
     "output_type": "stream",
     "text": [
      "0 errors reported in moon\n",
      "1 errors reported in moon\n",
      "2 errors reported in moon\n"
     ]
    }
   ],
   "source": [
    "system = \"moon\"\n",
    "for number in range(3):\n",
    "    logger.warning(\"%d errors reported in %s\", number, system)"
   ]
  },
  {
   "cell_type": "markdown",
   "metadata": {},
   "source": [
    "### Configure through code.\n",
    "Restart the kernel here before running this code cell. Also try re running the previous logging examples and see the differences!"
   ]
  },
  {
   "cell_type": "code",
   "execution_count": 44,
   "metadata": {
    "scrolled": true
   },
   "outputs": [
    {
     "name": "stdout",
     "output_type": "stream",
     "text": [
      "INFO: Hello logging world\n"
     ]
    }
   ],
   "source": [
    "import logging\n",
    "import sys\n",
    "root_logger = logging.getLogger()\n",
    "handler = logging.StreamHandler(sys.stdout)\n",
    "formatter = logging.Formatter(\"%(levelname)s: %(message)s\")\n",
    "handler.setFormatter(formatter)\n",
    "root_logger.addHandler(handler)\n",
    "root_logger.setLevel(\"INFO\")\n",
    "\n",
    "logging.info(\"Hello logging world\")"
   ]
  },
  {
   "cell_type": "markdown",
   "metadata": {},
   "source": [
    "### Configure with dictConfig.\n",
    "Restart the kernel here."
   ]
  },
  {
   "cell_type": "code",
   "execution_count": 45,
   "metadata": {},
   "outputs": [
    {
     "name": "stdout",
     "output_type": "stream",
     "text": [
      "INFO: Hello logging world\n"
     ]
    }
   ],
   "source": [
    "import logging\n",
    "from logging.config import dictConfig\n",
    "\n",
    "dictConfig({\n",
    "    \"version\": 1,\n",
    "    \"formatters\": {\n",
    "        \"short\":{\n",
    "            \"format\": \"%(levelname)s: %(message)s\",\n",
    "        }\n",
    "    },\n",
    "    \"handlers\": {\n",
    "        \"console\": {\n",
    "            \"class\": \"logging.StreamHandler\",\n",
    "            \"formatter\": \"short\",\n",
    "            \"stream\": \"ext://sys.stdout\",\n",
    "            \"level\": \"DEBUG\",\n",
    "        }\n",
    "    },\n",
    "    \"loggers\": {\n",
    "        \"\": {\n",
    "            \"handlers\": [\"console\"],\n",
    "            \"level\": \"INFO\"\n",
    "        }   \n",
    "    }\n",
    "})\n",
    "logging.info(\"Hello logging world\")"
   ]
  },
  {
   "cell_type": "markdown",
   "metadata": {},
   "source": [
    "### Configure with basicConfig.\n",
    "Restart the kernel here."
   ]
  },
  {
   "cell_type": "code",
   "execution_count": 1,
   "metadata": {},
   "outputs": [
    {
     "name": "stdout",
     "output_type": "stream",
     "text": [
      "INFO::: Hello there!\n"
     ]
    }
   ],
   "source": [
    "import sys\n",
    "import logging\n",
    "logging.basicConfig(\n",
    "    level=\"INFO\",\n",
    "    format=\"%(levelname)s::: %(message)s\",\n",
    "    stream=sys.stdout\n",
    ")\n",
    "logging.info(\"Hello there!\")"
   ]
  },
  {
   "cell_type": "markdown",
   "metadata": {},
   "source": [
    "### Configure with fileconfig.\n",
    "Restart the kernel here."
   ]
  },
  {
   "cell_type": "code",
   "execution_count": 47,
   "metadata": {},
   "outputs": [
    {
     "ename": "KeyError",
     "evalue": "'formatters'",
     "output_type": "error",
     "traceback": [
      "\u001b[0;31m---------------------------------------------------------------------------\u001b[0m",
      "\u001b[0;31mKeyError\u001b[0m                                  Traceback (most recent call last)",
      "\u001b[0;32m<ipython-input-47-e3485ddf279e>\u001b[0m in \u001b[0;36m<module>\u001b[0;34m\u001b[0m\n\u001b[1;32m      1\u001b[0m \u001b[0;32mimport\u001b[0m \u001b[0mlogging\u001b[0m\u001b[0;34m\u001b[0m\u001b[0;34m\u001b[0m\u001b[0m\n\u001b[1;32m      2\u001b[0m \u001b[0;32mfrom\u001b[0m \u001b[0mlogging\u001b[0m\u001b[0;34m.\u001b[0m\u001b[0mconfig\u001b[0m \u001b[0;32mimport\u001b[0m \u001b[0mfileConfig\u001b[0m\u001b[0;34m\u001b[0m\u001b[0;34m\u001b[0m\u001b[0m\n\u001b[0;32m----> 3\u001b[0;31m \u001b[0mfileConfig\u001b[0m\u001b[0;34m(\u001b[0m\u001b[0;34m\"logging-config.ini\"\u001b[0m\u001b[0;34m)\u001b[0m\u001b[0;34m\u001b[0m\u001b[0;34m\u001b[0m\u001b[0m\n\u001b[0m\u001b[1;32m      4\u001b[0m \u001b[0mlogging\u001b[0m\u001b[0;34m.\u001b[0m\u001b[0minfo\u001b[0m\u001b[0;34m(\u001b[0m\u001b[0;34m\"Hello there!\"\u001b[0m\u001b[0;34m)\u001b[0m\u001b[0;34m\u001b[0m\u001b[0;34m\u001b[0m\u001b[0m\n",
      "\u001b[0;32m~/opt/anaconda3/lib/python3.7/logging/config.py\u001b[0m in \u001b[0;36mfileConfig\u001b[0;34m(fname, defaults, disable_existing_loggers)\u001b[0m\n\u001b[1;32m     69\u001b[0m             \u001b[0mcp\u001b[0m\u001b[0;34m.\u001b[0m\u001b[0mread\u001b[0m\u001b[0;34m(\u001b[0m\u001b[0mfname\u001b[0m\u001b[0;34m)\u001b[0m\u001b[0;34m\u001b[0m\u001b[0;34m\u001b[0m\u001b[0m\n\u001b[1;32m     70\u001b[0m \u001b[0;34m\u001b[0m\u001b[0m\n\u001b[0;32m---> 71\u001b[0;31m     \u001b[0mformatters\u001b[0m \u001b[0;34m=\u001b[0m \u001b[0m_create_formatters\u001b[0m\u001b[0;34m(\u001b[0m\u001b[0mcp\u001b[0m\u001b[0;34m)\u001b[0m\u001b[0;34m\u001b[0m\u001b[0;34m\u001b[0m\u001b[0m\n\u001b[0m\u001b[1;32m     72\u001b[0m \u001b[0;34m\u001b[0m\u001b[0m\n\u001b[1;32m     73\u001b[0m     \u001b[0;31m# critical section\u001b[0m\u001b[0;34m\u001b[0m\u001b[0;34m\u001b[0m\u001b[0;34m\u001b[0m\u001b[0m\n",
      "\u001b[0;32m~/opt/anaconda3/lib/python3.7/logging/config.py\u001b[0m in \u001b[0;36m_create_formatters\u001b[0;34m(cp)\u001b[0m\n\u001b[1;32m    102\u001b[0m \u001b[0;32mdef\u001b[0m \u001b[0m_create_formatters\u001b[0m\u001b[0;34m(\u001b[0m\u001b[0mcp\u001b[0m\u001b[0;34m)\u001b[0m\u001b[0;34m:\u001b[0m\u001b[0;34m\u001b[0m\u001b[0;34m\u001b[0m\u001b[0m\n\u001b[1;32m    103\u001b[0m     \u001b[0;34m\"\"\"Create and return formatters\"\"\"\u001b[0m\u001b[0;34m\u001b[0m\u001b[0;34m\u001b[0m\u001b[0m\n\u001b[0;32m--> 104\u001b[0;31m     \u001b[0mflist\u001b[0m \u001b[0;34m=\u001b[0m \u001b[0mcp\u001b[0m\u001b[0;34m[\u001b[0m\u001b[0;34m\"formatters\"\u001b[0m\u001b[0;34m]\u001b[0m\u001b[0;34m[\u001b[0m\u001b[0;34m\"keys\"\u001b[0m\u001b[0;34m]\u001b[0m\u001b[0;34m\u001b[0m\u001b[0;34m\u001b[0m\u001b[0m\n\u001b[0m\u001b[1;32m    105\u001b[0m     \u001b[0;32mif\u001b[0m \u001b[0;32mnot\u001b[0m \u001b[0mlen\u001b[0m\u001b[0;34m(\u001b[0m\u001b[0mflist\u001b[0m\u001b[0;34m)\u001b[0m\u001b[0;34m:\u001b[0m\u001b[0;34m\u001b[0m\u001b[0;34m\u001b[0m\u001b[0m\n\u001b[1;32m    106\u001b[0m         \u001b[0;32mreturn\u001b[0m \u001b[0;34m{\u001b[0m\u001b[0;34m}\u001b[0m\u001b[0;34m\u001b[0m\u001b[0;34m\u001b[0m\u001b[0m\n",
      "\u001b[0;32m~/opt/anaconda3/lib/python3.7/configparser.py\u001b[0m in \u001b[0;36m__getitem__\u001b[0;34m(self, key)\u001b[0m\n\u001b[1;32m    956\u001b[0m     \u001b[0;32mdef\u001b[0m \u001b[0m__getitem__\u001b[0m\u001b[0;34m(\u001b[0m\u001b[0mself\u001b[0m\u001b[0;34m,\u001b[0m \u001b[0mkey\u001b[0m\u001b[0;34m)\u001b[0m\u001b[0;34m:\u001b[0m\u001b[0;34m\u001b[0m\u001b[0;34m\u001b[0m\u001b[0m\n\u001b[1;32m    957\u001b[0m         \u001b[0;32mif\u001b[0m \u001b[0mkey\u001b[0m \u001b[0;34m!=\u001b[0m \u001b[0mself\u001b[0m\u001b[0;34m.\u001b[0m\u001b[0mdefault_section\u001b[0m \u001b[0;32mand\u001b[0m \u001b[0;32mnot\u001b[0m \u001b[0mself\u001b[0m\u001b[0;34m.\u001b[0m\u001b[0mhas_section\u001b[0m\u001b[0;34m(\u001b[0m\u001b[0mkey\u001b[0m\u001b[0;34m)\u001b[0m\u001b[0;34m:\u001b[0m\u001b[0;34m\u001b[0m\u001b[0;34m\u001b[0m\u001b[0m\n\u001b[0;32m--> 958\u001b[0;31m             \u001b[0;32mraise\u001b[0m \u001b[0mKeyError\u001b[0m\u001b[0;34m(\u001b[0m\u001b[0mkey\u001b[0m\u001b[0;34m)\u001b[0m\u001b[0;34m\u001b[0m\u001b[0;34m\u001b[0m\u001b[0m\n\u001b[0m\u001b[1;32m    959\u001b[0m         \u001b[0;32mreturn\u001b[0m \u001b[0mself\u001b[0m\u001b[0;34m.\u001b[0m\u001b[0m_proxies\u001b[0m\u001b[0;34m[\u001b[0m\u001b[0mkey\u001b[0m\u001b[0;34m]\u001b[0m\u001b[0;34m\u001b[0m\u001b[0;34m\u001b[0m\u001b[0m\n\u001b[1;32m    960\u001b[0m \u001b[0;34m\u001b[0m\u001b[0m\n",
      "\u001b[0;31mKeyError\u001b[0m: 'formatters'"
     ]
    }
   ],
   "source": [
    "import logging\n",
    "from logging.config import fileConfig\n",
    "fileConfig(\"logging-config.ini\")\n",
    "logging.info(\"Hello there!\")"
   ]
  },
  {
   "cell_type": "markdown",
   "metadata": {},
   "source": [
    "Now we are going to try to interface with the world wide web. Using the <code>urllib.reqest</code> you can retrieve the contents from the internet and parse the response down to a text input. That text input can then be decoded and split into a list data structure that is easy to handle in the Python programming language. "
   ]
  },
  {
   "cell_type": "code",
   "execution_count": 48,
   "metadata": {},
   "outputs": [
    {
     "data": {
      "text/plain": [
       "858"
      ]
     },
     "execution_count": 48,
     "metadata": {},
     "output_type": "execute_result"
    }
   ],
   "source": [
    "import urllib.request\n",
    "url = 'https://www.w3.org/TR/PNG/iso_8859-1.txt'\n",
    "response = urllib.request.urlopen(url)\n",
    "words = response.read().decode().split()\n",
    "len(words)  # 858"
   ]
  },
  {
   "cell_type": "markdown",
   "metadata": {},
   "source": [
    "Next up is a common tool in many programming language, the concept of collections. Counters, from collections, are a sublcass of a dictionary, which means you have access to all the methods available to dictionaries as well as the new ones provided by Counters. "
   ]
  },
  {
   "cell_type": "code",
   "execution_count": 49,
   "metadata": {},
   "outputs": [],
   "source": [
    "import collections\n",
    "word_counter = collections.Counter(words)"
   ]
  },
  {
   "cell_type": "markdown",
   "metadata": {},
   "source": [
    "This <code>for</code> loop syntax maybe slightly alien, its simply a way to iterate over the keys in a dictionary and have access to the values at the same time. Essentially this read for every key - value pair in the <code>word_counter.most_common(5)</code> dictionary, print the <code>word</code> key and the <code>count</code> value. "
   ]
  },
  {
   "cell_type": "code",
   "execution_count": 50,
   "metadata": {},
   "outputs": [
    {
     "name": "stdout",
     "output_type": "stream",
     "text": [
      "LETTER - 114\n",
      "SMALL - 58\n",
      "CAPITAL - 56\n",
      "WITH - 55\n",
      "SIGN - 21\n"
     ]
    }
   ],
   "source": [
    "for word, count in word_counter.most_common(5):\n",
    "    print(word, \"-\", count)"
   ]
  },
  {
   "cell_type": "code",
   "execution_count": 51,
   "metadata": {},
   "outputs": [
    {
     "name": "stdout",
     "output_type": "stream",
     "text": [
      "QUESTION - 2\n",
      "CIRCUMFLEX - 11\n",
      "DIGIT - 10\n",
      "PYTHON - 0\n"
     ]
    }
   ],
   "source": [
    "print(\"QUESTION\", \"-\", word_counter[\"QUESTION\"])\n",
    "print(\"CIRCUMFLEX\", \"-\", word_counter[\"CIRCUMFLEX\"])\n",
    "print(\"DIGIT\", \"-\", word_counter[\"DIGIT\"])\n",
    "print(\"PYTHON\", \"-\", word_counter[\"PYTHON\"])"
   ]
  },
  {
   "cell_type": "markdown",
   "metadata": {},
   "source": [
    "Next we are going to cover <code>defaultdict</code>'s which are essentially the same as Python's dictionaries but provide a way to handle what happens which a key is looked up but no value is found. Below is how the code would be written without a <code>defaultdict</code> then after these two code blocks is how the code is refactored to use a  <code>defaultdict</code>."
   ]
  },
  {
   "cell_type": "code",
   "execution_count": 52,
   "metadata": {},
   "outputs": [],
   "source": [
    "_audit = {}\n",
    "\n",
    "def add_audit(area, action):\n",
    "    if area in _audit:\n",
    "        _audit[area].append(action)\n",
    "    else:\n",
    "        _audit[area] = [action]\n",
    "        \n",
    "def report_audit():\n",
    "    for area, actions in _audit.items():\n",
    "        print(f\"{area} audit:\")\n",
    "        for action in actions:\n",
    "            print(f\"- {action}\")\n",
    "        print()"
   ]
  },
  {
   "cell_type": "code",
   "execution_count": 53,
   "metadata": {},
   "outputs": [
    {
     "name": "stdout",
     "output_type": "stream",
     "text": [
      "HR audit:\n",
      "- Hired Sam\n",
      "- Hired Tom\n",
      "\n",
      "Finance audit:\n",
      "- Used 1000£\n",
      "\n"
     ]
    }
   ],
   "source": [
    "add_audit(\"HR\", \"Hired Sam\")\n",
    "add_audit(\"Finance\", \"Used 1000£\")\n",
    "add_audit(\"HR\", \"Hired Tom\")\n",
    "report_audit()"
   ]
  },
  {
   "cell_type": "markdown",
   "metadata": {},
   "source": [
    "So, how you can read this is, if a key is looked up and not found, call the <code>list</code> method and create an empty list. You can essentially put any method in this constructor, such as a lambda, to create more complex  <code>defaultdict</code>'s."
   ]
  },
  {
   "cell_type": "code",
   "execution_count": 54,
   "metadata": {},
   "outputs": [],
   "source": [
    "import collections\n",
    "_audit = collections.defaultdict(list)\n",
    "\n",
    "def add_audit(area, action):\n",
    "    _audit[area].append(action)\n",
    "        \n",
    "def report_audit():\n",
    "    for area, actions in _audit.items():\n",
    "        print(f\"{area} audit:\")\n",
    "        for action in actions:\n",
    "            print(f\"- {action}\")\n",
    "        print()"
   ]
  },
  {
   "cell_type": "code",
   "execution_count": 55,
   "metadata": {},
   "outputs": [
    {
     "name": "stdout",
     "output_type": "stream",
     "text": [
      "HR audit:\n",
      "- Hired Sam\n",
      "- Hired Tom\n",
      "\n",
      "Finance audit:\n",
      "- Used 1000£\n",
      "\n"
     ]
    }
   ],
   "source": [
    "add_audit(\"HR\", \"Hired Sam\")\n",
    "add_audit(\"Finance\", \"Used 1000£\")\n",
    "add_audit(\"HR\", \"Hired Tom\")\n",
    "report_audit()"
   ]
  },
  {
   "cell_type": "code",
   "execution_count": 6,
   "metadata": {},
   "outputs": [],
   "source": [
    "_audit = {}\n",
    "\n",
    "def add_audit(area, action):\n",
    "    if area not in _audit:\n",
    "        _audit[area] = [\"Area created\"]\n",
    "    _audit[area].append(action)\n",
    "        \n",
    "def report_audit():\n",
    "    for area, actions in _audit.items():\n",
    "        print(f\"{area} audit:\")\n",
    "        for action in actions:\n",
    "            print(f\"- {action}\")\n",
    "        print()"
   ]
  },
  {
   "cell_type": "code",
   "execution_count": 7,
   "metadata": {},
   "outputs": [
    {
     "name": "stdout",
     "output_type": "stream",
     "text": [
      "HR audit:\n",
      "- Area created\n",
      "- Hired Sam\n",
      "- Hired Tom\n",
      "\n",
      "Finance audit:\n",
      "- Area created\n",
      "- Used 1000£\n",
      "\n"
     ]
    }
   ],
   "source": [
    "add_audit(\"HR\", \"Hired Sam\")\n",
    "add_audit(\"Finance\", \"Used 1000£\")\n",
    "add_audit(\"HR\", \"Hired Tom\")\n",
    "report_audit()"
   ]
  },
  {
   "cell_type": "markdown",
   "metadata": {},
   "source": [
    "Here, instead of an empty list, we want the  <code>defaultdict</code> to add a list with the first element being \"Area created\" to indicate that a new section in the audit report starts here. \n",
    "\n",
    "\n",
    "Notice that we are using a new way to format strings in this section. We add an <b>f</b> to the front of the <code>print()</code> method and then use variable names in curly braces {}. This lets us directly use variable in strings and replace them with their string values in formatted strings. This is the third and final way we will handle string formatting and is probably the most popular and concise method to handle string formatting.\n"
   ]
  },
  {
   "cell_type": "code",
   "execution_count": 9,
   "metadata": {},
   "outputs": [
    {
     "ename": "TypeError",
     "evalue": "first argument must be callable or None",
     "output_type": "error",
     "traceback": [
      "\u001b[1;31m---------------------------------------------------------------------------\u001b[0m",
      "\u001b[1;31mTypeError\u001b[0m                                 Traceback (most recent call last)",
      "\u001b[1;32m<ipython-input-9-50a00f673552>\u001b[0m in \u001b[0;36m<module>\u001b[1;34m\u001b[0m\n\u001b[0;32m      1\u001b[0m \u001b[1;32mimport\u001b[0m \u001b[0mcollections\u001b[0m\u001b[1;33m\u001b[0m\u001b[1;33m\u001b[0m\u001b[0m\n\u001b[1;32m----> 2\u001b[1;33m \u001b[0m_audit\u001b[0m \u001b[1;33m=\u001b[0m \u001b[0mcollections\u001b[0m\u001b[1;33m.\u001b[0m\u001b[0mdefaultdict\u001b[0m\u001b[1;33m(\u001b[0m\u001b[1;34m\"Nothing Found\"\u001b[0m\u001b[1;33m)\u001b[0m\u001b[1;33m\u001b[0m\u001b[1;33m\u001b[0m\u001b[0m\n\u001b[0m\u001b[0;32m      3\u001b[0m \u001b[1;33m\u001b[0m\u001b[0m\n\u001b[0;32m      4\u001b[0m \u001b[1;33m\u001b[0m\u001b[0m\n\u001b[0;32m      5\u001b[0m \u001b[1;32mdef\u001b[0m \u001b[0madd_audit\u001b[0m\u001b[1;33m(\u001b[0m\u001b[0marea\u001b[0m\u001b[1;33m,\u001b[0m \u001b[0maction\u001b[0m\u001b[1;33m)\u001b[0m\u001b[1;33m:\u001b[0m\u001b[1;33m\u001b[0m\u001b[1;33m\u001b[0m\u001b[0m\n",
      "\u001b[1;31mTypeError\u001b[0m: first argument must be callable or None"
     ]
    }
   ],
   "source": [
    "\n",
    "import collection\n",
    "_audit = collections.defaultdict(\"Nothing Found\")\n",
    "\n",
    "\n",
    "def add_audit(area, action):\n",
    "    _audit[area].append(action)\n",
    "        \n",
    "def report_audit():\n",
    "    for area, actions in _audit.items():\n",
    "        print(f\"{area} audit:\")\n",
    "        for action in actions:\n",
    "            print(f\"- {action}\")\n",
    "        print()"
   ]
  },
  {
   "cell_type": "code",
   "execution_count": 59,
   "metadata": {},
   "outputs": [
    {
     "name": "stdout",
     "output_type": "stream",
     "text": [
      "HR audit:\n",
      "- Area created\n",
      "- Hired Sam\n",
      "- Hired Tom\n",
      "\n",
      "Finance audit:\n",
      "- Area created\n",
      "- Used 1000£\n",
      "\n"
     ]
    }
   ],
   "source": [
    "add_audit(\"HR\", \"Hired Sam\")\n",
    "add_audit(\"Finance\", \"Used 1000£\")\n",
    "add_audit(\"HR\", \"Hired Tom\")\n",
    "report_audit()"
   ]
  },
  {
   "cell_type": "markdown",
   "metadata": {},
   "source": [
    "We are almost done, but next up we have a concept of caching. Frequently, when creating software, developers will want to save values for later use if calculating the value was exceptionally expensive to retrieve. This goes beyond the concept of saving the data to a variable. This is the concept of caching. With caching you are saving values off to the side that can be easily referenced without saving them off to a specific memory slot. To maintain a cache, we need what is called a retention strategy which is how we decide what to get rid of first. The caching strategy we are going to target in this example is LRU or least recently used. LRU states that we remove the entry that was used least recently. When we execute the next cell, you'll see that it waits 10 seconds between writing out both \"heavy\" operation outputs."
   ]
  },
  {
   "cell_type": "code",
   "execution_count": 6,
   "metadata": {},
   "outputs": [],
   "source": [
    "import time\n",
    "\n",
    "def func(x):\n",
    "    time.sleep(5)\n",
    "    print(f\"Heavy operation for {x}\")\n",
    "    return x * 10"
   ]
  },
  {
   "cell_type": "code",
   "execution_count": 7,
   "metadata": {},
   "outputs": [
    {
     "name": "stdout",
     "output_type": "stream",
     "text": [
      "Heavy operation for 1\n",
      "Func returned: 10\n",
      "Heavy operation for 1\n",
      "Func returned: 10\n"
     ]
    }
   ],
   "source": [
    "print(\"Func returned:\", func(1))\n",
    "print(\"Func returned:\", func(1))"
   ]
  },
  {
   "cell_type": "markdown",
   "metadata": {},
   "source": [
    "But this time we are goning to use the <code>@functools.lru_cache()</code> decorator that caches the outputs of the function, and we assume that the function is deterministic, meaning that if passed the same inputs, it will give us the same output. So when we fetch the outcome of the function with the input of 1, we get back the output without having to wait the whole 10 seconds because the value was saved in the cache. "
   ]
  },
  {
   "cell_type": "code",
   "execution_count": 8,
   "metadata": {},
   "outputs": [],
   "source": [
    "import functools\n",
    "import time\n",
    "\n",
    "@functools.lru_cache()\n",
    "def func(x):\n",
    "    time.sleep(5)\n",
    "    print(f\"Heavy operation for {x}\")\n",
    "    return x * 10"
   ]
  },
  {
   "cell_type": "code",
   "execution_count": 9,
   "metadata": {},
   "outputs": [
    {
     "name": "stdout",
     "output_type": "stream",
     "text": [
      "Heavy operation for 1\n",
      "Func returned: 10\n",
      "Func returned: 10\n",
      "Heavy operation for 2\n",
      "Func returned: 20\n"
     ]
    }
   ],
   "source": [
    "print(\"Func returned:\", func(1))\n",
    "print(\"Func returned:\", func(1))\n",
    "print(\"Func returned:\", func(2))"
   ]
  },
  {
   "cell_type": "markdown",
   "metadata": {},
   "source": [
    "We can see that this can add up quickly with truly expensive retrievals that are frequently queried. "
   ]
  },
  {
   "cell_type": "code",
   "execution_count": 10,
   "metadata": {},
   "outputs": [],
   "source": [
    "import functools\n",
    "import time\n",
    "\n",
    "@functools.lru_cache(maxsize=2)\n",
    "def func(x):\n",
    "    time.sleep(5)\n",
    "    print(f\"Heavy operation for {x}\")\n",
    "    return x * 10"
   ]
  },
  {
   "cell_type": "code",
   "execution_count": 11,
   "metadata": {},
   "outputs": [
    {
     "name": "stdout",
     "output_type": "stream",
     "text": [
      "Heavy operation for 1\n",
      "Func returned: 10\n",
      "Heavy operation for 2\n",
      "Func returned: 20\n",
      "Heavy operation for 3\n",
      "Func returned: 30\n",
      "Func returned: 30\n",
      "Func returned: 20\n",
      "Heavy operation for 1\n",
      "Func returned: 10\n"
     ]
    }
   ],
   "source": [
    "print(\"Func returned:\", func(1))\n",
    "print(\"Func returned:\", func(2))\n",
    "print(\"Func returned:\", func(3))\n",
    "print(\"Func returned:\", func(3))\n",
    "print(\"Func returned:\", func(2))\n",
    "print(\"Func returned:\", func(1))"
   ]
  },
  {
   "cell_type": "markdown",
   "metadata": {},
   "source": [
    "We can also apply the caching outside of the definition of the function. This can be extremely helpful if we want to have different caching policies depending on the lookup conditions or if we want to conditionally apply the cache or not depending on how the function is triggered. "
   ]
  },
  {
   "cell_type": "code",
   "execution_count": 12,
   "metadata": {},
   "outputs": [],
   "source": [
    "import functools\n",
    "import time\n",
    "\n",
    "def func(x):\n",
    "    time.sleep(1)\n",
    "    print(f\"Heavy operation for {x}\")\n",
    "    return x * 10\n",
    "\n",
    "cached_func = functools.lru_cache()(func)"
   ]
  },
  {
   "cell_type": "code",
   "execution_count": 13,
   "metadata": {},
   "outputs": [
    {
     "name": "stdout",
     "output_type": "stream",
     "text": [
      "Heavy operation for 1\n",
      "Cached func returned: 10\n",
      "Cached func returned: 10\n",
      "Heavy operation for 1\n",
      "Func returned: 10\n",
      "Heavy operation for 1\n",
      "Func returned: 10\n"
     ]
    }
   ],
   "source": [
    "print(\"Cached func returned:\", cached_func(1))\n",
    "print(\"Cached func returned:\", cached_func(1))\n",
    "print(\"Func returned:\", func(1))\n",
    "print(\"Func returned:\", func(1))"
   ]
  },
  {
   "cell_type": "markdown",
   "metadata": {},
   "source": [
    "Finally, we get to the concept of <b>partials</b>. A <code>partial</code> is away to execute a function without passing all required parameters to the function execution. How is this possible? Well you save the function using the <code>partial</code> function from <code>functools</code> and pass the name of the function and then pass the kwarg that you want to have saved as default as a parameter and with that you can create a \"new\" function that is the old function but will always have that kwarg passed to it. We do this with the <code>print()</code> function to always print to the standard error output. \n",
    "\n",
    "A helpful tool at your disposal with Python is the <code>help()</code> method. This will give you some API usage tools for a method as long as it's within the Python standard library or has a <i>help</i> document attached to it if it's a third party package."
   ]
  },
  {
   "cell_type": "code",
   "execution_count": 15,
   "metadata": {
    "scrolled": true
   },
   "outputs": [
    {
     "name": "stdout",
     "output_type": "stream",
     "text": [
      "Help on built-in function print in module builtins:\n",
      "\n",
      "print(...)\n",
      "    print(value, ..., sep=' ', end='\\n', file=sys.stdout, flush=False)\n",
      "    \n",
      "    Prints the values to a stream, or to sys.stdout by default.\n",
      "    Optional keyword arguments:\n",
      "    file:  a file-like object (stream); defaults to the current sys.stdout.\n",
      "    sep:   string inserted between values, default a space.\n",
      "    end:   string appended after the last value, default a newline.\n",
      "    flush: whether to forcibly flush the stream.\n",
      "\n",
      "\n",
      "Please wait a moment while I gather a list of all available modules...\n",
      "\n"
     ]
    },
    {
     "name": "stderr",
     "output_type": "stream",
     "text": [
      "C:\\Users\\Caleb\\Anaconda3\\lib\\site-packages\\IPython\\kernel\\__init__.py:13: ShimWarning: The `IPython.kernel` package has been deprecated since IPython 4.0.You should import from ipykernel or jupyter_client instead.\n",
      "  \"You should import from ipykernel or jupyter_client instead.\", ShimWarning)\n"
     ]
    },
    {
     "name": "stdout",
     "output_type": "stream",
     "text": [
      "WARNING::: AstropyDeprecationWarning: astropy.utils.compat.futures is now deprecated - use concurrent.futures instead\n"
     ]
    },
    {
     "name": "stderr",
     "output_type": "stream",
     "text": [
      "WARNING: AstropyDeprecationWarning: astropy.utils.compat.futures is now deprecated - use concurrent.futures instead [astropy.utils.compat.futures]\n"
     ]
    },
    {
     "name": "stdout",
     "output_type": "stream",
     "text": [
      "INFO::: Imported existing <module 'comtypes.gen' from 'C:\\\\Users\\\\Caleb\\\\Anaconda3\\\\lib\\\\site-packages\\\\comtypes\\\\gen\\\\__init__.py'>\n",
      "INFO::: Using writeable comtypes cache directory: 'C:\\Users\\Caleb\\Anaconda3\\lib\\site-packages\\comtypes\\gen'\n",
      "INFO::: Note: NumExpr detected 16 cores but \"NUMEXPR_MAX_THREADS\" not set, so enforcing safe limit of 8.\n",
      "INFO::: NumExpr defaulting to 8 threads.\n",
      "INFO::: Loading KWallet\n",
      "INFO::: Loading SecretService\n",
      "INFO::: Loading Windows\n",
      "INFO::: Loading chainer\n",
      "INFO::: Loading macOS\n"
     ]
    },
    {
     "name": "stderr",
     "output_type": "stream",
     "text": [
      "C:\\Users\\Caleb\\Anaconda3\\lib\\site-packages\\nltk\\twitter\\__init__.py:22: UserWarning: The twython library has not been installed. Some functionality from the twitter package will not be available.\n",
      "  \"The twython library has not been installed. \"\n",
      "C:\\Users\\Caleb\\Anaconda3\\lib\\site-packages\\skimage\\novice\\__init__.py:103: UserWarning: The `skimage.novice` module was deprecated in version 0.14. It will be removed in 0.16.\n",
      "  warnings.warn(\"The `skimage.novice` module was deprecated in version 0.14. \"\n",
      "C:\\Users\\Caleb\\Anaconda3\\lib\\site-packages\\skimage\\viewer\\utils\\core.py:10: UserWarning: Recommended matplotlib backend is `Agg` for full skimage.viewer functionality.\n",
      "  warn(\"Recommended matplotlib backend is `Agg` for full \"\n",
      "C:\\Users\\Caleb\\Anaconda3\\lib\\site-packages\\sklearn\\externals\\joblib\\__init__.py:15: DeprecationWarning: sklearn.externals.joblib is deprecated in 0.21 and will be removed in 0.23. Please import this functionality directly from joblib, which can be installed with: pip install joblib. If this warning is raised when loading pickled models, you may need to re-serialize those models with scikit-learn 0.21+.\n",
      "  warnings.warn(msg, category=DeprecationWarning)\n",
      "C:\\Users\\Caleb\\Anaconda3\\lib\\site-packages\\qtawesome\\iconic_font.py:301: UserWarning: You need to have a running QApplication to use QtAwesome!\n",
      "  warnings.warn(\"You need to have a running \"\n",
      "C:\\Users\\Caleb\\Anaconda3\\lib\\pkgutil.py:107: VisibleDeprecationWarning: zmq.eventloop.minitornado is deprecated in pyzmq 14.0 and will be removed.\n",
      "    Install tornado itself to use zmq with the tornado IOLoop.\n",
      "    \n",
      "  yield from walk_packages(path, info.name+'.', onerror)\n"
     ]
    },
    {
     "name": "stdout",
     "output_type": "stream",
     "text": [
      "Crypto              brain_subprocess    markupsafe          socket\n",
      "Cython              brain_threading     marshal             socketserver\n",
      "IPython             brain_typing        math                socks\n",
      "OpenSSL             brain_uuid          matplotlib          sockshandler\n",
      "PIL                 bs4                 mccabe              sortedcollections\n",
      "PyQt5               bson                menuinst            sortedcontainers\n",
      "__future__          builtins            mimetypes           soupsieve\n",
      "_abc                bz2                 mistune             sphinx\n",
      "_ast                cProfile            mkl                 sphinxcontrib\n",
      "_asyncio            calendar            mkl_fft             spyder\n",
      "_bisect             certifi             mkl_random          spyder_breakpoints\n",
      "_blake2             cffi                mmap                spyder_io_dcm\n",
      "_bootlocale         cgi                 mmapfile            spyder_io_hdf5\n",
      "_bz2                cgitb               mmsystem            spyder_kernels\n",
      "_cffi_backend       chardet             mock                spyder_profiler\n",
      "_codecs             chunk               modulefinder        spyder_pylint\n",
      "_codecs_cn          click               mongopy             sqlalchemy\n",
      "_codecs_hk          cloudpickle         more_itertools      sqlite3\n",
      "_codecs_iso2022     clyent              mpmath              sre_compile\n",
      "_codecs_jp          cmath               msgpack             sre_constants\n",
      "_codecs_kr          cmd                 msilib              sre_parse\n",
      "_codecs_tw          code                msvcrt              ssl\n",
      "_collections        codecs              multipledispatch    sspi\n",
      "_collections_abc    codeop              multiprocessing     sspicon\n",
      "_compat_pickle      collections         my_module           stat\n",
      "_compression        colorama            navigator_updater   statistics\n",
      "_contextvars        colorsys            nbconvert           statsmodels\n",
      "_csv                commctrl            nbformat            storemagic\n",
      "_ctypes             compileall          netbios             string\n",
      "_ctypes_test        comtypes            netrc               stringprep\n",
      "_datetime           concurrent          networkx            struct\n",
      "_decimal            conda               nltk                subprocess\n",
      "_dummy_thread       conda_build         nntplib             sunau\n",
      "_elementtree        conda_env           nose                symbol\n",
      "_functools          conda_package_handling notebook            sympy\n",
      "_hashlib            conda_verify        nt                  sympyprinting\n",
      "_heapq              configparser        ntpath              symtable\n",
      "_imp                contextlib          ntsecuritycon       sys\n",
      "_io                 contextlib2         nturl2path          sysconfig\n",
      "_json               contextvars         numba               tables\n",
      "_locale             copy                numbers             tabnanny\n",
      "_lsprof             copyreg             numexpr             tarfile\n",
      "_lzma               crypt               numpy               tblib\n",
      "_markupbase         cryptography        numpydoc            telnetlib\n",
      "_md5                csv                 odbc                tempfile\n",
      "_msi                ctypes              olefile             terminado\n",
      "_multibytecodec     curl                opcode              test\n",
      "_multiprocessing    curses              openpyxl            test_data\n",
      "_nsis               cwp                 operator            test_pycosat\n",
      "_opcode             cycler              optparse            testpath\n",
      "_operator           cython              os                  tests\n",
      "_osx_support        cythonmagic         packaging           textwrap\n",
      "_overlapped         cytoolz             pandas              this\n",
      "_pickle             dask                pandocfilters       threading\n",
      "_py_abc             dataclasses         parser              time\n",
      "_pydecimal          datetime            parso               timeit\n",
      "_pyio               dateutil            partd               timer\n",
      "_pylief             dbi                 past                tkinter\n",
      "_pyrsistent_version dbm                 path                tlz\n",
      "_pytest             dde                 pathlib             token\n",
      "_queue              decimal             pathlib2            tokenize\n",
      "_random             decorator           patsy               toolz\n",
      "_sha1               defusedxml          pdb                 tornado\n",
      "_sha256             difflib             pep8                tqdm\n",
      "_sha3               dis                 perfmon             trace\n",
      "_sha512             distributed         pickle              traceback\n",
      "_signal             distutils           pickleshare         tracemalloc\n",
      "_sitebuiltins       dns                 pickletools         traitlets\n",
      "_socket             doctest             pip                 tty\n",
      "_sqlite3            docutils            pipes               turtle\n",
      "_sre                dummy_threading     pkg_resources       turtledemo\n",
      "_ssl                easy_install        pkginfo             types\n",
      "_stat               email               pkgutil             typing\n",
      "_string             encodings           platform            unicodecsv\n",
      "_strptime           ensurepip           plistlib            unicodedata\n",
      "_struct             entrypoints         pluggy              unittest\n",
      "_symtable           enum                ply                 urllib\n",
      "_system_path        errno               poplib              urllib3\n",
      "_testbuffer         et_xmlfile          posixpath           uu\n",
      "_testcapi           fastcache           pprint              uuid\n",
      "_testconsole        faulthandler        profile             venv\n",
      "_testimportmultiple filecmp             prometheus_client   warnings\n",
      "_testmultiphase     fileinput           prompt_toolkit      wave\n",
      "_thread             filelock            pstats              wcwidth\n",
      "_threading_local    flask               psutil              weakref\n",
      "_tkinter            fnmatch             pty                 webbrowser\n",
      "_tracemalloc        formatter           pvectorc            webencodings\n",
      "_warnings           fractions           py                  werkzeug\n",
      "_weakref            fsspec              py_compile          wheel\n",
      "_weakrefset         ftplib              pyclbr              widgetsnbextension\n",
      "_win32sysloader     functools           pycodestyle         win2kras\n",
      "_winapi             future              pycosat             win32api\n",
      "_winxptheme         gc                  pycparser           win32clipboard\n",
      "_yaml               genericpath         pycurl              win32com\n",
      "abc                 getopt              pydoc               win32con\n",
      "adodbapi            getpass             pydoc_data          win32console\n",
      "afxres              gettext             pyexpat             win32cred\n",
      "aifc                gevent              pyflakes            win32crypt\n",
      "alabaster           glob                pygments            win32cryptcon\n",
      "anaconda_navigator  glob2               pylab               win32event\n",
      "anaconda_project    greenlet            pylint              win32evtlog\n",
      "antigravity         gridfs              pymongo             win32evtlogutil\n",
      "argparse            gzip                pyodbc              win32file\n",
      "array               h5py                pyparsing           win32gui\n",
      "asn1crypto          hashlib             pyreadline          win32gui_struct\n",
      "ast                 heapdict            pyrsistent          win32help\n",
      "astroid             heapq               pytest              win32inet\n",
      "astropy             hmac                pytest_arraydiff    win32inetcon\n",
      "asynchat            html                pytest_doctestplus  win32job\n",
      "asyncio             html5lib            pytest_openfiles    win32lz\n",
      "asyncore            http                pytest_remotedata   win32net\n",
      "atexit              idlelib             pythoncom           win32netcon\n",
      "atomicwrites        idna                pytz                win32pdh\n",
      "attr                imageio             pywin               win32pdhquery\n",
      "audioop             imagesize           pywin32_testutil    win32pdhutil\n",
      "autoreload          imaplib             pywintypes          win32pipe\n",
      "babel               imghdr              pywt                win32print\n",
      "backcall            imp                 pyximport           win32process\n",
      "backports           importlib           qtawesome           win32profile\n",
      "base64              importlib_metadata  qtconsole           win32ras\n",
      "bdb                 inspect             qtpy                win32rcparser\n",
      "binascii            io                  queue               win32security\n",
      "binhex              ipaddress           quopri              win32service\n",
      "binstar_client      ipykernel           random              win32serviceutil\n",
      "bisect              ipykernel_launcher  rasutil             win32timezone\n",
      "bitarray            ipython_genutils    re                  win32trace\n",
      "bkcharts            ipywidgets          readline            win32traceutil\n",
      "bleach              isapi               regcheck            win32transaction\n",
      "bokeh               iso8601             regutil             win32ts\n",
      "boto                isort               reprlib             win32ui\n",
      "bottleneck          isympy              requests            win32uiole\n",
      "brain_argparse      itertools           rlcompleter         win32verstamp\n",
      "brain_attrs         itsdangerous        rmagic              win32wnet\n",
      "brain_builtin_inference jdcal               rope                win_inet_pton\n",
      "brain_collections   jedi                ruamel_yaml         win_unicode_console\n",
      "brain_crypt         jinja2              run                 wincertstore\n",
      "brain_curses        joblib              runpy               winerror\n",
      "brain_dataclasses   json                sched               winioctlcon\n",
      "brain_dateutil      json5               scipy               winnt\n",
      "brain_fstrings      jsonschema          scripts             winperf\n",
      "brain_functools     jupyter             seaborn             winpty\n",
      "brain_gi            jupyter_client      secrets             winreg\n",
      "brain_hashlib       jupyter_console     select              winsound\n",
      "brain_http          jupyter_core        selectors           winxpgui\n",
      "brain_io            jupyterlab          send2trash          winxptheme\n",
      "brain_mechanize     jupyterlab_server   servicemanager      wrapt\n",
      "brain_multiprocessing keyring             setuptools          wsgiref\n",
      "brain_namedtuple_enum keyword             shelve              xdrlib\n",
      "brain_nose          kiwisolver          shlex               xlrd\n",
      "brain_numpy_core_fromnumeric lazy_object_proxy   shutil              xlsxwriter\n",
      "brain_numpy_core_function_base lib2to3             signal              xlwings\n",
      "brain_numpy_core_multiarray libarchive          simplegeneric       xlwt\n",
      "brain_numpy_core_numeric libfuturize         singledispatch      xml\n",
      "brain_numpy_core_numerictypes libpasteurize       singledispatch_helpers xmlrpc\n",
      "brain_numpy_core_umath lief                sip                 xxsubtype\n",
      "brain_numpy_ndarray linecache           sipconfig           yaml\n",
      "brain_numpy_random_mtrand llvmlite            sipdistutils        zict\n",
      "brain_numpy_utils   locale              site                zipapp\n",
      "brain_pkg_resources locket              six                 zipfile\n",
      "brain_pytest        logging             skimage             zipimport\n",
      "brain_qt            lxml                sklearn             zipp\n",
      "brain_random        lzma                smtpd               zlib\n",
      "brain_re            macpath             smtplib             zmq\n",
      "brain_six           mailbox             sndhdr              \n",
      "brain_ssl           mailcap             snowballstemmer     \n",
      "\n",
      "Enter any module name to get more help.  Or, type \"modules spam\" to search\n",
      "for modules whose name or summary contain the string \"spam\".\n",
      "\n"
     ]
    }
   ],
   "source": [
    "help(print)\n",
    "help('modules')"
   ]
  },
  {
   "cell_type": "code",
   "execution_count": 69,
   "metadata": {},
   "outputs": [
    {
     "name": "stderr",
     "output_type": "stream",
     "text": [
      "Hello stderr\n"
     ]
    }
   ],
   "source": [
    "import sys\n",
    "print(\"Hello stderr\", file=sys.stderr)"
   ]
  },
  {
   "cell_type": "code",
   "execution_count": 70,
   "metadata": {},
   "outputs": [
    {
     "name": "stderr",
     "output_type": "stream",
     "text": [
      "Hello stderr\n"
     ]
    }
   ],
   "source": [
    "import functools\n",
    "print_stderr = functools.partial(print, file=sys.stderr)\n",
    "print_stderr(\"Hello stderr\")"
   ]
  },
  {
   "cell_type": "markdown",
   "metadata": {},
   "source": [
    "We've looked at some of the most commonly used Python standard library modules in this section. You should now have an understanding on interfacing with the native system that your Python is running on, how to correctly log your software's run time, a few quality of life / convience feature for developers to work with data classes, dates and times, and dictionaries as well as handling multi-threaded code with subprocesses. We also looked at function caching and function partials for higher relative developer convience. Extending these libraries in your own software project will help you strive for more Pythonic code and be more productive as a software engineer. The goal is to develop code in the fastest but most accurate way possible so it is important to use all the tools available to you that help you achieve this speed and accuracy. "
   ]
  },
  {
   "cell_type": "markdown",
   "metadata": {},
   "source": [
    "Next module we are going to cover the all important topic of writing Pythonic code. Pythonic code is what we have been striving for the entirety of this course. This next section will be our magnum opus, our event horizon, our true peak of performance. "
   ]
  }
 ],
 "metadata": {
  "kernelspec": {
   "display_name": "Python 3",
   "language": "python",
   "name": "python3"
  },
  "language_info": {
   "codemirror_mode": {
    "name": "ipython",
    "version": 3
   },
   "file_extension": ".py",
   "mimetype": "text/x-python",
   "name": "python",
   "nbconvert_exporter": "python",
   "pygments_lexer": "ipython3",
   "version": "3.7.4"
  }
 },
 "nbformat": 4,
 "nbformat_minor": 2
}
