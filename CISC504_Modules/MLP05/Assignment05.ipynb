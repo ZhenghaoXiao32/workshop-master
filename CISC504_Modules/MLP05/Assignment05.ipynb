{
 "cells": [
  {
   "cell_type": "markdown",
   "metadata": {},
   "source": [
    " <h1 style=\"text-align:center\">Harrisburg University of Science & Technology</h1>\n",
    "    <h2 style=\"text-align:center\">CISC 504 Principles of Programming Languages </h2>\n",
    "    <h3 style=\"text-align:center\">Assignment 5: Constructing Python Classes</h3>\n"
   ]
  },
  {
   "cell_type": "markdown",
   "metadata": {},
   "source": [
    "<h3>Instructions:</h3>\n",
    "<li/>Use as many code cells as you need to implement the tasks in below.\n",
    "<li/>Submit a Jupyter Notebook (iPython) doc including a 5 minutes walk-through recording (a YouTube recordings is highly recommended.)\n",
    "<li/><b>DO NOT JUST SUBMIT THE NOTEBOOK</b>"
   ]
  },
  {
   "cell_type": "markdown",
   "metadata": {},
   "source": [
    "<h3>(1) Creating Classes and Inheriting from a Parent Class</h3>\n",
    "<p>Suppose you are writing a computer game where the graphics are made up of various types of shapes. Each shape has certain properties, such as the number of edges, area, color, and so on. The shapes also behave in different ways. You want to be able to customize the way each shape behaves independently, while also not duplicating any code between the definition of each shape.</p>\n",
    "<p> For this assignment you will:<br/>\n",
    "    1. Create a Polygon class.<br/>\n",
    "    2. Add a <code>num_sides</code> property to the Polygon class.<br/>\n",
    "    3. Add a <code>perimeter</code> property to the Polygon class.<br/>\n",
    "    4. Add a <code>__str__</code> method that states \"Polygon with <b>X</b> sides\" where <b>X</b> is the number of sides the instances of the Polygon has. <br/>\n",
    "    5. Create a child class called Rectangle that inherits from the Polygon class. The rectangle should have a constructor that accept two arguments: <code>height</code> and <code>width</code>. <br/>\n",
    "    6. Add an <code>area</code> property to the Rectangle class.<br/>\n",
    "    7. Create a rectangle that has an area of 5 and a perimeter of 12. (5 by 1)<br/>\n",
    "    8. Create another child class, Square, the inherits from Rectangle. <br/>\n",
    "    9. Make a new constructor for the square that calls the parent constructor but passes the same <code>height</code> parameter twice. The Square class constructor should only take one paremeter. (Take one paremeter and pass it up as both parameters to the parent's constructor)<br/>\n",
    "    10. Create a Square object that has an area of 25 and a perimeter of 20. (5 by 5)</p>"
   ]
  },
  {
   "cell_type": "code",
   "execution_count": null,
   "metadata": {},
   "outputs": [],
   "source": []
  }
 ],
 "metadata": {
  "kernelspec": {
   "display_name": "Python 3",
   "language": "python",
   "name": "python3"
  },
  "language_info": {
   "codemirror_mode": {
    "name": "ipython",
    "version": 3
   },
   "file_extension": ".py",
   "mimetype": "text/x-python",
   "name": "python",
   "nbconvert_exporter": "python",
   "pygments_lexer": "ipython3",
   "version": "3.7.4"
  }
 },
 "nbformat": 4,
 "nbformat_minor": 2
}
