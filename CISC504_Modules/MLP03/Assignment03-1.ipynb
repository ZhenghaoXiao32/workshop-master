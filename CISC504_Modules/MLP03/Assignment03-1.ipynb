{
 "cells": [
  {
   "cell_type": "markdown",
   "metadata": {},
   "source": [
    " <h1 style=\"text-align:center\">Harrisburg University of Science & Technology</h1>\n",
    "    <h2 style=\"text-align:center\">CISC 504 Principles of Programming Languages </h2>\n",
    "    <h3 style=\"text-align:center\">Assignment 3.1: Programs Algorithms and Functions (Part 1)</h3>\n"
   ]
  },
  {
   "cell_type": "markdown",
   "metadata": {},
   "source": [
    "<h3>Instructions:</h3>\n",
    "<li/>Use as many code cells as you need to implement the tasks in below.\n",
    "<li/>Submit a Jupyter Notebook (iPython) doc including a 5 minutes walk-through recording (a YouTube recordings is highly recommended.)\n",
    "<li/><b>DO NOT JUST SUBMIT THE NOTEBOOK</b>"
   ]
  },
  {
   "cell_type": "markdown",
   "metadata": {},
   "source": [
    "<h3>(1) What's the Time</h3>\n",
    "<b>Build a Python script that tells you the current time.</b>  <br/>\n",
    "\n",
    "\n",
    "1. Create a new script called <code>current_time.py</code> in Jupyter or a text editor.\n",
    "2. Add a docstring to the script to explain what it does.\n",
    "3. Import the datetime module.\n",
    "4. Get the current time using <code>datetime.now()</code>.\n",
    "5. Print the result, but only if the script is to be executed. *** <i><small>hint, __name__==__main__</small></i>\n",
    "6. Execute the script in the terminal to check if it prints the time.\n",
    "7. Import the time into a Python console and check if the console output does not print the time.\n",
    "\n",
    "The output of the terminal should be in this format:\n",
    "HH:MM:SS.SSSSSS\n"
   ]
  },
  {
   "cell_type": "code",
   "execution_count": null,
   "metadata": {},
   "outputs": [],
   "source": []
  },
  {
   "cell_type": "markdown",
   "metadata": {},
   "source": [
    "<h3>(2) Formatting Customer Names</h3>\n",
    "<b>Build a function that displays a customer's name and location if applicable</b>  <br/>\n",
    "Suppose that you are building a Customer Relationship Management (CRM) system, and you want to display a user record in the following format: John Smith (California). However, if you don't have a location in your system, you just want to see \"John Smith.\"\n",
    "Create a <code>format_customer()</code> function that takes two required positional arguments, <code>first_ name</code> and <code>last_name</code>, and one optional keyword argument, <code>location</code>. It should return a string in the required format.\n",
    "1. Create the <code>customer.py</code> file.\n",
    "2. Define the <code>format_customer()</code> function.\n",
    "3. Open a Python shell (Or Jupyter Notebook) and import your <code>format_customer()</code> function.\n",
    "4. Try running a few examples. The calls should look like this:\n",
    "<p>\n",
    "<code>from customer import format_customer</code><br/>\n",
    "<code>format_customer('John', 'Smith', location='California')</code>\n",
    "</p>\n",
    "<p>and the output should look like this:</p>\n",
    "<code>John Smith (California)</code>"
   ]
  },
  {
   "cell_type": "code",
   "execution_count": null,
   "metadata": {},
   "outputs": [],
   "source": []
  },
  {
   "cell_type": "markdown",
   "metadata": {},
   "source": [
    "<h3>(3) The Fibonacci Function with an Iteration</h3>\n",
    "<b>Calculate a Fibonacci sequence</b> <br/>\n",
    "You work in an IT firm, and your colleague has realized that being able to quickly compute elements of the Fibonacci sequence will reduce the time taken to execute the testing suite on one of your internal applications. You will use an iterative approach to create a fibonacci_iterative function that returns the nth value in the Fibonacci sequence.\n",
    "\n",
    "1. Create a <code>fibonacci.py</code> file.\n",
    "2. Define a <code>fibonacci_iterative</code> function that takes a single positional argument representing which number term in the sequence you want to return.\n",
    "3. Run the following code:<br/>\n",
    "\n",
    "<code>from fibonacci import fibonacci_iterative<br/> fibonacci_iterative(3)</code><br/>\n",
    "You should get the following output:<br/>\n",
    "2<br/>\n",
    "Another example to test your code can be as mentioned in the following code snippet:<br/>\n",
    "\n",
    "<code>fibonacci_iterative(10)</code>\n",
    "\n",
    "<br/>\n",
    "You should get the following output: <br/>\n",
    "55"
   ]
  },
  {
   "cell_type": "code",
   "execution_count": null,
   "metadata": {},
   "outputs": [],
   "source": []
  },
  {
   "cell_type": "markdown",
   "metadata": {},
   "source": [
    "<h3>(4) The Fibonnaci Function with Recursion</h3><b>Remake your previous fibonacci program as a recursive function</b>\n"
   ]
  },
  {
   "cell_type": "code",
   "execution_count": null,
   "metadata": {},
   "outputs": [],
   "source": []
  }
 ],
 "metadata": {
  "kernelspec": {
   "display_name": "Python 3",
   "language": "python",
   "name": "python3"
  },
  "language_info": {
   "codemirror_mode": {
    "name": "ipython",
    "version": 3
   },
   "file_extension": ".py",
   "mimetype": "text/x-python",
   "name": "python",
   "nbconvert_exporter": "python",
   "pygments_lexer": "ipython3",
   "version": "3.7.4"
  }
 },
 "nbformat": 4,
 "nbformat_minor": 2
}
