{
 "cells": [
  {
   "cell_type": "markdown",
   "metadata": {},
   "source": [
    " <h1 style=\"text-align:center\">Harrisburg University of Science & Technology</h1>\n",
    "    <h2 style=\"text-align:center\">CISC 504 Principles of Programming Languages </h2>\n",
    "    <h3 style=\"text-align:center\">Assignment 2: Python Structures</h3>\n"
   ]
  },
  {
   "cell_type": "markdown",
   "metadata": {},
   "source": [
    "<h3>Instructions:</h3>\n",
    "<li/>Use as many code cells as you need to implement the tasks in below.\n",
    "<li/>Submit a Jupyter Notebook (iPython) doc including a 5 minutes walk-through recording (a YouTube recordings is highly recommended.)\n",
    "<li/><b>DO NOT JUST SUBMIT THE NOTEBOOK</b>"
   ]
  },
  {
   "cell_type": "markdown",
   "metadata": {},
   "source": [
    "<h3>(1) Using a Nested List to Store Employee Data</h3>\n",
    "<b> You are going to store table data using a nested list.</b>  <br/>\n",
    " Imagine this: you are currently working in an IT company and are given the following list of employees. You are asked by your manager to use Python to store this data for further company use.\n",
    " The data is provided as follows:\n",
    " <table>\n",
    "    <thead>\n",
    "        <tr>\n",
    "            <th>Name</th>\n",
    "            <th>Age</th>\n",
    "            <th>Department</th>\n",
    "        </tr>\n",
    "    </thead>\n",
    "    <tbody>\n",
    "        <tr>\n",
    "            <td>John Mckee</td>\n",
    "            <td>38</td>\n",
    "            <td>Sales</td>\n",
    "        </tr>\n",
    "        <tr>\n",
    "            <td>Lisa Crawford</td>\n",
    "            <td>29</td>\n",
    "            <td>Marketing</td>\n",
    "        </tr>\n",
    "        <tr>\n",
    "            <td>Sujan Patel</td>\n",
    "            <td>33</td>\n",
    "            <td>HR</td>\n",
    "        </tr>\n",
    "    </tbody>\n",
    "</table>\n",
    "<b>Your objectives are as follows:</b>\n",
    "\n",
    "\n",
    "- Create a list and assign it to employees.\n",
    "- Create three nested lists in employees to store the information of each employee, respectively.\n",
    "- Print the employees variable.\n",
    "- Print the details of all employees in a presentable format.\n",
    "- Print only the details of Lisa Crawford.\n",
    "    "
   ]
  },
  {
   "cell_type": "code",
   "execution_count": null,
   "metadata": {},
   "outputs": [],
   "source": []
  },
  {
   "cell_type": "markdown",
   "metadata": {},
   "source": [
    "<h3>(2) Storing Company Employee Table Data Using a List and a Dictionary</h3>\n",
    "<b>You are going to store and access the data more effectively using these two data types — lists and dictionaries:</b> <br/>\n",
    "Using the same data and premise as before, use the two new data structures to perform the following objectives:\n",
    "\n",
    "\n",
    "- Create a list named employees.\n",
    "- Create three dictionary objects inside employees to store the information of each employee.\n",
    "- Print the employees variable.\n",
    "- Print the details of all employees in a presentable format.\n",
    "- Print only the details of Sujan Patel."
   ]
  },
  {
   "cell_type": "code",
   "execution_count": null,
   "metadata": {},
   "outputs": [],
   "source": []
  }
 ],
 "metadata": {
  "kernelspec": {
   "display_name": "Python 3",
   "language": "python",
   "name": "python3"
  },
  "language_info": {
   "codemirror_mode": {
    "name": "ipython",
    "version": 3
   },
   "file_extension": ".py",
   "mimetype": "text/x-python",
   "name": "python",
   "nbconvert_exporter": "python",
   "pygments_lexer": "ipython3",
   "version": "3.7.4"
  }
 },
 "nbformat": 4,
 "nbformat_minor": 2
}
