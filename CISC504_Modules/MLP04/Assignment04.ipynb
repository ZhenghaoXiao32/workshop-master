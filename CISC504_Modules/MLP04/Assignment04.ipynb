{
 "cells": [
  {
   "cell_type": "markdown",
   "metadata": {},
   "source": [
    " <h1 style=\"text-align:center\">Harrisburg University of Science & Technology</h1>\n",
    "    <h2 style=\"text-align:center\">CISC 504 Principles of Programming Languages </h2>\n",
    "    <h3 style=\"text-align:center\">Assignment 4: Extending Python, Files, Errors, and Graphs</h3>\n"
   ]
  },
  {
   "cell_type": "markdown",
   "metadata": {},
   "source": [
    "<h3>Instructions:</h3>\n",
    "<li/>Use as many code cells as you need to implement the tasks in below.\n",
    "<li/>Submit a Jupyter Notebook (iPython) doc including a 5 minutes walk-through recording (a YouTube recordings is highly recommended.)\n",
    "<li/><b>DO NOT JUST SUBMIT THE NOTEBOOK</b>"
   ]
  },
  {
   "cell_type": "markdown",
   "metadata": {},
   "source": [
    "<h3>(1) Visualizing the Titanic Dataset Using a Pie Chart and Bar Plots</h3>\n",
    "<p>Charts are not only a useful visualization device in presentations and reports; they also play a crucial role in Exploratory Data Analysis (EDA).</p>\n",
    "<p>\n",
    "    You will be using the famous Titanic Train dataset. Here, you will focus on plotting the expected data. The steps to load the dataset will be covered in the later chapters of this book. For this assignment, the steps that you need to complete are as follows in the next code cell:</p>\n",
    "    \n",
    "    \n",
    "    "
   ]
  },
  {
   "cell_type": "code",
   "execution_count": 3,
   "metadata": {},
   "outputs": [],
   "source": [
    "import csv\n",
    "lines = []\n",
    "with open('titanic_train.csv') as csv_file:\n",
    "    csv_reader = csv.reader(csv_file, delimiter=',') \n",
    "    for line in csv_reader:\n",
    "        lines.append(line)\n",
    "        "
   ]
  },
  {
   "cell_type": "markdown",
   "metadata": {},
   "source": [
    "<p>Now you have a list variable named <code>lines</code> that contains all the contents from the CSV. Each row in the CSV is saved as an sublist inside lines. Remember that the first index is the names of the columns. \n",
    "\n",
    "From here you need to:\n",
    "<li/> Store the data in data strucutre respective to their column \n",
    "<li/> Extract the following fields into their respective lists: survived, pclass, age, and gender for the passengers who survived\n",
    "<li/> Generate plots for the following criteria: <br/>\n",
    "\n",
    "</p>\n",
    "1. Surivors of the incident (pie chart)<br/>\n",
    "2. Gender breakdown of the survirors (bar chart)\n",
    "\n",
    "<p>\n",
    "    Take note that the second column is the survived for not data column. A <b>1</b> indicates a person who survived the event, a <b>0</b> indicates the person did not survive. \n",
    "</p>"
   ]
  },
  {
   "cell_type": "code",
   "execution_count": null,
   "metadata": {},
   "outputs": [],
   "source": []
  }
 ],
 "metadata": {
  "kernelspec": {
   "display_name": "Python 3",
   "language": "python",
   "name": "python3"
  },
  "language_info": {
   "codemirror_mode": {
    "name": "ipython",
    "version": 3
   },
   "file_extension": ".py",
   "mimetype": "text/x-python",
   "name": "python",
   "nbconvert_exporter": "python",
   "pygments_lexer": "ipython3",
   "version": "3.7.4"
  }
 },
 "nbformat": 4,
 "nbformat_minor": 2
}
